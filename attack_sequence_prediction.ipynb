{
  "nbformat": 4,
  "nbformat_minor": 0,
  "metadata": {
    "colab": {
      "name": "attack sequence prediction.ipynb",
      "provenance": [],
      "collapsed_sections": []
    },
    "kernelspec": {
      "name": "python3",
      "display_name": "Python 3"
    },
    "accelerator": "GPU"
  },
  "cells": [
    {
      "cell_type": "code",
      "metadata": {
        "colab": {
          "base_uri": "https://localhost:8080/"
        },
        "id": "R4AWqs2P5yW_",
        "outputId": "cf7c334b-3d6a-4ffb-ab80-169e7e945673"
      },
      "source": [
        "!nvidia-smi"
      ],
      "execution_count": null,
      "outputs": [
        {
          "output_type": "stream",
          "text": [
            "Tue Feb 16 12:54:06 2021       \n",
            "+-----------------------------------------------------------------------------+\n",
            "| NVIDIA-SMI 460.39       Driver Version: 460.32.03    CUDA Version: 11.2     |\n",
            "|-------------------------------+----------------------+----------------------+\n",
            "| GPU  Name        Persistence-M| Bus-Id        Disp.A | Volatile Uncorr. ECC |\n",
            "| Fan  Temp  Perf  Pwr:Usage/Cap|         Memory-Usage | GPU-Util  Compute M. |\n",
            "|                               |                      |               MIG M. |\n",
            "|===============================+======================+======================|\n",
            "|   0  Tesla K80           Off  | 00000000:00:04.0 Off |                    0 |\n",
            "| N/A   41C    P0    60W / 149W |    263MiB / 11441MiB |      0%      Default |\n",
            "|                               |                      |                  N/A |\n",
            "+-------------------------------+----------------------+----------------------+\n",
            "                                                                               \n",
            "+-----------------------------------------------------------------------------+\n",
            "| Processes:                                                                  |\n",
            "|  GPU   GI   CI        PID   Type   Process name                  GPU Memory |\n",
            "|        ID   ID                                                   Usage      |\n",
            "|=============================================================================|\n",
            "+-----------------------------------------------------------------------------+\n"
          ],
          "name": "stdout"
        }
      ]
    },
    {
      "cell_type": "markdown",
      "metadata": {
        "id": "66ElJXZIy4S8"
      },
      "source": [
        "# Experiment 2\n",
        "<font size=5>We'll use an encoder-decoder architecture which is good for seq2seq models. Some portion of our sequences will be used for encoder input and rest for decoder inputs.</font>"
      ]
    },
    {
      "cell_type": "markdown",
      "metadata": {
        "id": "nS8NTwd09rKN"
      },
      "source": [
        "We'll first use teacher forcing for training."
      ]
    },
    {
      "cell_type": "code",
      "metadata": {
        "id": "ZE3dHxtZuHsO",
        "colab": {
          "base_uri": "https://localhost:8080/"
        },
        "outputId": "3de32cba-7d9a-4658-e501-0031009fddc4"
      },
      "source": [
        "# mount drive\n",
        "from google.colab import drive\n",
        "drive.mount('/content/drive', force_remount=True)"
      ],
      "execution_count": null,
      "outputs": [
        {
          "output_type": "stream",
          "text": [
            "Mounted at /content/drive\n"
          ],
          "name": "stdout"
        }
      ]
    },
    {
      "cell_type": "code",
      "metadata": {
        "id": "d4pS5oi52lTV",
        "colab": {
          "base_uri": "https://localhost:8080/"
        },
        "outputId": "977c1901-69a8-4fdd-eacd-b70451e9fd9d"
      },
      "source": [
        "%cd /content/drive/MyDrive/Thesis/Attack\\ Step\\ Prediction/Implementation\n",
        "!ls"
      ],
      "execution_count": null,
      "outputs": [
        {
          "output_type": "stream",
          "text": [
            "/content/drive/MyDrive/Thesis/Attack Step Prediction/Implementation\n",
            "APTGen_json\t __pycache__  s2s_stacked    test_data_sequence.txt\n",
            "aptgen_utils.py  s2s_normal   sequences.csv  unique_steps.txt\n"
          ],
          "name": "stdout"
        }
      ]
    },
    {
      "cell_type": "code",
      "metadata": {
        "id": "kR8m8QbR-DIE"
      },
      "source": [
        "import tensorflow as tf\n",
        "import numpy as np\n",
        "import random\n",
        "import csv\n",
        "\n",
        "import aptgen_utils"
      ],
      "execution_count": null,
      "outputs": []
    },
    {
      "cell_type": "code",
      "metadata": {
        "colab": {
          "base_uri": "https://localhost:8080/"
        },
        "id": "XLsO9090-EW-",
        "outputId": "a5ecc0a9-177e-42d2-9499-73f78011f6db"
      },
      "source": [
        "# to reflect the changes, the module needs to be reloaded\n",
        "import importlib\n",
        "importlib.reload(aptgen_utils)"
      ],
      "execution_count": null,
      "outputs": [
        {
          "output_type": "execute_result",
          "data": {
            "text/plain": [
              "<module 'aptgen_utils' from '/content/drive/MyDrive/Thesis/Attack Step Prediction/Implementation/aptgen_utils.py'>"
            ]
          },
          "metadata": {
            "tags": []
          },
          "execution_count": 4
        }
      ]
    },
    {
      "cell_type": "markdown",
      "metadata": {
        "id": "PFKUB_hODM67"
      },
      "source": [
        "# Data Preprocessing"
      ]
    },
    {
      "cell_type": "code",
      "metadata": {
        "colab": {
          "base_uri": "https://localhost:8080/"
        },
        "id": "OErpNauQ-IdS",
        "outputId": "199225c1-6d49-49bb-c544-5940302e342a"
      },
      "source": [
        "# get attack sequences as list of lists\n",
        "data_text = aptgen_utils.get_data_text()\n",
        "print(data_text[0])\n",
        "len(data_text)"
      ],
      "execution_count": null,
      "outputs": [
        {
          "output_type": "stream",
          "text": [
            "['collection TA0009 Email_Collection T1114', 'credential_access TA0006 Credential_Dumping T1003', 'discovery TA0007 System_Information_Discovery T1082', 'collection TA0009 Email_Collection T1114', 'defense_evasion TA0005 File_Deletion T1107', 'persistence TA0003 Scheduled_Task T1053', 'discovery TA0007 System_Information_Discovery T1082', 'collection TA0009 Email_Collection T1114']\n"
          ],
          "name": "stdout"
        },
        {
          "output_type": "execute_result",
          "data": {
            "text/plain": [
              "800"
            ]
          },
          "metadata": {
            "tags": []
          },
          "execution_count": 5
        }
      ]
    },
    {
      "cell_type": "markdown",
      "metadata": {
        "id": "6ubeqncTBaL8"
      },
      "source": [
        "We'll strip all spaces so that `Tokenizer()` can build *word_index* later."
      ]
    },
    {
      "cell_type": "code",
      "metadata": {
        "colab": {
          "base_uri": "https://localhost:8080/"
        },
        "id": "2_kJgvrq_uxM",
        "outputId": "16e268c2-3f8b-462b-c42e-c5d5759ed9bd"
      },
      "source": [
        "# strip all spaces from data_text\n",
        "data_text = [[''.join(''.join(step).split()) for step in data] for data in data_text]\n",
        "print(data_text[0])\n",
        "len(data_text)"
      ],
      "execution_count": null,
      "outputs": [
        {
          "output_type": "stream",
          "text": [
            "['collectionTA0009Email_CollectionT1114', 'credential_accessTA0006Credential_DumpingT1003', 'discoveryTA0007System_Information_DiscoveryT1082', 'collectionTA0009Email_CollectionT1114', 'defense_evasionTA0005File_DeletionT1107', 'persistenceTA0003Scheduled_TaskT1053', 'discoveryTA0007System_Information_DiscoveryT1082', 'collectionTA0009Email_CollectionT1114']\n"
          ],
          "name": "stdout"
        },
        {
          "output_type": "execute_result",
          "data": {
            "text/plain": [
              "800"
            ]
          },
          "metadata": {
            "tags": []
          },
          "execution_count": 6
        }
      ]
    },
    {
      "cell_type": "markdown",
      "metadata": {
        "id": "JMXXwXwaBq39"
      },
      "source": [
        "Now, let's find the frequency of different sequence length to determine how much timestep of input should go to the encoder and decoder."
      ]
    },
    {
      "cell_type": "code",
      "metadata": {
        "colab": {
          "base_uri": "https://localhost:8080/",
          "height": 482
        },
        "id": "rL08OFC0CP_C",
        "outputId": "fbec6958-4483-4f89-f3d0-6dc41ad07c92"
      },
      "source": [
        "from collections import Counter\n",
        "import matplotlib.pyplot as plt\n",
        "\n",
        "# get length of different sequences in a list\n",
        "sequence_lengths = [len(sequence) for sequence in data_text]\n",
        "print(sequence_lengths)\n",
        "\n",
        "counter = Counter(sequence_lengths)\n",
        "print(\"Frequncy of sequence lengths:\", counter)\n",
        "print(\"Number of unique sequence lengths:\", len(counter.keys()))\n",
        "\n",
        "plt.figure(figsize=(15, 6))\n",
        "x = [key for key in counter.keys()]\n",
        "y = [val for val in counter.values()]\n",
        "\n",
        "plt.xticks(x)\n",
        "plt.stem(x, y)"
      ],
      "execution_count": null,
      "outputs": [
        {
          "output_type": "stream",
          "text": [
            "[8, 8, 8, 8, 8, 8, 8, 8, 8, 8, 8, 8, 8, 8, 8, 8, 8, 8, 8, 8, 4, 4, 5, 6, 6, 8, 12, 12, 13, 13, 14, 14, 14, 15, 15, 15, 16, 16, 18, 18, 7, 7, 7, 8, 8, 9, 9, 9, 9, 9, 10, 11, 11, 12, 12, 12, 12, 12, 13, 13, 6, 8, 9, 10, 13, 17, 18, 19, 19, 21, 21, 21, 22, 23, 24, 25, 25, 25, 25, 26, 16, 16, 17, 19, 19, 22, 22, 22, 24, 26, 27, 27, 28, 29, 29, 30, 31, 32, 34, 35, 8, 8, 8, 8, 8, 8, 8, 8, 8, 8, 8, 8, 8, 8, 8, 8, 8, 8, 8, 8, 6, 12, 12, 12, 12, 12, 14, 14, 14, 15, 15, 15, 16, 16, 16, 17, 18, 18, 18, 20, 6, 6, 7, 7, 8, 9, 9, 9, 10, 10, 10, 11, 11, 12, 13, 14, 14, 16, 18, 21, 4, 6, 7, 8, 11, 13, 15, 17, 17, 18, 18, 19, 20, 22, 22, 24, 25, 25, 25, 25, 13, 14, 16, 17, 17, 18, 20, 20, 24, 25, 25, 26, 26, 26, 27, 27, 28, 28, 29, 30, 8, 8, 8, 8, 8, 8, 8, 8, 8, 8, 8, 8, 8, 8, 8, 8, 8, 8, 8, 8, 5, 6, 7, 7, 9, 11, 12, 12, 13, 13, 13, 14, 14, 14, 15, 16, 16, 18, 18, 19, 9, 9, 11, 12, 12, 13, 13, 14, 14, 14, 15, 15, 15, 15, 16, 16, 16, 16, 17, 18, 14, 14, 15, 16, 17, 18, 18, 19, 19, 20, 20, 21, 21, 21, 22, 22, 22, 22, 22, 23, 11, 17, 18, 19, 21, 21, 21, 23, 24, 24, 25, 27, 27, 27, 28, 28, 28, 29, 29, 30, 8, 8, 8, 8, 8, 8, 8, 8, 8, 8, 8, 8, 8, 8, 8, 8, 8, 8, 8, 8, 4, 4, 6, 6, 7, 7, 11, 11, 11, 13, 14, 14, 15, 15, 15, 15, 16, 17, 17, 17, 8, 11, 12, 12, 13, 13, 13, 14, 14, 15, 15, 15, 16, 16, 17, 17, 17, 17, 18, 18, 19, 22, 22, 23, 25, 25, 26, 27, 27, 28, 29, 29, 30, 30, 30, 31, 32, 32, 32, 32, 16, 20, 21, 22, 24, 25, 26, 28, 28, 29, 30, 31, 32, 32, 33, 33, 33, 33, 34, 34, 5, 5, 5, 5, 5, 5, 5, 5, 5, 5, 6, 6, 6, 7, 7, 7, 9, 9, 9, 9, 6, 6, 6, 6, 6, 6, 7, 7, 7, 8, 8, 8, 9, 9, 10, 10, 10, 10, 11, 12, 5, 5, 5, 6, 6, 6, 7, 7, 7, 7, 7, 7, 7, 8, 8, 9, 10, 11, 12, 13, 9, 10, 12, 13, 13, 14, 14, 14, 17, 18, 18, 18, 19, 20, 21, 21, 22, 22, 22, 22, 6, 7, 8, 10, 12, 14, 14, 14, 14, 14, 14, 16, 16, 17, 17, 18, 19, 20, 21, 22, 6, 6, 6, 6, 6, 6, 7, 7, 8, 8, 8, 9, 9, 9, 9, 9, 10, 10, 10, 11, 9, 11, 12, 12, 13, 13, 14, 14, 14, 15, 15, 15, 16, 16, 16, 17, 18, 19, 19, 19, 6, 6, 8, 8, 9, 9, 9, 11, 11, 12, 12, 13, 13, 13, 13, 15, 16, 16, 16, 16, 8, 12, 12, 12, 14, 14, 14, 14, 14, 16, 17, 19, 20, 21, 21, 22, 22, 23, 23, 24, 7, 8, 10, 11, 11, 12, 12, 13, 14, 15, 15, 16, 16, 17, 18, 18, 18, 21, 21, 22, 5, 5, 5, 6, 7, 7, 7, 8, 8, 9, 9, 9, 10, 11, 11, 11, 11, 11, 12, 12, 6, 6, 6, 7, 8, 8, 8, 9, 10, 10, 10, 11, 12, 13, 13, 13, 14, 14, 14, 15, 5, 5, 5, 5, 5, 5, 5, 5, 5, 5, 5, 6, 6, 6, 6, 7, 7, 7, 7, 8, 7, 8, 8, 9, 10, 10, 11, 12, 12, 13, 14, 15, 15, 15, 15, 16, 16, 16, 16, 17, 8, 8, 9, 12, 12, 12, 13, 14, 14, 14, 15, 15, 15, 15, 16, 16, 17, 17, 17, 18, 6, 6, 6, 6, 6, 6, 6, 6, 6, 6, 6, 6, 6, 6, 6, 6, 6, 6, 6, 6, 6, 6, 7, 8, 8, 8, 8, 9, 9, 10, 10, 10, 11, 12, 12, 13, 13, 14, 15, 15, 12, 12, 13, 14, 14, 14, 14, 15, 15, 15, 15, 16, 16, 18, 18, 18, 19, 19, 19, 22, 7, 7, 8, 8, 8, 9, 9, 9, 9, 9, 10, 10, 10, 10, 11, 11, 11, 11, 12, 12, 6, 9, 9, 12, 12, 12, 13, 13, 14, 14, 14, 14, 14, 15, 15, 15, 15, 16, 16, 17]\n",
            "Frequncy of sequence lengths: Counter({8: 117, 6: 62, 14: 56, 12: 49, 15: 45, 9: 44, 16: 42, 7: 39, 13: 37, 11: 32, 18: 30, 5: 29, 10: 29, 17: 28, 22: 23, 19: 19, 21: 18, 25: 14, 20: 10, 27: 9, 28: 9, 24: 8, 29: 8, 26: 7, 30: 7, 32: 7, 23: 6, 4: 5, 33: 4, 31: 3, 34: 3, 35: 1})\n",
            "Number of unique sequence lengths: 32\n"
          ],
          "name": "stdout"
        },
        {
          "output_type": "stream",
          "text": [
            "/usr/local/lib/python3.6/dist-packages/ipykernel_launcher.py:17: UserWarning: In Matplotlib 3.3 individual lines on a stem plot will be added as a LineCollection instead of individual lines. This significantly improves the performance of a stem plot. To remove this warning and switch to the new behaviour, set the \"use_line_collection\" keyword argument to True.\n"
          ],
          "name": "stderr"
        },
        {
          "output_type": "execute_result",
          "data": {
            "text/plain": [
              "<StemContainer object of 3 artists>"
            ]
          },
          "metadata": {
            "tags": []
          },
          "execution_count": 7
        },
        {
          "output_type": "display_data",
          "data": {
            "image/png": "[encoded data removed]",
            "text/plain": [
              "<Figure size 1080x432 with 1 Axes>"
            ]
          },
          "metadata": {
            "tags": [],
            "needs_background": "light"
          }
        }
      ]
    },
    {
      "cell_type": "code",
      "metadata": {
        "colab": {
          "base_uri": "https://localhost:8080/"
        },
        "id": "l2A5bHmyEc4N",
        "outputId": "c9268200-468e-4d9d-fadd-e4caddb868e5"
      },
      "source": [
        "counter"
      ],
      "execution_count": null,
      "outputs": [
        {
          "output_type": "execute_result",
          "data": {
            "text/plain": [
              "Counter({4: 5,\n",
              "         5: 29,\n",
              "         6: 62,\n",
              "         7: 39,\n",
              "         8: 117,\n",
              "         9: 44,\n",
              "         10: 29,\n",
              "         11: 32,\n",
              "         12: 49,\n",
              "         13: 37,\n",
              "         14: 56,\n",
              "         15: 45,\n",
              "         16: 42,\n",
              "         17: 28,\n",
              "         18: 30,\n",
              "         19: 19,\n",
              "         20: 10,\n",
              "         21: 18,\n",
              "         22: 23,\n",
              "         23: 6,\n",
              "         24: 8,\n",
              "         25: 14,\n",
              "         26: 7,\n",
              "         27: 9,\n",
              "         28: 9,\n",
              "         29: 8,\n",
              "         30: 7,\n",
              "         31: 3,\n",
              "         32: 7,\n",
              "         33: 4,\n",
              "         34: 3,\n",
              "         35: 1})"
            ]
          },
          "metadata": {
            "tags": []
          },
          "execution_count": 8
        }
      ]
    },
    {
      "cell_type": "markdown",
      "metadata": {
        "id": "n74NwqEvGytb"
      },
      "source": [
        "As the shortest length(4) occurs only 4 times and long lengths(33, 34, 35) occur respectively 4, 3 & 1 times only, so we'll not consider those sequences in our experiment."
      ]
    },
    {
      "cell_type": "code",
      "metadata": {
        "id": "JzWb_UAmH1jL"
      },
      "source": [
        "def remove_sequence(data_text, lengths_to_remove):\n",
        "    lengths_to_remove = lengths_to_remove\n",
        "    truncated_data_text = [sequence for sequence in data_text if len(sequence) not in lengths_to_remove]\n",
        "    print(\"First sequence after truncating:\", truncated_data_text[0])\n",
        "    print(\"Number of sequence after truncating:\", len(truncated_data_text))\n",
        "\n",
        "    return truncated_data_text"
      ],
      "execution_count": null,
      "outputs": []
    },
    {
      "cell_type": "code",
      "metadata": {
        "colab": {
          "base_uri": "https://localhost:8080/"
        },
        "id": "OIU8Nio5Kcdh",
        "outputId": "f6cf33b7-5da0-4210-88de-2ee0cb83d063"
      },
      "source": [
        "# remove sequences having length 4, 33, 34, 35\n",
        "lengths_to_remove = [4, 33, 34, 35]\n",
        "truncated_data_text = remove_sequence(data_text, lengths_to_remove)"
      ],
      "execution_count": null,
      "outputs": [
        {
          "output_type": "stream",
          "text": [
            "First sequence after truncating: ['collectionTA0009Email_CollectionT1114', 'credential_accessTA0006Credential_DumpingT1003', 'discoveryTA0007System_Information_DiscoveryT1082', 'collectionTA0009Email_CollectionT1114', 'defense_evasionTA0005File_DeletionT1107', 'persistenceTA0003Scheduled_TaskT1053', 'discoveryTA0007System_Information_DiscoveryT1082', 'collectionTA0009Email_CollectionT1114']\n",
            "Number of sequence after truncating: 787\n"
          ],
          "name": "stdout"
        }
      ]
    },
    {
      "cell_type": "markdown",
      "metadata": {
        "id": "-ABxfIENqmwQ"
      },
      "source": [
        "At first, we'll take `4` steps as the *encoder_input* and remaining steps as *decoder_input*. We'll add `<sos>` as the start symbol before all decoder_input. *decoder_target* will be same as decoder_input except they will be shifted one timestep left. We'll add `<eos>` to the right of every decoder_target sequence."
      ]
    },
    {
      "cell_type": "code",
      "metadata": {
        "id": "nt25hLhwsdCA"
      },
      "source": [
        "# split data into encoder and decoder text\n",
        "def split_encoder_decoder_text(truncated_data_text, split):\n",
        "    split = split\n",
        "    encoder_input_text, decoder_input_text, decoder_target_text = [], [], []\n",
        "\n",
        "    for sequence in truncated_data_text:\n",
        "        encoder_input_text.append(sequence[:split])\n",
        "        decoder_input_text.append([\"<sos>\"] + sequence[split:]) # add <sos> in the beginning of each sequence\n",
        "        decoder_target_text.append(sequence[split:] + [\"<eos>\"]) # add <eos> at the end of each sequence\n",
        "    \n",
        "    print(\"encoder_input_text[0]:\", encoder_input_text[0], \"\\ndecoder_input_text[0]:\", decoder_input_text[0], \"\\ndecoder_target_text[0]:\", decoder_target_text[0], \"\\n\")\n",
        "    print(\"encoder_input_text[69]:\", encoder_input_text[69], \"\\ndecoder_input_text[69]:\", decoder_input_text[69], \"\\ndecoder_target_text[69]:\", decoder_target_text[69], \"\\n\")\n",
        "    print(\"encoder_input_text[169]:\", encoder_input_text[169], \"\\ndecoder_input_text[169]:\", decoder_input_text[169], \"\\ndecoder_target_text[169]:\", decoder_target_text[169], \"\\n\")\n",
        "    print(\"encoder_input_text[650]:\", encoder_input_text[650], \"\\ndecoder_input_text[650]:\", decoder_input_text[650], \"\\ndecoder_target_text[650]:\", decoder_target_text[650], \"\\n\")\n",
        "\n",
        "    return encoder_input_text, decoder_input_text, decoder_target_text"
      ],
      "execution_count": null,
      "outputs": []
    },
    {
      "cell_type": "code",
      "metadata": {
        "colab": {
          "base_uri": "https://localhost:8080/"
        },
        "id": "NdY3xmRjxNY5",
        "outputId": "a60161ae-b6ab-4fd7-a1ac-c044a5a484ec"
      },
      "source": [
        "# split each sequence at 4th step\n",
        "split = 4\n",
        "encoder_input_text, decoder_input_text, decoder_target_text = split_encoder_decoder_text(truncated_data_text, split)\n",
        "print(\"Number of samples:\", len(encoder_input_text))"
      ],
      "execution_count": null,
      "outputs": [
        {
          "output_type": "stream",
          "text": [
            "encoder_input_text[0]: ['collectionTA0009Email_CollectionT1114', 'credential_accessTA0006Credential_DumpingT1003', 'discoveryTA0007System_Information_DiscoveryT1082', 'collectionTA0009Email_CollectionT1114'] \n",
            "decoder_input_text[0]: ['<sos>', 'defense_evasionTA0005File_DeletionT1107', 'persistenceTA0003Scheduled_TaskT1053', 'discoveryTA0007System_Information_DiscoveryT1082', 'collectionTA0009Email_CollectionT1114'] \n",
            "decoder_target_text[0]: ['defense_evasionTA0005File_DeletionT1107', 'persistenceTA0003Scheduled_TaskT1053', 'discoveryTA0007System_Information_DiscoveryT1082', 'collectionTA0009Email_CollectionT1114', '<eos>'] \n",
            "\n",
            "encoder_input_text[69]: ['discoveryTA0007System_Network_Configuration_DiscoveryT1016', 'collectionTA0009Data_StagedT1074', 'persistenceTA0003Scheduled_TaskT1053', 'credential_accessTA0006Credentials_in_RegistryT1214'] \n",
            "decoder_input_text[69]: ['<sos>', 'exfiltrationTA0010Exfiltration_Over_Command_and_Control_ChannelT1041', 'collectionTA0009Data_StagedT1074', 'collectionTA0009Email_CollectionT1114', 'exfiltrationTA0010Exfiltration_Over_Command_and_Control_ChannelT1041', 'defense_evasionTA0005File_DeletionT1107', 'discoveryTA0007Remote_System_DiscoveryT1018', 'defense_evasionTA0005File_DeletionT1107', 'credential_accessTA0006Credentials_in_RegistryT1214', 'discoveryTA0007Account_DiscoveryT1087', 'collectionTA0009Email_CollectionT1114', 'credential_accessTA0006Credentials_in_RegistryT1214', 'collectionTA0009Data_StagedT1074', 'defense_evasionTA0005File_DeletionT1107', 'discoveryTA0007File_and_Directory_DiscoveryT1083', 'discoveryTA0007System_Information_DiscoveryT1082', 'lateral_movementTA0008Remote_File_CopyT1105', 'defense_evasionTA0005File_DeletionT1107'] \n",
            "decoder_target_text[69]: ['exfiltrationTA0010Exfiltration_Over_Command_and_Control_ChannelT1041', 'collectionTA0009Data_StagedT1074', 'collectionTA0009Email_CollectionT1114', 'exfiltrationTA0010Exfiltration_Over_Command_and_Control_ChannelT1041', 'defense_evasionTA0005File_DeletionT1107', 'discoveryTA0007Remote_System_DiscoveryT1018', 'defense_evasionTA0005File_DeletionT1107', 'credential_accessTA0006Credentials_in_RegistryT1214', 'discoveryTA0007Account_DiscoveryT1087', 'collectionTA0009Email_CollectionT1114', 'credential_accessTA0006Credentials_in_RegistryT1214', 'collectionTA0009Data_StagedT1074', 'defense_evasionTA0005File_DeletionT1107', 'discoveryTA0007File_and_Directory_DiscoveryT1083', 'discoveryTA0007System_Information_DiscoveryT1082', 'lateral_movementTA0008Remote_File_CopyT1105', 'defense_evasionTA0005File_DeletionT1107', '<eos>'] \n",
            "\n",
            "encoder_input_text[169]: ['persistenceTA0003Component_Object_Model_HijackingT1122', 'discoveryTA0007File_and_Directory_DiscoveryT1083', 'credential_accessTA0006Credential_DumpingT1003', 'discoveryTA0007System_Network_Configuration_DiscoveryT1016'] \n",
            "decoder_input_text[169]: ['<sos>', 'credential_accessTA0006Credential_DumpingT1003', 'collectionTA0009Data_StagedT1074', 'credential_accessTA0006Credential_DumpingT1003', 'defense_evasionTA0005Component_Object_Model_HijackingT1122', 'exfiltrationTA0010Data_EncryptedT1022', 'collectionTA0009Data_StagedT1074', 'discoveryTA0007Security_Software_DiscoveryT1063', 'discoveryTA0007Remote_System_DiscoveryT1018', 'credential_accessTA0006Credential_DumpingT1003', 'credential_accessTA0006Credential_DumpingT1003', 'exfiltrationTA0010Exfiltration_Over_Command_and_Control_ChannelT1041', 'discoveryTA0007System_Information_DiscoveryT1082', 'lateral_movementTA0008Remote_File_CopyT1105', 'credential_accessTA0006Credential_DumpingT1003', 'persistenceTA0003Component_Object_Model_HijackingT1122', 'discoveryTA0007System_Network_Configuration_DiscoveryT1016', 'credential_accessTA0006Credential_DumpingT1003', 'defense_evasionTA0005File_DeletionT1107'] \n",
            "decoder_target_text[169]: ['credential_accessTA0006Credential_DumpingT1003', 'collectionTA0009Data_StagedT1074', 'credential_accessTA0006Credential_DumpingT1003', 'defense_evasionTA0005Component_Object_Model_HijackingT1122', 'exfiltrationTA0010Data_EncryptedT1022', 'collectionTA0009Data_StagedT1074', 'discoveryTA0007Security_Software_DiscoveryT1063', 'discoveryTA0007Remote_System_DiscoveryT1018', 'credential_accessTA0006Credential_DumpingT1003', 'credential_accessTA0006Credential_DumpingT1003', 'exfiltrationTA0010Exfiltration_Over_Command_and_Control_ChannelT1041', 'discoveryTA0007System_Information_DiscoveryT1082', 'lateral_movementTA0008Remote_File_CopyT1105', 'credential_accessTA0006Credential_DumpingT1003', 'persistenceTA0003Component_Object_Model_HijackingT1122', 'discoveryTA0007System_Network_Configuration_DiscoveryT1016', 'credential_accessTA0006Credential_DumpingT1003', 'defense_evasionTA0005File_DeletionT1107', '<eos>'] \n",
            "\n",
            "encoder_input_text[650]: ['discoveryTA0007File_and_Directory_DiscoveryT1083', 'persistenceTA0003Logon_ScriptsT1037', 'defense_evasionTA0005Indicator_Removal_on_HostT1070', 'credential_accessTA0006Input_CaptureT1056'] \n",
            "decoder_input_text[650]: ['<sos>', 'discoveryTA0007Password_Policy_DiscoveryT1201', 'defense_evasionTA0005MasqueradingT1036', 'collectionTA0009Data_StagedT1074', 'exfiltrationTA0010Exfiltration_Over_Command_and_Control_ChannelT1041', 'defense_evasionTA0005Indicator_Removal_on_HostT1070'] \n",
            "decoder_target_text[650]: ['discoveryTA0007Password_Policy_DiscoveryT1201', 'defense_evasionTA0005MasqueradingT1036', 'collectionTA0009Data_StagedT1074', 'exfiltrationTA0010Exfiltration_Over_Command_and_Control_ChannelT1041', 'defense_evasionTA0005Indicator_Removal_on_HostT1070', '<eos>'] \n",
            "\n",
            "Number of samples: 787\n"
          ],
          "name": "stdout"
        }
      ]
    },
    {
      "cell_type": "markdown",
      "metadata": {
        "id": "qUPRn38l0rxL"
      },
      "source": [
        "# Text sequences to integer sequences\n",
        "\n",
        "Now that we've set the encoder and decoder text, lets build the word2idx and idx2word dictionary mapping which will later be used for conversion purpose. We'll also convert the text sequences to integer sequences as deep learning framework can only handle numbers.\n",
        "\n",
        "We'll use the `Tokenizer()` class for above purpose."
      ]
    },
    {
      "cell_type": "code",
      "metadata": {
        "id": "JUePzTqtveAN"
      },
      "source": [
        "import copy\n",
        "from keras.preprocessing.text import Tokenizer\n",
        "\n",
        "def get_tokenizer(text):\n",
        "    tokenizer = Tokenizer(num_words=200, lower=False) # we just give a large enough arbitrary number\n",
        "    tokenizer.fit_on_texts(text)\n",
        "    \n",
        "    # builid word2idx and idx2word dictionary\n",
        "    word2idx = copy.deepcopy(tokenizer.word_index)\n",
        "    idx2word = {v:k for k, v in tokenizer.word_index.items()}\n",
        "\n",
        "    return tokenizer, word2idx, idx2word"
      ],
      "execution_count": null,
      "outputs": []
    },
    {
      "cell_type": "code",
      "metadata": {
        "id": "8xzJfI7aPoQj"
      },
      "source": [
        "def get_encoder_decoder_indices(encoder_input_text, decoder_input_text, decoder_target_text):\n",
        "    encoder_tokenizer, encoder_word2idx, encoder_idx2word = get_tokenizer(encoder_input_text)\n",
        "    print(\"encoder_word2idx:\", encoder_word2idx)\n",
        "    print(\"encoder_idx2word:\", encoder_idx2word)\n",
        "    encoder_input_indices = encoder_tokenizer.texts_to_sequences(encoder_input_text)\n",
        "\n",
        "\n",
        "    decoder_tokenizer, decoder_word2idx, decoder_idx2word = get_tokenizer(decoder_input_text + decoder_target_text)\n",
        "    print(\"\\ndecoder_word2idx:\", decoder_word2idx)\n",
        "    print(\"decoder_idx2word:\", decoder_idx2word)\n",
        "    decoder_input_indices = decoder_tokenizer.texts_to_sequences(decoder_input_text)\n",
        "    decoder_target_indices = decoder_tokenizer.texts_to_sequences(decoder_target_text)\n",
        "\n",
        "    print(\"\\nencoder_input_indices[0]:\", encoder_input_indices[0], \"\\ndecoder_input_indices[0]:\", decoder_input_indices[0], \"\\ndecoder_target_indices[0]:\", decoder_target_indices[0], \"\\n\")\n",
        "    print(\"encoder_input_indices[69]:\", encoder_input_indices[69], \"\\ndecoder_input_indices[69]:\", decoder_input_indices[69], \"\\ndecoder_target_indices[69]:\", decoder_target_indices[69], \"\\n\")\n",
        "    print(\"encoder_input_indices[169]:\", encoder_input_indices[169], \"\\ndecoder_input_indices[169]:\", decoder_input_indices[169], \"\\ndecoder_target_indices[169]:\", decoder_target_indices[169], \"\\n\")\n",
        "    print(\"encoder_input_indices[650]:\", encoder_input_indices[650], \"\\ndecoder_input_indices[650]:\", decoder_input_indices[650], \"\\ndecoder_target_indices[650]:\", decoder_target_indices[650], \"\\n\")\n",
        "\n",
        "    return encoder_input_indices, decoder_input_indices, decoder_target_indices, encoder_word2idx, encoder_idx2word, decoder_word2idx, decoder_idx2word"
      ],
      "execution_count": null,
      "outputs": []
    },
    {
      "cell_type": "code",
      "metadata": {
        "colab": {
          "base_uri": "https://localhost:8080/"
        },
        "id": "ZsBvvvasV476",
        "outputId": "f795e627-7372-4a40-c35a-96535df719ae"
      },
      "source": [
        "# get input_indices and word conversion dicts\n",
        "encoder_input_indices, decoder_input_indices, decoder_target_indices, encoder_word2idx, encoder_idx2word, decoder_word2idx, decoder_idx2word \\\n",
        "= \\\n",
        "get_encoder_decoder_indices(encoder_input_text, decoder_input_text, decoder_target_text)"
      ],
      "execution_count": null,
      "outputs": [
        {
          "output_type": "stream",
          "text": [
            "encoder_word2idx: {'credential_accessTA0006Credential_DumpingT1003': 1, 'discoveryTA0007File_and_Directory_DiscoveryT1083': 2, 'discoveryTA0007Remote_System_DiscoveryT1018': 3, 'defense_evasionTA0005Deobfuscate/Decode_Files_or_InformationT1140': 4, 'collectionTA0009Input_CaptureT1056': 5, 'defense_evasionTA0005File_DeletionT1107': 6, 'collectionTA0009Data_StagedT1074': 7, 'credential_accessTA0006Input_CaptureT1056': 8, 'collectionTA0009Email_CollectionT1114': 9, 'persistenceTA0003Scheduled_TaskT1053': 10, 'persistenceTA0003New_ServiceT1050': 11, 'defense_evasionTA0005Indicator_Removal_on_HostT1070': 12, 'credential_accessTA0006Credentials_in_FilesT1081': 13, 'discoveryTA0007System_Time_DiscoveryT1124': 14, 'credential_accessTA0006Credentials_in_RegistryT1214': 15, 'discoveryTA0007Account_DiscoveryT1087': 16, 'lateral_movementTA0008Remote_File_CopyT1105': 17, 'discoveryTA0007System_Network_Configuration_DiscoveryT1016': 18, 'persistenceTA0003Logon_ScriptsT1037': 19, 'discoveryTA0007Query_RegistryT1012': 20, 'persistenceTA0003Winlogon_Helper_DLLT1004': 21, 'discoveryTA0007System_Information_DiscoveryT1082': 22, 'persistenceTA0003Windows_Management_Instrumentation_Event_SubscriptionT1084': 23, 'defense_evasionTA0005MasqueradingT1036': 24, 'discoveryTA0007System_Service_DiscoveryT1007': 25, 'discoveryTA0007Password_Policy_DiscoveryT1201': 26, 'defense_evasionTA0005Image_File_Execution_Options_InjectionT1183': 27, 'persistenceTA0003Component_Object_Model_HijackingT1122': 28, 'persistenceTA0003AppInit_DLLsT1103': 29, 'exfiltrationTA0010Exfiltration_Over_Command_and_Control_ChannelT1041': 30, 'persistenceTA0003Image_File_Execution_Options_InjectionT1183': 31, 'persistenceTA0003Accessibility_FeaturesT1015': 32, 'discoveryTA0007Security_Software_DiscoveryT1063': 33, 'defense_evasionTA0005Component_Object_Model_HijackingT1122': 34, 'persistenceTA0003HookingT1179': 35, 'persistenceTA0003Netsh_Helper_DLLT1128': 36, 'lateral_movementTA0008Logon_ScriptsT1037': 37, 'discoveryTA0007Network_Share_DiscoveryT1135': 38, 'persistenceTA0003Security_Support_ProviderT1101': 39, 'credential_accessTA0006HookingT1179': 40, 'persistenceTA0003Registry_Run_Keys_/_Startup_FolderT1060': 41, 'discoveryTA0007Permission_Groups_DiscoveryT1069': 42, 'lateral_movementTA0008Pass_the_HashT1075': 43, 'discoveryTA0007System_Network_Connections_DiscoveryT1049': 44, 'exfiltrationTA0010Data_EncryptedT1022': 45, 'credential_accessTA0006Brute_ForceT1110': 46, 'lateral_movementTA0008Windows_Remote_ManagementT1028': 47, 'lateral_movementTA0008Remote_Desktop_ProtocolT1076': 48, 'discoveryTA0007System_Owner/User_DiscoveryT1033': 49, 'exfiltrationTA0010Data_CompressedT1002': 50}\n",
            "encoder_idx2word: {1: 'credential_accessTA0006Credential_DumpingT1003', 2: 'discoveryTA0007File_and_Directory_DiscoveryT1083', 3: 'discoveryTA0007Remote_System_DiscoveryT1018', 4: 'defense_evasionTA0005Deobfuscate/Decode_Files_or_InformationT1140', 5: 'collectionTA0009Input_CaptureT1056', 6: 'defense_evasionTA0005File_DeletionT1107', 7: 'collectionTA0009Data_StagedT1074', 8: 'credential_accessTA0006Input_CaptureT1056', 9: 'collectionTA0009Email_CollectionT1114', 10: 'persistenceTA0003Scheduled_TaskT1053', 11: 'persistenceTA0003New_ServiceT1050', 12: 'defense_evasionTA0005Indicator_Removal_on_HostT1070', 13: 'credential_accessTA0006Credentials_in_FilesT1081', 14: 'discoveryTA0007System_Time_DiscoveryT1124', 15: 'credential_accessTA0006Credentials_in_RegistryT1214', 16: 'discoveryTA0007Account_DiscoveryT1087', 17: 'lateral_movementTA0008Remote_File_CopyT1105', 18: 'discoveryTA0007System_Network_Configuration_DiscoveryT1016', 19: 'persistenceTA0003Logon_ScriptsT1037', 20: 'discoveryTA0007Query_RegistryT1012', 21: 'persistenceTA0003Winlogon_Helper_DLLT1004', 22: 'discoveryTA0007System_Information_DiscoveryT1082', 23: 'persistenceTA0003Windows_Management_Instrumentation_Event_SubscriptionT1084', 24: 'defense_evasionTA0005MasqueradingT1036', 25: 'discoveryTA0007System_Service_DiscoveryT1007', 26: 'discoveryTA0007Password_Policy_DiscoveryT1201', 27: 'defense_evasionTA0005Image_File_Execution_Options_InjectionT1183', 28: 'persistenceTA0003Component_Object_Model_HijackingT1122', 29: 'persistenceTA0003AppInit_DLLsT1103', 30: 'exfiltrationTA0010Exfiltration_Over_Command_and_Control_ChannelT1041', 31: 'persistenceTA0003Image_File_Execution_Options_InjectionT1183', 32: 'persistenceTA0003Accessibility_FeaturesT1015', 33: 'discoveryTA0007Security_Software_DiscoveryT1063', 34: 'defense_evasionTA0005Component_Object_Model_HijackingT1122', 35: 'persistenceTA0003HookingT1179', 36: 'persistenceTA0003Netsh_Helper_DLLT1128', 37: 'lateral_movementTA0008Logon_ScriptsT1037', 38: 'discoveryTA0007Network_Share_DiscoveryT1135', 39: 'persistenceTA0003Security_Support_ProviderT1101', 40: 'credential_accessTA0006HookingT1179', 41: 'persistenceTA0003Registry_Run_Keys_/_Startup_FolderT1060', 42: 'discoveryTA0007Permission_Groups_DiscoveryT1069', 43: 'lateral_movementTA0008Pass_the_HashT1075', 44: 'discoveryTA0007System_Network_Connections_DiscoveryT1049', 45: 'exfiltrationTA0010Data_EncryptedT1022', 46: 'credential_accessTA0006Brute_ForceT1110', 47: 'lateral_movementTA0008Windows_Remote_ManagementT1028', 48: 'lateral_movementTA0008Remote_Desktop_ProtocolT1076', 49: 'discoveryTA0007System_Owner/User_DiscoveryT1033', 50: 'exfiltrationTA0010Data_CompressedT1002'}\n",
            "\n",
            "decoder_word2idx: {'collectionTA0009Data_StagedT1074': 1, 'credential_accessTA0006Credential_DumpingT1003': 2, 'exfiltrationTA0010Exfiltration_Over_Command_and_Control_ChannelT1041': 3, 'defense_evasionTA0005File_DeletionT1107': 4, 'discoveryTA0007File_and_Directory_DiscoveryT1083': 5, 'discoveryTA0007Remote_System_DiscoveryT1018': 6, 'lateral_movementTA0008Remote_File_CopyT1105': 7, '<sos>': 8, '<eos>': 9, 'defense_evasionTA0005Deobfuscate/Decode_Files_or_InformationT1140': 10, 'collectionTA0009Input_CaptureT1056': 11, 'collectionTA0009Email_CollectionT1114': 12, 'defense_evasionTA0005Indicator_Removal_on_HostT1070': 13, 'discoveryTA0007System_Time_DiscoveryT1124': 14, 'credential_accessTA0006Input_CaptureT1056': 15, 'credential_accessTA0006Credentials_in_FilesT1081': 16, 'lateral_movementTA0008Remote_Desktop_ProtocolT1076': 17, 'credential_accessTA0006Credentials_in_RegistryT1214': 18, 'persistenceTA0003New_ServiceT1050': 19, 'discoveryTA0007System_Network_Configuration_DiscoveryT1016': 20, 'discoveryTA0007Account_DiscoveryT1087': 21, 'persistenceTA0003Scheduled_TaskT1053': 22, 'discoveryTA0007Network_Share_DiscoveryT1135': 23, 'defense_evasionTA0005Image_File_Execution_Options_InjectionT1183': 24, 'discoveryTA0007System_Service_DiscoveryT1007': 25, 'discoveryTA0007System_Information_DiscoveryT1082': 26, 'discoveryTA0007Query_RegistryT1012': 27, 'lateral_movementTA0008Pass_the_HashT1075': 28, 'defense_evasionTA0005Component_Object_Model_HijackingT1122': 29, 'credential_accessTA0006Brute_ForceT1110': 30, 'exfiltrationTA0010Data_CompressedT1002': 31, 'lateral_movementTA0008Windows_Remote_ManagementT1028': 32, 'exfiltrationTA0010Data_EncryptedT1022': 33, 'discoveryTA0007Security_Software_DiscoveryT1063': 34, 'lateral_movementTA0008Logon_ScriptsT1037': 35, 'discoveryTA0007System_Network_Connections_DiscoveryT1049': 36, 'defense_evasionTA0005MasqueradingT1036': 37, 'persistenceTA0003Registry_Run_Keys_/_Startup_FolderT1060': 38, 'discoveryTA0007Password_Policy_DiscoveryT1201': 39, 'discoveryTA0007System_Owner/User_DiscoveryT1033': 40, 'persistenceTA0003Component_Object_Model_HijackingT1122': 41, 'discoveryTA0007Permission_Groups_DiscoveryT1069': 42, 'persistenceTA0003Winlogon_Helper_DLLT1004': 43, 'credential_accessTA0006HookingT1179': 44, 'persistenceTA0003Windows_Management_Instrumentation_Event_SubscriptionT1084': 45, 'persistenceTA0003Image_File_Execution_Options_InjectionT1183': 46, 'persistenceTA0003AppInit_DLLsT1103': 47, 'persistenceTA0003Security_Support_ProviderT1101': 48, 'persistenceTA0003Logon_ScriptsT1037': 49, 'persistenceTA0003HookingT1179': 50, 'persistenceTA0003Netsh_Helper_DLLT1128': 51, 'persistenceTA0003Accessibility_FeaturesT1015': 52}\n",
            "decoder_idx2word: {1: 'collectionTA0009Data_StagedT1074', 2: 'credential_accessTA0006Credential_DumpingT1003', 3: 'exfiltrationTA0010Exfiltration_Over_Command_and_Control_ChannelT1041', 4: 'defense_evasionTA0005File_DeletionT1107', 5: 'discoveryTA0007File_and_Directory_DiscoveryT1083', 6: 'discoveryTA0007Remote_System_DiscoveryT1018', 7: 'lateral_movementTA0008Remote_File_CopyT1105', 8: '<sos>', 9: '<eos>', 10: 'defense_evasionTA0005Deobfuscate/Decode_Files_or_InformationT1140', 11: 'collectionTA0009Input_CaptureT1056', 12: 'collectionTA0009Email_CollectionT1114', 13: 'defense_evasionTA0005Indicator_Removal_on_HostT1070', 14: 'discoveryTA0007System_Time_DiscoveryT1124', 15: 'credential_accessTA0006Input_CaptureT1056', 16: 'credential_accessTA0006Credentials_in_FilesT1081', 17: 'lateral_movementTA0008Remote_Desktop_ProtocolT1076', 18: 'credential_accessTA0006Credentials_in_RegistryT1214', 19: 'persistenceTA0003New_ServiceT1050', 20: 'discoveryTA0007System_Network_Configuration_DiscoveryT1016', 21: 'discoveryTA0007Account_DiscoveryT1087', 22: 'persistenceTA0003Scheduled_TaskT1053', 23: 'discoveryTA0007Network_Share_DiscoveryT1135', 24: 'defense_evasionTA0005Image_File_Execution_Options_InjectionT1183', 25: 'discoveryTA0007System_Service_DiscoveryT1007', 26: 'discoveryTA0007System_Information_DiscoveryT1082', 27: 'discoveryTA0007Query_RegistryT1012', 28: 'lateral_movementTA0008Pass_the_HashT1075', 29: 'defense_evasionTA0005Component_Object_Model_HijackingT1122', 30: 'credential_accessTA0006Brute_ForceT1110', 31: 'exfiltrationTA0010Data_CompressedT1002', 32: 'lateral_movementTA0008Windows_Remote_ManagementT1028', 33: 'exfiltrationTA0010Data_EncryptedT1022', 34: 'discoveryTA0007Security_Software_DiscoveryT1063', 35: 'lateral_movementTA0008Logon_ScriptsT1037', 36: 'discoveryTA0007System_Network_Connections_DiscoveryT1049', 37: 'defense_evasionTA0005MasqueradingT1036', 38: 'persistenceTA0003Registry_Run_Keys_/_Startup_FolderT1060', 39: 'discoveryTA0007Password_Policy_DiscoveryT1201', 40: 'discoveryTA0007System_Owner/User_DiscoveryT1033', 41: 'persistenceTA0003Component_Object_Model_HijackingT1122', 42: 'discoveryTA0007Permission_Groups_DiscoveryT1069', 43: 'persistenceTA0003Winlogon_Helper_DLLT1004', 44: 'credential_accessTA0006HookingT1179', 45: 'persistenceTA0003Windows_Management_Instrumentation_Event_SubscriptionT1084', 46: 'persistenceTA0003Image_File_Execution_Options_InjectionT1183', 47: 'persistenceTA0003AppInit_DLLsT1103', 48: 'persistenceTA0003Security_Support_ProviderT1101', 49: 'persistenceTA0003Logon_ScriptsT1037', 50: 'persistenceTA0003HookingT1179', 51: 'persistenceTA0003Netsh_Helper_DLLT1128', 52: 'persistenceTA0003Accessibility_FeaturesT1015'}\n",
            "\n",
            "encoder_input_indices[0]: [9, 1, 22, 9] \n",
            "decoder_input_indices[0]: [8, 4, 22, 26, 12] \n",
            "decoder_target_indices[0]: [4, 22, 26, 12, 9] \n",
            "\n",
            "encoder_input_indices[69]: [18, 7, 10, 15] \n",
            "decoder_input_indices[69]: [8, 3, 1, 12, 3, 4, 6, 4, 18, 21, 12, 18, 1, 4, 5, 26, 7, 4] \n",
            "decoder_target_indices[69]: [3, 1, 12, 3, 4, 6, 4, 18, 21, 12, 18, 1, 4, 5, 26, 7, 4, 9] \n",
            "\n",
            "encoder_input_indices[169]: [28, 2, 1, 18] \n",
            "decoder_input_indices[169]: [8, 2, 1, 2, 29, 33, 1, 34, 6, 2, 2, 3, 26, 7, 2, 41, 20, 2, 4] \n",
            "decoder_target_indices[169]: [2, 1, 2, 29, 33, 1, 34, 6, 2, 2, 3, 26, 7, 2, 41, 20, 2, 4, 9] \n",
            "\n",
            "encoder_input_indices[650]: [2, 19, 12, 8] \n",
            "decoder_input_indices[650]: [8, 39, 37, 1, 3, 13] \n",
            "decoder_target_indices[650]: [39, 37, 1, 3, 13, 9] \n",
            "\n"
          ],
          "name": "stdout"
        }
      ]
    },
    {
      "cell_type": "markdown",
      "metadata": {
        "id": "E4aIqHpEXGQf"
      },
      "source": [
        "# Padding, Split & One-hot 🔥\n",
        "\n",
        "Encoder inputs all have the same length so we dont need any padding there. But decoder inputs are of variable length and we need padding.\n",
        "\n",
        "Lets find out the maximum sequence length in both encoder and decoder inputs.\n",
        "\n",
        "Note: <font color=\"yellow\">decoder_input and decoder_target both have same sequence length.</font>"
      ]
    },
    {
      "cell_type": "code",
      "metadata": {
        "colab": {
          "base_uri": "https://localhost:8080/"
        },
        "id": "cYafpFOSSy6U",
        "outputId": "01c95f8b-df2f-40d8-960b-154d64c31fbd"
      },
      "source": [
        "max_encoder_seq_length = max([len(sequence) for sequence in encoder_input_indices])\n",
        "max_decoder_seq_length = max([len(sequence) for sequence in decoder_input_indices])\n",
        "\n",
        "print(\"Max sequence length for encoder:\", max_encoder_seq_length)\n",
        "print(\"Max sequence length for decoder:\", max_decoder_seq_length)"
      ],
      "execution_count": null,
      "outputs": [
        {
          "output_type": "stream",
          "text": [
            "Max sequence length for encoder: 4\n",
            "Max sequence length for decoder: 29\n"
          ],
          "name": "stdout"
        }
      ]
    },
    {
      "cell_type": "code",
      "metadata": {
        "id": "EVVs9bozYLVU"
      },
      "source": [
        "from keras.preprocessing.sequence import pad_sequences\n",
        "\n",
        "def get_padded_inputs(encoder_input_indices, decoder_input_indices, decoder_target_indices):\n",
        "    \n",
        "    padded_decoder_input = pad_sequences(decoder_input_indices, maxlen=max_decoder_seq_length, dtype='int32', padding='post')\n",
        "    padded_decoder_target = pad_sequences(decoder_target_indices, maxlen=max_decoder_seq_length, dtype='int32', padding='post')\n",
        "    print(\"\\npadded_decoder_input[0]\", padded_decoder_input[0])\n",
        "    print(\"padded_decoder_target[0]\", padded_decoder_target[0])\n",
        "    print(\"padded_decoder_input[69]\", padded_decoder_input[69])\n",
        "    print(\"padded_decoder_target[69\", padded_decoder_target[69])\n",
        "\n",
        "    return padded_decoder_input, padded_decoder_target"
      ],
      "execution_count": null,
      "outputs": []
    },
    {
      "cell_type": "code",
      "metadata": {
        "colab": {
          "base_uri": "https://localhost:8080/"
        },
        "id": "WnQdY8YTZfIP",
        "outputId": "9c79eb91-f315-4abc-f6f4-0b4e378a0d02"
      },
      "source": [
        "padded_decoder_input, padded_decoder_target = get_padded_inputs(encoder_input_indices, decoder_input_indices, decoder_target_indices)"
      ],
      "execution_count": null,
      "outputs": [
        {
          "output_type": "stream",
          "text": [
            "\n",
            "padded_decoder_input[0] [ 8  4 22 26 12  0  0  0  0  0  0  0  0  0  0  0  0  0  0  0  0  0  0  0\n",
            "  0  0  0  0  0]\n",
            "padded_decoder_target[0] [ 4 22 26 12  9  0  0  0  0  0  0  0  0  0  0  0  0  0  0  0  0  0  0  0\n",
            "  0  0  0  0  0]\n",
            "padded_decoder_input[69] [ 8  3  1 12  3  4  6  4 18 21 12 18  1  4  5 26  7  4  0  0  0  0  0  0\n",
            "  0  0  0  0  0]\n",
            "padded_decoder_target[69 [ 3  1 12  3  4  6  4 18 21 12 18  1  4  5 26  7  4  9  0  0  0  0  0  0\n",
            "  0  0  0  0  0]\n"
          ],
          "name": "stdout"
        }
      ]
    },
    {
      "cell_type": "markdown",
      "metadata": {
        "id": "cPM5p42EyTPM"
      },
      "source": [
        "Before further processing, lets divide our data into train and test set. we'll randomly take 750 sequences as training data and rest as testing."
      ]
    },
    {
      "cell_type": "code",
      "metadata": {
        "id": "Ai7T69Q_ya7z"
      },
      "source": [
        "def get_train_test_data(num_train_sample, encoder_input_indices, padded_decoder_input, padded_decoder_target):\n",
        "    num_total_sample = len(encoder_input_indices)\n",
        "    random.seed(69)\n",
        "    random_indices = list(range(num_total_sample))\n",
        "    random.shuffle(random_indices)\n",
        "    # print(random_indices)\n",
        "    encoder_train_input = [encoder_input_indices[i] for i in random_indices[:num_train_sample]]\n",
        "    decoder_train_input = [padded_decoder_input[i] for i in random_indices[:num_train_sample]]\n",
        "    decoder_train_target = [padded_decoder_target[i] for i in random_indices[:num_train_sample]]\n",
        "\n",
        "    encoder_test_input = [encoder_input_indices[i] for i in random_indices[num_train_sample:]]\n",
        "    decoder_test_input = [padded_decoder_input[i] for i in random_indices[num_train_sample:]]\n",
        "    decoder_test_target = [padded_decoder_target[i] for i in random_indices[num_train_sample:]]\n",
        "\n",
        "    print(\"Number of training samples:\", len(encoder_train_input))\n",
        "    print(\"Number of testing samples:\", len(encoder_test_input))\n",
        "\n",
        "    print(\"\\nencoder_train_input[0]:\", encoder_train_input[0], \"\\ndecoder_train_input[0]:\", decoder_train_input[0], \"\\ndecoder_train_target[0]:\", decoder_train_target[0], \"\\n\")\n",
        "    print(\"encoder_train_input[69]:\", encoder_train_input[69], \"\\ndecoder_train_input[69]:\", decoder_train_input[69], \"\\ndecoder_train_target[69]:\", decoder_train_target[69], \"\\n\")\n",
        "    print(\"encoder_test_input[0]:\", encoder_test_input[0], \"\\ndecoder_test_input[0]:\", decoder_test_input[0], \"\\ndecoder_test_target[0]:\", decoder_test_target[0], \"\\n\")\n",
        "    print(\"encoder_test_input[15]:\", encoder_test_input[15], \"\\ndecoder_test_input[15]:\", decoder_test_input[15], \"\\ndecoder_test_target[15]:\", decoder_test_target[15], \"\\n\")\n",
        "\n",
        "    return encoder_train_input, decoder_train_input, decoder_train_target, encoder_test_input, decoder_test_input, decoder_test_target"
      ],
      "execution_count": null,
      "outputs": []
    },
    {
      "cell_type": "code",
      "metadata": {
        "colab": {
          "base_uri": "https://localhost:8080/"
        },
        "id": "VsIEfVf93_E1",
        "outputId": "1824977c-58fc-47d5-9922-1b3875968a99"
      },
      "source": [
        "# split the data into train and test set\n",
        "num_train_sample = 750\n",
        "encoder_train_input, decoder_train_input, decoder_train_target, encoder_test_input, decoder_test_input, decoder_test_target \\\n",
        "= \\\n",
        "get_train_test_data(num_train_sample, encoder_input_indices, padded_decoder_input, padded_decoder_target)"
      ],
      "execution_count": null,
      "outputs": [
        {
          "output_type": "stream",
          "text": [
            "Number of training samples: 750\n",
            "Number of testing samples: 37\n",
            "\n",
            "encoder_train_input[0]: [9, 7, 7, 30] \n",
            "decoder_train_input[0]: [ 8 26  2  5  4  0  0  0  0  0  0  0  0  0  0  0  0  0  0  0  0  0  0  0\n",
            "  0  0  0  0  0] \n",
            "decoder_train_target[0]: [26  2  5  4  9  0  0  0  0  0  0  0  0  0  0  0  0  0  0  0  0  0  0  0\n",
            "  0  0  0  0  0] \n",
            "\n",
            "encoder_train_input[69]: [2, 40, 10, 3] \n",
            "decoder_train_input[69]: [ 8  1 31 31 39  1  6  3 13  0  0  0  0  0  0  0  0  0  0  0  0  0  0  0\n",
            "  0  0  0  0  0] \n",
            "decoder_train_target[69]: [ 1 31 31 39  1  6  3 13  9  0  0  0  0  0  0  0  0  0  0  0  0  0  0  0\n",
            "  0  0  0  0  0] \n",
            "\n",
            "encoder_test_input[0]: [7, 45, 22, 30] \n",
            "decoder_test_input[0]: [ 8 41  6 10 40  0  0  0  0  0  0  0  0  0  0  0  0  0  0  0  0  0  0  0\n",
            "  0  0  0  0  0] \n",
            "decoder_test_target[0]: [41  6 10 40  9  0  0  0  0  0  0  0  0  0  0  0  0  0  0  0  0  0  0  0\n",
            "  0  0  0  0  0] \n",
            "\n",
            "encoder_test_input[15]: [19, 4, 4, 13] \n",
            "decoder_test_input[15]: [8 5 1 3 0 0 0 0 0 0 0 0 0 0 0 0 0 0 0 0 0 0 0 0 0 0 0 0 0] \n",
            "decoder_test_target[15]: [5 1 3 9 0 0 0 0 0 0 0 0 0 0 0 0 0 0 0 0 0 0 0 0 0 0 0 0 0] \n",
            "\n"
          ],
          "name": "stdout"
        }
      ]
    },
    {
      "cell_type": "markdown",
      "metadata": {
        "id": "XAds_3UGUqhY"
      },
      "source": [
        "Now, we'll find the number of unique tokens in the encoder and decoder input text. This will determine the <font size=5> *vocab_size* </font> and <font size=5>*dimension of one-hot encoding*</font>.\n",
        "\n",
        "The *max value* from the word2idx dict is basically the number of unique tokens."
      ]
    },
    {
      "cell_type": "code",
      "metadata": {
        "colab": {
          "base_uri": "https://localhost:8080/"
        },
        "id": "fduSU8fIKTJJ",
        "outputId": "d91e97d8-d3d3-403c-84e3-3e630cd0e930"
      },
      "source": [
        "num_encoder_tokens = max(encoder_word2idx.values())\n",
        "num_decoder_tokens = max(decoder_word2idx.values())\n",
        "\n",
        "print(\"Number of unique input tokens:\", num_encoder_tokens)\n",
        "print(\"Number of unique output tokens:\", num_decoder_tokens)"
      ],
      "execution_count": null,
      "outputs": [
        {
          "output_type": "stream",
          "text": [
            "Number of unique input tokens: 50\n",
            "Number of unique output tokens: 52\n"
          ],
          "name": "stdout"
        }
      ]
    },
    {
      "cell_type": "markdown",
      "metadata": {
        "id": "SjtE2N-GdgrK"
      },
      "source": [
        "Now that our data preprocessing is almost finished, lets give the final touch by converting all the encoder and decoder inputs to <font size=5>*onehot vectors*</font>. For now, we'll only convert the training samples."
      ]
    },
    {
      "cell_type": "code",
      "metadata": {
        "id": "e_E0omZxd0HC"
      },
      "source": [
        "def convert_to_onehot(encoder_train_input, decoder_train_input, decoder_train_target):    \n",
        "    encoder_train_input_oh = tf.one_hot(encoder_train_input, num_encoder_tokens+1, dtype='int32').numpy() # +1 for 0s (were added for padding)\n",
        "    decoder_train_input_oh = tf.one_hot(decoder_train_input, num_decoder_tokens+1, dtype='int32').numpy()\n",
        "    decoder_train_target_oh = tf.one_hot(decoder_train_target, num_decoder_tokens+1, dtype='int32').numpy()\n",
        "\n",
        "    return encoder_train_input_oh, decoder_train_input_oh, decoder_train_target_oh"
      ],
      "execution_count": null,
      "outputs": []
    },
    {
      "cell_type": "code",
      "metadata": {
        "colab": {
          "base_uri": "https://localhost:8080/"
        },
        "id": "tyMRFnWtZ32l",
        "outputId": "41261015-0891-4975-ad83-ed73041fdcee"
      },
      "source": [
        "encoder_train_input_oh, decoder_train_input_oh, decoder_train_target_oh \\\n",
        "= \\\n",
        "convert_to_onehot(encoder_train_input, decoder_train_input, decoder_train_target)\n",
        "\n",
        "print(\"encoder_train_input_oh shape:\", encoder_train_input_oh.shape)\n",
        "print(\"decoder_train_input_oh shape:\", decoder_train_input_oh.shape)\n",
        "print(\"decoder_train_target_oh shape:\", decoder_train_target_oh.shape)"
      ],
      "execution_count": null,
      "outputs": [
        {
          "output_type": "stream",
          "text": [
            "encoder_train_input_oh shape: (750, 4, 51)\n",
            "decoder_train_input_oh shape: (750, 29, 53)\n",
            "decoder_train_target_oh shape: (750, 29, 53)\n"
          ],
          "name": "stdout"
        }
      ]
    },
    {
      "cell_type": "code",
      "metadata": {
        "colab": {
          "base_uri": "https://localhost:8080/"
        },
        "id": "amLuXKoeJsMz",
        "outputId": "ea56ba27-10f2-4934-83bd-7deb22852d47"
      },
      "source": [
        "encoder_train_input_oh[0]"
      ],
      "execution_count": null,
      "outputs": [
        {
          "output_type": "execute_result",
          "data": {
            "text/plain": [
              "array([[0, 0, 0, 0, 0, 0, 0, 0, 0, 1, 0, 0, 0, 0, 0, 0, 0, 0, 0, 0, 0, 0,\n",
              "        0, 0, 0, 0, 0, 0, 0, 0, 0, 0, 0, 0, 0, 0, 0, 0, 0, 0, 0, 0, 0, 0,\n",
              "        0, 0, 0, 0, 0, 0, 0],\n",
              "       [0, 0, 0, 0, 0, 0, 0, 1, 0, 0, 0, 0, 0, 0, 0, 0, 0, 0, 0, 0, 0, 0,\n",
              "        0, 0, 0, 0, 0, 0, 0, 0, 0, 0, 0, 0, 0, 0, 0, 0, 0, 0, 0, 0, 0, 0,\n",
              "        0, 0, 0, 0, 0, 0, 0],\n",
              "       [0, 0, 0, 0, 0, 0, 0, 1, 0, 0, 0, 0, 0, 0, 0, 0, 0, 0, 0, 0, 0, 0,\n",
              "        0, 0, 0, 0, 0, 0, 0, 0, 0, 0, 0, 0, 0, 0, 0, 0, 0, 0, 0, 0, 0, 0,\n",
              "        0, 0, 0, 0, 0, 0, 0],\n",
              "       [0, 0, 0, 0, 0, 0, 0, 0, 0, 0, 0, 0, 0, 0, 0, 0, 0, 0, 0, 0, 0, 0,\n",
              "        0, 0, 0, 0, 0, 0, 0, 0, 1, 0, 0, 0, 0, 0, 0, 0, 0, 0, 0, 0, 0, 0,\n",
              "        0, 0, 0, 0, 0, 0, 0]], dtype=int32)"
            ]
          },
          "metadata": {
            "tags": []
          },
          "execution_count": 76
        }
      ]
    },
    {
      "cell_type": "markdown",
      "metadata": {
        "id": "Q0aJkmI4KMB0"
      },
      "source": [
        "# Defining the training model\n",
        "\n",
        "Finally, we are done with data preprocessing and we've managed to put all our data in the right shape for feeding into the encoder-decoder architecture. Now, lets define the model."
      ]
    },
    {
      "cell_type": "code",
      "metadata": {
        "id": "1ZVQVwABAndA"
      },
      "source": [
        "from tensorflow.keras import Model, layers, Input\n",
        "import tensorflow.keras.backend as K"
      ],
      "execution_count": null,
      "outputs": []
    },
    {
      "cell_type": "code",
      "metadata": {
        "id": "KANP2aCqKpB9"
      },
      "source": [
        "# K.clear_session()\n",
        "# n_units = 32\n",
        "# max_enc_seq_len = 4\n",
        "# max_dec_seq_len = 29\n",
        "\n",
        "# # define encoder\n",
        "# encoder_inputs = Input(shape=(None, num_encoder_tokens+1), name=\"encoder_input\")\n",
        "# encoder = layers.LSTM(n_units, return_state=True, name=\"encoder_lstm\")\n",
        "# encoder_outputs, state_h, state_c = encoder(encoder_inputs)\n",
        "# encoder_states = [state_h, state_c]\n",
        "\n",
        "# # define decoder\n",
        "# decoder_inputs = Input(shape=(None, num_decoder_tokens+1), name=\"decoder_input\")\n",
        "# masked_decoder_inputs = layers.Masking(mask_value=0, name=\"decoder_masking\")(decoder_inputs)\n",
        "# decoder_lstm = layers.LSTM(n_units, return_sequences=True, return_state=True, name=\"decoder_lstm\")\n",
        "# decoder_outputs, _, _ = decoder_lstm(masked_decoder_inputs, initial_state=encoder_states)\n",
        "# decoder_dense = layers.Dense(num_decoder_tokens+1, activation='softmax', name=\"decoder_dense\")\n",
        "# decoder_outputs = decoder_dense(decoder_outputs)\n",
        "\n",
        "# # define training model\n",
        "# model = Model([encoder_inputs, decoder_inputs], decoder_outputs)\n",
        "# model.summary()"
      ],
      "execution_count": null,
      "outputs": []
    },
    {
      "cell_type": "code",
      "metadata": {
        "id": "hx1BvTIcE9KQ"
      },
      "source": [
        "# compile\n",
        "# model.compile(optimizer='adam', loss='categorical_crossentropy', metrics=['accuracy'])"
      ],
      "execution_count": null,
      "outputs": []
    },
    {
      "cell_type": "code",
      "metadata": {
        "id": "-k4Vpz1bFXv3"
      },
      "source": [
        "# K.clear_session()\n",
        "# # fit\n",
        "# history = model.fit( \\\n",
        "#             [encoder_train_input_oh, decoder_train_input_oh], decoder_train_target_oh, \\\n",
        "#             batch_size=64, \\\n",
        "#             epochs=150, \\\n",
        "#             validation_split=0.1\n",
        "#         )\n",
        "# model.save(\"s2s_normal\")"
      ],
      "execution_count": null,
      "outputs": []
    },
    {
      "cell_type": "code",
      "metadata": {
        "id": "mU2l_cqQs9cN"
      },
      "source": [
        "def plot_history(history):\n",
        "\n",
        "    print(\"Max Train Accuracy\", max(history.history['accuracy']))\n",
        "    print(\"Max Validation Accuracy\", max(history.history['val_accuracy']))\n",
        "    print()\n",
        "\n",
        "    # code for plotting metrics\n",
        "    from matplotlib import pyplot\n",
        "\n",
        "    # plot metrics\n",
        "    pyplot.plot(history.history['loss'])\n",
        "    pyplot.plot(history.history['val_loss'])\n",
        "    pyplot.show()\n",
        "    pyplot.plot(history.history['accuracy'])\n",
        "    pyplot.plot(history.history['val_accuracy'])\n",
        "    pyplot.show()"
      ],
      "execution_count": null,
      "outputs": []
    },
    {
      "cell_type": "markdown",
      "metadata": {
        "id": "TQ03vtkztW2J"
      },
      "source": [
        "# Inference mode\n",
        "\n",
        "Now, lets build the model for inference. Here, the same layers as from the training model will be used. \n",
        "\n",
        "In case of correct prediction, the prediction from previous timestep will be fed into the next timestep as input. In case of wrong prediction, we'll feed the actual step in the original attack sequence as the input. This will help our model to keep track of the actual circumstances and prevent a single wrong prediction to propagate into future timesteps."
      ]
    },
    {
      "cell_type": "code",
      "metadata": {
        "id": "Z5E7-S_rvXrX"
      },
      "source": [
        "# from tensorflow.keras import models\n",
        "# model = models.load_model(\"s2s_normal\")"
      ],
      "execution_count": null,
      "outputs": []
    },
    {
      "cell_type": "code",
      "metadata": {
        "id": "gcAZbgpIv8Ne"
      },
      "source": [
        "# n_units = 32\n",
        "# # define inference encoder\n",
        "# encoder_inputs = model.input[0]\n",
        "# encoder_outputs, state_h_enc, state_c_enc = model.layers[2].output\n",
        "# encoder_states = [state_h_enc, state_c_enc]\n",
        "# infer_encoder_model = Model(encoder_inputs, encoder_states)\n",
        "\n",
        "# # define inference decoder\n",
        "# decoder_inputs = model.input[1]\n",
        "# decoder_state_input_h = Input(shape=(n_units,), name=\"decoder_state_input_h\")\n",
        "# decoder_state_input_c = Input(shape=(n_units,), name=\"decoder_state_input_c\")\n",
        "# decoder_states_inputs = [decoder_state_input_h, decoder_state_input_c]\n",
        "# decoder_lstm = model.layers[3]\n",
        "# decoder_outputs, state_h_dec, state_c_dec = decoder_lstm(decoder_inputs, initial_state=decoder_states_inputs)\n",
        "# decoder_states = [state_h_dec, state_c_dec]\n",
        "# decoder_dense = model.layers[4]\n",
        "# decoder_outputs = decoder_dense(decoder_outputs)\n",
        "# infer_decoder_model = Model([decoder_inputs] + decoder_states_inputs, [decoder_outputs] + decoder_states, name=\"normal_model\")\n",
        "# infer_decoder_model.summary()"
      ],
      "execution_count": null,
      "outputs": []
    },
    {
      "cell_type": "code",
      "metadata": {
        "id": "PQ_q5bEd6YcQ"
      },
      "source": [
        "def decode_sequence(infer_encoder_model, infer_decoder_model, input_seq, actual_target_sequence):\n",
        "    input_seq_oh = tf.one_hot(input_seq, num_encoder_tokens+1, dtype='int32').numpy()\n",
        "\n",
        "    # Generate empty target sequence of length 1.\n",
        "    target_seq = np.zeros((1, 1, num_decoder_tokens+1))\n",
        "    # Populate the first character of target sequence with the start character <sos>\n",
        "    target_seq[0, 0, decoder_word2idx['<sos>']] = 1\n",
        "\n",
        "    # Encode the input as state vectors.\n",
        "    states_value = infer_encoder_model.predict(input_seq_oh)\n",
        "\n",
        "    # Sampling loop for a batch of sequences\n",
        "    # (to simplify, here we assume a batch of size 1).\n",
        "    stop_condition = False\n",
        "    decoded_sequence = []\n",
        "    print(\"Actual Sequence:\", actual_target_sequence)\n",
        "    idx = 0\n",
        "\n",
        "    while not stop_condition:\n",
        "        #print(target_seq)\n",
        "        # output_tokens, h, c = infer_decoder_model.predict([target_seq] + states_value)\n",
        "        to_split = infer_decoder_model.predict([target_seq] + states_value)\n",
        "        output_tokens, states_value = to_split[0], to_split[1:]\n",
        "\n",
        "        # Sample a token\n",
        "        sampled_token_index = np.argmax(output_tokens[0, 0])\n",
        "        decoded_sequence.append(sampled_token_index)\n",
        "        #sampled_step = decoder_idx2word[sampled_token_index]\n",
        "        \n",
        "        # Exit condition: either hit max length\n",
        "        # or find stop character <eos>\n",
        "        if actual_target_sequence[idx] == decoder_word2idx['<eos>']:\n",
        "            stop_condition = True\n",
        "\n",
        "        # Update the target sequence (of length 1)\n",
        "        target_seq = np.zeros((1, 1, num_decoder_tokens+1))\n",
        "        # print(\"actual:\", actual_target_sequence[idx])\n",
        "        # print(\"predicted:\", sampled_token_index)\n",
        "        if sampled_token_index == actual_target_sequence[idx]:\n",
        "            # print(\"match\")\n",
        "            target_seq[0, 0, sampled_token_index] = 1\n",
        "        else:\n",
        "            target_seq[0, 0, actual_target_sequence[idx]] = 1 # feed in the actual step in case of wrong prediction\n",
        "        \n",
        "        # Update states\n",
        "        # states_value = [h, c]\n",
        "        idx += 1\n",
        "\n",
        "    print(\"Predicted Sequence:\", decoded_sequence)\n",
        "    return decoded_sequence"
      ],
      "execution_count": null,
      "outputs": []
    },
    {
      "cell_type": "code",
      "metadata": {
        "id": "ZKWAgDMgKhD6"
      },
      "source": [
        "def predict(infer_encoder_model, infer_decoder_model, encoder_test_input, decoder_test_target): \n",
        "    predicted_sequences = []\n",
        "    correct_steps = []\n",
        "    total_step_count = 0\n",
        "    accurate_prediction_count = 0\n",
        "\n",
        "    num_test_samples = len(encoder_test_input)\n",
        "    for i in range(num_test_samples):\n",
        "        input_seq = encoder_test_input[i:i+1]\n",
        "        decoded_sequence = decode_sequence(infer_encoder_model, infer_decoder_model, input_seq, decoder_test_target[i])\n",
        "        correct_steps = [i for i, j in zip(decoder_test_target[i], decoded_sequence) if i == j]\n",
        "        curr_acc_pred_cnt = len(correct_steps)\n",
        "        accurate_prediction_count += curr_acc_pred_cnt\n",
        "        total_step_count += len(decoded_sequence)\n",
        "        print(curr_acc_pred_cnt, \" step(s) correctly predicted\")\n",
        "\n",
        "        predicted_sequences.append(decoded_sequence)\n",
        "        print()\n",
        "\n",
        "    print(\"Total Predicted Steps:\", total_step_count)\n",
        "    print(\"Total Accurate Prediction:\", accurate_prediction_count)\n",
        "\n",
        "    return predicted_sequences"
      ],
      "execution_count": null,
      "outputs": []
    },
    {
      "cell_type": "code",
      "metadata": {
        "id": "naV_v3cQSgRH"
      },
      "source": [
        "# predicted_sequences = predict(infer_encoder_model, infer_decoder_model, encoder_test_input, decoder_test_target)"
      ],
      "execution_count": null,
      "outputs": []
    },
    {
      "cell_type": "code",
      "metadata": {
        "id": "UNh8-iKVMjpe"
      },
      "source": [
        "# from itertools import chain\n",
        "# print(\"unique steps in actual data:\", len(np.unique(decoder_test_target)))\n",
        "# print(\"unique steps in predicted data:\", len(Counter(chain(*predicted_sequences))))\n",
        "# print((Counter(chain(*decoder_test_target))))\n",
        "# print(Counter(chain(*predicted_sequences)))"
      ],
      "execution_count": null,
      "outputs": []
    },
    {
      "cell_type": "markdown",
      "metadata": {
        "id": "oFJWFdd2tFKW"
      },
      "source": [
        "Now, lets use stacked LSTM's to see how they perform."
      ]
    },
    {
      "cell_type": "code",
      "metadata": {
        "id": "TPYZKSZ_tMeq"
      },
      "source": [
        "def get_stacked_model(n_units):\n",
        "\n",
        "    K.clear_session()\n",
        "    # credit: https://stackoverflow.com/a/56693548/7737870\n",
        "    # latent_dims is an array which defines the depth of the encoder/decoder, as well as how large\n",
        "    # the layers should be. So an array of sizes [a,b,c]  would produce a depth-3 encoder and decoder\n",
        "    # with layer sizes equal to [c,b,a] and [a,b,c] respectively.\n",
        "    encoder_inputs = Input(shape=(None, num_encoder_tokens+1), name=\"encoder_input\")\n",
        "    encoder_outputs = encoder_inputs\n",
        "    encoder_states = []\n",
        "    for j in range(len(n_units))[::-1]:\n",
        "        encoder_outputs, h, c = layers.LSTM(n_units[j], return_state=True, return_sequences=bool(j), name=f\"encoder_lstm_{len(n_units) - j}\")(encoder_outputs)\n",
        "        encoder_states += [h, c]\n",
        "\n",
        "    decoder_inputs = Input(shape=(None, num_decoder_tokens+1), name=\"decoder_input\")\n",
        "    masked_decoder_inputs = layers.Masking(mask_value=0, name=\"decoder_masking\")(decoder_inputs)\n",
        "    decoder_outputs = masked_decoder_inputs\n",
        "    output_layers = []\n",
        "    for j in range(len(n_units)):\n",
        "        output_layers.append( \\\n",
        "            layers.LSTM(n_units[len(n_units) - j - 1], return_sequences=True, return_state=True, name=f\"decoder_lstm_{j+1}\") \\\n",
        "        )\n",
        "        decoder_outputs, dh, dc = output_layers[-1](decoder_outputs, initial_state=encoder_states[2*j:2*(j+1)])\n",
        "\n",
        "    decoder_dense = layers.Dense(num_decoder_tokens+1, activation='softmax', name=\"decoder_dense\")\n",
        "    decoder_outputs = decoder_dense(decoder_outputs)\n",
        "\n",
        "    # define training model\n",
        "    stacked_model = Model([encoder_inputs, decoder_inputs], decoder_outputs, name=\"stacked_model\")\n",
        "\n",
        "    return stacked_model"
      ],
      "execution_count": null,
      "outputs": []
    },
    {
      "cell_type": "code",
      "metadata": {
        "id": "-5Tx8gENDOYL"
      },
      "source": [
        "# n_units = [32, 32, 32]\n",
        "# stacked_model = get_stacked_model(n_units)\n",
        "# stacked_model.summary()\n",
        "# # compile\n",
        "# stacked_model.compile(optimizer='adam', loss='categorical_crossentropy', metrics=['accuracy'])"
      ],
      "execution_count": null,
      "outputs": []
    },
    {
      "cell_type": "code",
      "metadata": {
        "id": "7AgMOoH6DgOU"
      },
      "source": [
        "# K.clear_session()\n",
        "# # fit\n",
        "# history = stacked_model.fit( \\\n",
        "#             [encoder_train_input_oh, decoder_train_input_oh], decoder_train_target_oh, \\\n",
        "#             batch_size=64, \\\n",
        "#             epochs=150, \\\n",
        "#             validation_split=0.1\n",
        "#         )\n",
        "# stacked_model.save(\"s2s_stacked\")"
      ],
      "execution_count": null,
      "outputs": []
    },
    {
      "cell_type": "code",
      "metadata": {
        "id": "evK09Au4EBw6"
      },
      "source": [
        "# plot_history(history)"
      ],
      "execution_count": null,
      "outputs": []
    },
    {
      "cell_type": "code",
      "metadata": {
        "id": "RqXJ4FpaFIzz"
      },
      "source": [
        "# from tensorflow.keras import models\n",
        "# model = models.load_model(\"s2s_stacked\")"
      ],
      "execution_count": null,
      "outputs": []
    },
    {
      "cell_type": "code",
      "metadata": {
        "cellView": "code",
        "id": "wtvS7UYcFvn7"
      },
      "source": [
        "# # define inference encoder\n",
        "# encoder_inputs = model.input[0]\n",
        "# encoder_states = []\n",
        "# for i in range(1, len(n_units)+1):\n",
        "#     encoder_states += model.get_layer(f'encoder_lstm_{i}').output[1:]\n",
        "# infer_encoder_model = Model(encoder_inputs, encoder_states)\n",
        "\n",
        "\n",
        "# # define inference decoder\n",
        "# decoder_inputs = model.input[1]\n",
        "# decoder_outputs = decoder_inputs\n",
        "# decoder_states_inputs = []\n",
        "# decoder_states = []\n",
        "# for j in range(len(n_units))[::-1]:\n",
        "#     current_state_inputs = [Input(shape=(n_units[j],)) for _ in range(2)]\n",
        "#     temp = model.get_layer(f'decoder_lstm_{len(n_units)-j}')(decoder_outputs, initial_state=current_state_inputs)\n",
        "#     decoder_outputs, curr_states = temp[0], temp[1:]\n",
        "\n",
        "#     decoder_states += curr_states\n",
        "#     decoder_states_inputs += current_state_inputs\n",
        "\n",
        "# decoder_dense = model.get_layer('decoder_dense')\n",
        "# decoder_outputs = decoder_dense(decoder_outputs)\n",
        "# infer_decoder_model = Model([decoder_inputs] + decoder_states_inputs, [decoder_outputs] + decoder_states)\n",
        "# infer_decoder_model.summary()"
      ],
      "execution_count": null,
      "outputs": []
    },
    {
      "cell_type": "code",
      "metadata": {
        "id": "kEHn-hVDHnwc"
      },
      "source": [
        "# predicted_sequences = predict(infer_encoder_model, infer_decoder_model, encoder_test_input, decoder_test_target)"
      ],
      "execution_count": null,
      "outputs": []
    },
    {
      "cell_type": "code",
      "metadata": {
        "id": "OtZxlsnYMFsu"
      },
      "source": [
        "# from itertools import chain\n",
        "# print(\"unique steps in actual data:\", len(np.unique(decoder_test_target)))\n",
        "# print(\"unique steps in predicted data:\", len(Counter(chain(*predicted_sequences))))\n",
        "# print((Counter(chain(*decoder_test_target))))\n",
        "# print(Counter(chain(*predicted_sequences)))"
      ],
      "execution_count": null,
      "outputs": []
    },
    {
      "cell_type": "markdown",
      "metadata": {
        "id": "Yed6W_Z0ne10"
      },
      "source": [
        "Lets try out a model with embedding layer."
      ]
    },
    {
      "cell_type": "code",
      "metadata": {
        "id": "rbSoF2LAclFu",
        "colab": {
          "base_uri": "https://localhost:8080/"
        },
        "outputId": "39e22882-b863-4063-8cfd-658e0d6aa808"
      },
      "source": [
        "K.clear_session()\n",
        "n_units = [32, 32, 32]\n",
        "emb_dim = 128\n",
        "# credit: https://stackoverflow.com/a/56693548/7737870\n",
        "# latent_dims is an array which defines the depth of the encoder/decoder, as well as how large\n",
        "# the layers should be. So an array of sizes [a,b,c]  would produce a depth-3 encoder and decoder\n",
        "# with layer sizes equal to [c,b,a] and [a,b,c] respectively.\n",
        "\n",
        "# define encoder\n",
        "encoder_inputs = layers.Input(shape=(max_encoder_seq_length, ), name=\"encoder_input\")\n",
        "embedded_encoder_inputs = layers.Embedding(input_dim=num_encoder_tokens+1, output_dim=emb_dim, input_length=max_encoder_seq_length, name=\"encoder_embedding\")(encoder_inputs)\n",
        "encoder_outputs = embedded_encoder_inputs\n",
        "encoder_states = []\n",
        "for j in range(len(n_units))[::-1]:\n",
        "    encoder_outputs, h, c = layers.LSTM(n_units[j], return_state=True, return_sequences=bool(j), name=f\"encoder_lstm_{len(n_units) - j}\")(encoder_outputs)\n",
        "    encoder_states += [h, c]\n",
        "\n",
        "# define decoder\n",
        "decoder_inputs = layers.Input(shape=(max_decoder_seq_length, ), name=\"decoder_input\")\n",
        "embedded_decoder_inputs = layers.Embedding(input_dim=num_decoder_tokens+1, output_dim=emb_dim, \\\n",
        "                                           input_length=max_decoder_seq_length, mask_zero=True, name=\"decoder_embedding\")(decoder_inputs)\n",
        "decoder_outputs = embedded_decoder_inputs\n",
        "output_layers = []\n",
        "for j in range(len(n_units)):\n",
        "    output_layers.append( \\\n",
        "        layers.LSTM(n_units[len(n_units) - j - 1], return_sequences=True, return_state=True, name=f\"decoder_lstm_{j+1}\") \\\n",
        "    )\n",
        "    decoder_outputs, dh, dc = output_layers[-1](decoder_outputs, initial_state=encoder_states[2*j:2*(j+1)])\n",
        "\n",
        "decoder_dense = layers.Dense(num_decoder_tokens+1, activation='softmax', name=\"decoder_dense\")\n",
        "decoder_outputs = decoder_dense(decoder_outputs)\n",
        "\n",
        "# define training model\n",
        "stacked_embed_model = Model([encoder_inputs, decoder_inputs], decoder_outputs, name=\"stacked_model\")\n",
        "stacked_embed_model.summary()"
      ],
      "execution_count": null,
      "outputs": [
        {
          "output_type": "stream",
          "text": [
            "Model: \"stacked_model\"\n",
            "__________________________________________________________________________________________________\n",
            "Layer (type)                    Output Shape         Param #     Connected to                     \n",
            "==================================================================================================\n",
            "encoder_input (InputLayer)      [(None, 4)]          0                                            \n",
            "__________________________________________________________________________________________________\n",
            "decoder_input (InputLayer)      [(None, 29)]         0                                            \n",
            "__________________________________________________________________________________________________\n",
            "encoder_embedding (Embedding)   (None, 4, 128)       6528        encoder_input[0][0]              \n",
            "__________________________________________________________________________________________________\n",
            "decoder_embedding (Embedding)   (None, 29, 128)      6784        decoder_input[0][0]              \n",
            "__________________________________________________________________________________________________\n",
            "encoder_lstm_1 (LSTM)           [(None, 4, 32), (Non 20608       encoder_embedding[0][0]          \n",
            "__________________________________________________________________________________________________\n",
            "decoder_lstm_1 (LSTM)           [(None, 29, 32), (No 20608       decoder_embedding[0][0]          \n",
            "                                                                 encoder_lstm_1[0][1]             \n",
            "                                                                 encoder_lstm_1[0][2]             \n",
            "__________________________________________________________________________________________________\n",
            "encoder_lstm_2 (LSTM)           [(None, 4, 32), (Non 8320        encoder_lstm_1[0][0]             \n",
            "__________________________________________________________________________________________________\n",
            "decoder_lstm_2 (LSTM)           [(None, 29, 32), (No 8320        decoder_lstm_1[0][0]             \n",
            "                                                                 encoder_lstm_2[0][1]             \n",
            "                                                                 encoder_lstm_2[0][2]             \n",
            "__________________________________________________________________________________________________\n",
            "encoder_lstm_3 (LSTM)           [(None, 32), (None,  8320        encoder_lstm_2[0][0]             \n",
            "__________________________________________________________________________________________________\n",
            "decoder_lstm_3 (LSTM)           [(None, 29, 32), (No 8320        decoder_lstm_2[0][0]             \n",
            "                                                                 encoder_lstm_3[0][1]             \n",
            "                                                                 encoder_lstm_3[0][2]             \n",
            "__________________________________________________________________________________________________\n",
            "decoder_dense (Dense)           (None, 29, 53)       1749        decoder_lstm_3[0][0]             \n",
            "==================================================================================================\n",
            "Total params: 89,557\n",
            "Trainable params: 89,557\n",
            "Non-trainable params: 0\n",
            "__________________________________________________________________________________________________\n"
          ],
          "name": "stdout"
        }
      ]
    },
    {
      "cell_type": "code",
      "metadata": {
        "id": "W1hJQFmwpmYo"
      },
      "source": [
        "from tensorflow.keras.optimizers import Adam\n",
        "adam = Adam(learning_rate=0.1)\n",
        "stacked_embed_model.compile(optimizer='adam', loss='categorical_crossentropy', metrics=['accuracy'])"
      ],
      "execution_count": null,
      "outputs": []
    },
    {
      "cell_type": "code",
      "metadata": {
        "colab": {
          "base_uri": "https://localhost:8080/"
        },
        "id": "q2-t_NuxpsJn",
        "outputId": "f41240e1-4440-42e2-f62d-0780c749158c"
      },
      "source": [
        "K.clear_session()\n",
        "# fit\n",
        "encoder_train_input_np = np.array(encoder_train_input)\n",
        "decoder_train_input_np = np.array(decoder_train_input)\n",
        "history = stacked_embed_model.fit( \\\n",
        "            [encoder_train_input_np, decoder_train_input_np], decoder_train_target_oh, \\\n",
        "            batch_size=64, \\\n",
        "            epochs=500, \\\n",
        "            validation_split=0.1\n",
        "        )\n",
        "stacked_embed_model.save(\"s2s_stacked_embed\")"
      ],
      "execution_count": null,
      "outputs": [
        {
          "output_type": "stream",
          "text": [
            "Epoch 1/500\n",
            "11/11 [==============================] - 23s 744ms/step - loss: 1.3638 - accuracy: 0.0468 - val_loss: 1.4670 - val_accuracy: 0.0541\n",
            "Epoch 2/500\n",
            "11/11 [==============================] - 1s 50ms/step - loss: 1.3946 - accuracy: 0.0631 - val_loss: 1.3930 - val_accuracy: 0.0590\n",
            "Epoch 3/500\n",
            "11/11 [==============================] - 1s 51ms/step - loss: 1.2931 - accuracy: 0.0677 - val_loss: 1.2982 - val_accuracy: 0.1032\n",
            "Epoch 4/500\n",
            "11/11 [==============================] - 1s 50ms/step - loss: 1.2502 - accuracy: 0.1099 - val_loss: 1.2585 - val_accuracy: 0.1057\n",
            "Epoch 5/500\n",
            "11/11 [==============================] - 1s 50ms/step - loss: 1.1720 - accuracy: 0.1139 - val_loss: 1.2463 - val_accuracy: 0.1106\n",
            "Epoch 6/500\n",
            "11/11 [==============================] - 1s 50ms/step - loss: 1.1590 - accuracy: 0.1122 - val_loss: 1.2429 - val_accuracy: 0.1118\n",
            "Epoch 7/500\n",
            "11/11 [==============================] - 1s 50ms/step - loss: 1.1620 - accuracy: 0.1091 - val_loss: 1.2402 - val_accuracy: 0.1130\n",
            "Epoch 8/500\n",
            "11/11 [==============================] - 1s 49ms/step - loss: 1.1606 - accuracy: 0.1109 - val_loss: 1.2389 - val_accuracy: 0.1143\n",
            "Epoch 9/500\n",
            "11/11 [==============================] - 1s 51ms/step - loss: 1.1853 - accuracy: 0.1133 - val_loss: 1.2380 - val_accuracy: 0.1179\n",
            "Epoch 10/500\n",
            "11/11 [==============================] - 1s 50ms/step - loss: 1.1642 - accuracy: 0.1131 - val_loss: 1.2364 - val_accuracy: 0.1130\n",
            "Epoch 11/500\n",
            "11/11 [==============================] - 1s 52ms/step - loss: 1.1862 - accuracy: 0.1098 - val_loss: 1.2353 - val_accuracy: 0.1167\n",
            "Epoch 12/500\n",
            "11/11 [==============================] - 1s 54ms/step - loss: 1.1976 - accuracy: 0.1107 - val_loss: 1.2349 - val_accuracy: 0.1179\n",
            "Epoch 13/500\n",
            "11/11 [==============================] - 1s 51ms/step - loss: 1.1683 - accuracy: 0.1101 - val_loss: 1.2339 - val_accuracy: 0.1216\n",
            "Epoch 14/500\n",
            "11/11 [==============================] - 1s 52ms/step - loss: 1.1673 - accuracy: 0.1119 - val_loss: 1.2335 - val_accuracy: 0.1216\n",
            "Epoch 15/500\n",
            "11/11 [==============================] - 1s 51ms/step - loss: 1.1637 - accuracy: 0.1154 - val_loss: 1.2336 - val_accuracy: 0.1167\n",
            "Epoch 16/500\n",
            "11/11 [==============================] - 1s 48ms/step - loss: 1.1738 - accuracy: 0.1101 - val_loss: 1.2317 - val_accuracy: 0.1155\n",
            "Epoch 17/500\n",
            "11/11 [==============================] - 1s 51ms/step - loss: 1.1447 - accuracy: 0.1114 - val_loss: 1.2332 - val_accuracy: 0.1069\n",
            "Epoch 18/500\n",
            "11/11 [==============================] - 1s 51ms/step - loss: 1.1873 - accuracy: 0.1138 - val_loss: 1.2311 - val_accuracy: 0.1081\n",
            "Epoch 19/500\n",
            "11/11 [==============================] - 1s 50ms/step - loss: 1.1688 - accuracy: 0.1166 - val_loss: 1.2316 - val_accuracy: 0.1106\n",
            "Epoch 20/500\n",
            "11/11 [==============================] - 1s 51ms/step - loss: 1.1682 - accuracy: 0.1182 - val_loss: 1.2307 - val_accuracy: 0.1130\n",
            "Epoch 21/500\n",
            "11/11 [==============================] - 1s 50ms/step - loss: 1.1704 - accuracy: 0.1178 - val_loss: 1.2281 - val_accuracy: 0.1106\n",
            "Epoch 22/500\n",
            "11/11 [==============================] - 1s 51ms/step - loss: 1.1594 - accuracy: 0.1184 - val_loss: 1.2278 - val_accuracy: 0.1167\n",
            "Epoch 23/500\n",
            "11/11 [==============================] - 1s 50ms/step - loss: 1.1636 - accuracy: 0.1162 - val_loss: 1.2233 - val_accuracy: 0.1179\n",
            "Epoch 24/500\n",
            "11/11 [==============================] - 1s 52ms/step - loss: 1.1255 - accuracy: 0.1190 - val_loss: 1.2192 - val_accuracy: 0.1179\n",
            "Epoch 25/500\n",
            "11/11 [==============================] - 1s 49ms/step - loss: 1.1453 - accuracy: 0.1235 - val_loss: 1.2146 - val_accuracy: 0.1204\n",
            "Epoch 26/500\n",
            "11/11 [==============================] - 1s 49ms/step - loss: 1.1420 - accuracy: 0.1216 - val_loss: 1.2092 - val_accuracy: 0.1216\n",
            "Epoch 27/500\n",
            "11/11 [==============================] - 1s 50ms/step - loss: 1.1687 - accuracy: 0.1231 - val_loss: 1.2033 - val_accuracy: 0.1167\n",
            "Epoch 28/500\n",
            "11/11 [==============================] - 1s 49ms/step - loss: 1.1149 - accuracy: 0.1205 - val_loss: 1.1952 - val_accuracy: 0.1192\n",
            "Epoch 29/500\n",
            "11/11 [==============================] - 1s 51ms/step - loss: 1.1374 - accuracy: 0.1257 - val_loss: 1.1881 - val_accuracy: 0.1216\n",
            "Epoch 30/500\n",
            "11/11 [==============================] - 1s 51ms/step - loss: 1.0885 - accuracy: 0.1286 - val_loss: 1.1893 - val_accuracy: 0.1327\n",
            "Epoch 31/500\n",
            "11/11 [==============================] - 1s 49ms/step - loss: 1.1421 - accuracy: 0.1301 - val_loss: 1.1749 - val_accuracy: 0.1339\n",
            "Epoch 32/500\n",
            "11/11 [==============================] - 1s 51ms/step - loss: 1.0800 - accuracy: 0.1389 - val_loss: 1.1733 - val_accuracy: 0.1302\n",
            "Epoch 33/500\n",
            "11/11 [==============================] - 1s 50ms/step - loss: 1.1218 - accuracy: 0.1397 - val_loss: 1.1673 - val_accuracy: 0.1388\n",
            "Epoch 34/500\n",
            "11/11 [==============================] - 1s 50ms/step - loss: 1.0665 - accuracy: 0.1447 - val_loss: 1.1626 - val_accuracy: 0.1376\n",
            "Epoch 35/500\n",
            "11/11 [==============================] - 1s 52ms/step - loss: 1.0783 - accuracy: 0.1425 - val_loss: 1.1588 - val_accuracy: 0.1388\n",
            "Epoch 36/500\n",
            "11/11 [==============================] - 1s 52ms/step - loss: 1.0581 - accuracy: 0.1558 - val_loss: 1.1535 - val_accuracy: 0.1413\n",
            "Epoch 37/500\n",
            "11/11 [==============================] - 1s 52ms/step - loss: 1.0940 - accuracy: 0.1532 - val_loss: 1.1501 - val_accuracy: 0.1486\n",
            "Epoch 38/500\n",
            "11/11 [==============================] - 1s 53ms/step - loss: 1.0878 - accuracy: 0.1537 - val_loss: 1.1457 - val_accuracy: 0.1511\n",
            "Epoch 39/500\n",
            "11/11 [==============================] - 1s 54ms/step - loss: 1.0814 - accuracy: 0.1554 - val_loss: 1.1423 - val_accuracy: 0.1536\n",
            "Epoch 40/500\n",
            "11/11 [==============================] - 1s 53ms/step - loss: 1.0942 - accuracy: 0.1617 - val_loss: 1.1354 - val_accuracy: 0.1548\n",
            "Epoch 41/500\n",
            "11/11 [==============================] - 1s 51ms/step - loss: 1.0370 - accuracy: 0.1669 - val_loss: 1.1364 - val_accuracy: 0.1585\n",
            "Epoch 42/500\n",
            "11/11 [==============================] - 1s 52ms/step - loss: 1.0052 - accuracy: 0.1601 - val_loss: 1.1272 - val_accuracy: 0.1597\n",
            "Epoch 43/500\n",
            "11/11 [==============================] - 1s 52ms/step - loss: 1.0644 - accuracy: 0.1667 - val_loss: 1.1241 - val_accuracy: 0.1499\n",
            "Epoch 44/500\n",
            "11/11 [==============================] - 1s 52ms/step - loss: 1.0342 - accuracy: 0.1658 - val_loss: 1.1212 - val_accuracy: 0.1499\n",
            "Epoch 45/500\n",
            "11/11 [==============================] - 1s 53ms/step - loss: 0.9882 - accuracy: 0.1758 - val_loss: 1.1152 - val_accuracy: 0.1572\n",
            "Epoch 46/500\n",
            "11/11 [==============================] - 1s 54ms/step - loss: 1.0165 - accuracy: 0.1701 - val_loss: 1.1135 - val_accuracy: 0.1658\n",
            "Epoch 47/500\n",
            "11/11 [==============================] - 1s 51ms/step - loss: 1.0201 - accuracy: 0.1793 - val_loss: 1.1115 - val_accuracy: 0.1622\n",
            "Epoch 48/500\n",
            "11/11 [==============================] - 1s 52ms/step - loss: 1.0288 - accuracy: 0.1752 - val_loss: 1.1092 - val_accuracy: 0.1523\n",
            "Epoch 49/500\n",
            "11/11 [==============================] - 1s 52ms/step - loss: 1.0310 - accuracy: 0.1758 - val_loss: 1.1053 - val_accuracy: 0.1683\n",
            "Epoch 50/500\n",
            "11/11 [==============================] - 1s 52ms/step - loss: 1.0540 - accuracy: 0.1786 - val_loss: 1.1028 - val_accuracy: 0.1708\n",
            "Epoch 51/500\n",
            "11/11 [==============================] - 1s 50ms/step - loss: 1.0208 - accuracy: 0.1916 - val_loss: 1.1008 - val_accuracy: 0.1744\n",
            "Epoch 52/500\n",
            "11/11 [==============================] - 1s 50ms/step - loss: 1.0145 - accuracy: 0.1896 - val_loss: 1.0983 - val_accuracy: 0.1769\n",
            "Epoch 53/500\n",
            "11/11 [==============================] - 1s 52ms/step - loss: 1.0024 - accuracy: 0.1884 - val_loss: 1.0946 - val_accuracy: 0.1720\n",
            "Epoch 54/500\n",
            "11/11 [==============================] - 1s 53ms/step - loss: 1.0137 - accuracy: 0.1934 - val_loss: 1.0969 - val_accuracy: 0.1830\n",
            "Epoch 55/500\n",
            "11/11 [==============================] - 1s 51ms/step - loss: 1.0087 - accuracy: 0.1932 - val_loss: 1.0870 - val_accuracy: 0.1806\n",
            "Epoch 56/500\n",
            "11/11 [==============================] - 1s 50ms/step - loss: 0.9965 - accuracy: 0.1914 - val_loss: 1.0856 - val_accuracy: 0.1830\n",
            "Epoch 57/500\n",
            "11/11 [==============================] - 1s 51ms/step - loss: 0.9933 - accuracy: 0.2000 - val_loss: 1.0811 - val_accuracy: 0.1916\n",
            "Epoch 58/500\n",
            "11/11 [==============================] - 1s 49ms/step - loss: 0.9696 - accuracy: 0.2100 - val_loss: 1.0798 - val_accuracy: 0.1781\n",
            "Epoch 59/500\n",
            "11/11 [==============================] - 1s 51ms/step - loss: 0.9841 - accuracy: 0.2011 - val_loss: 1.0784 - val_accuracy: 0.1843\n",
            "Epoch 60/500\n",
            "11/11 [==============================] - 1s 50ms/step - loss: 0.9812 - accuracy: 0.2144 - val_loss: 1.0778 - val_accuracy: 0.1843\n",
            "Epoch 61/500\n",
            "11/11 [==============================] - 1s 51ms/step - loss: 0.9571 - accuracy: 0.2094 - val_loss: 1.0733 - val_accuracy: 0.1880\n",
            "Epoch 62/500\n",
            "11/11 [==============================] - 1s 51ms/step - loss: 0.9513 - accuracy: 0.2068 - val_loss: 1.0746 - val_accuracy: 0.1904\n",
            "Epoch 63/500\n",
            "11/11 [==============================] - 1s 51ms/step - loss: 0.9713 - accuracy: 0.2098 - val_loss: 1.0705 - val_accuracy: 0.1990\n",
            "Epoch 64/500\n",
            "11/11 [==============================] - 1s 50ms/step - loss: 0.9445 - accuracy: 0.2092 - val_loss: 1.0657 - val_accuracy: 0.1941\n",
            "Epoch 65/500\n",
            "11/11 [==============================] - 1s 53ms/step - loss: 0.9409 - accuracy: 0.2211 - val_loss: 1.0649 - val_accuracy: 0.1953\n",
            "Epoch 66/500\n",
            "11/11 [==============================] - 1s 51ms/step - loss: 0.9685 - accuracy: 0.2154 - val_loss: 1.0639 - val_accuracy: 0.2002\n",
            "Epoch 67/500\n",
            "11/11 [==============================] - 1s 49ms/step - loss: 0.9494 - accuracy: 0.2197 - val_loss: 1.0618 - val_accuracy: 0.2002\n",
            "Epoch 68/500\n",
            "11/11 [==============================] - 1s 51ms/step - loss: 0.9468 - accuracy: 0.2227 - val_loss: 1.0599 - val_accuracy: 0.1904\n",
            "Epoch 69/500\n",
            "11/11 [==============================] - 1s 51ms/step - loss: 0.9896 - accuracy: 0.2198 - val_loss: 1.0569 - val_accuracy: 0.2027\n",
            "Epoch 70/500\n",
            "11/11 [==============================] - 1s 51ms/step - loss: 0.9617 - accuracy: 0.2260 - val_loss: 1.0570 - val_accuracy: 0.1966\n",
            "Epoch 71/500\n",
            "11/11 [==============================] - 1s 52ms/step - loss: 0.9364 - accuracy: 0.2294 - val_loss: 1.0544 - val_accuracy: 0.1953\n",
            "Epoch 72/500\n",
            "11/11 [==============================] - 1s 51ms/step - loss: 0.9275 - accuracy: 0.2282 - val_loss: 1.0566 - val_accuracy: 0.2015\n",
            "Epoch 73/500\n",
            "11/11 [==============================] - 1s 49ms/step - loss: 0.9620 - accuracy: 0.2265 - val_loss: 1.0518 - val_accuracy: 0.1855\n",
            "Epoch 74/500\n",
            "11/11 [==============================] - 1s 52ms/step - loss: 0.9519 - accuracy: 0.2280 - val_loss: 1.0470 - val_accuracy: 0.2002\n",
            "Epoch 75/500\n",
            "11/11 [==============================] - 1s 51ms/step - loss: 0.9016 - accuracy: 0.2305 - val_loss: 1.0497 - val_accuracy: 0.1916\n",
            "Epoch 76/500\n",
            "11/11 [==============================] - 1s 51ms/step - loss: 0.9301 - accuracy: 0.2324 - val_loss: 1.0444 - val_accuracy: 0.1990\n",
            "Epoch 77/500\n",
            "11/11 [==============================] - 1s 55ms/step - loss: 0.9092 - accuracy: 0.2390 - val_loss: 1.0458 - val_accuracy: 0.1966\n",
            "Epoch 78/500\n",
            "11/11 [==============================] - 1s 53ms/step - loss: 0.9395 - accuracy: 0.2390 - val_loss: 1.0447 - val_accuracy: 0.2015\n",
            "Epoch 79/500\n",
            "11/11 [==============================] - 1s 53ms/step - loss: 0.9080 - accuracy: 0.2430 - val_loss: 1.0406 - val_accuracy: 0.2113\n",
            "Epoch 80/500\n",
            "11/11 [==============================] - 1s 50ms/step - loss: 0.9240 - accuracy: 0.2405 - val_loss: 1.0390 - val_accuracy: 0.2015\n",
            "Epoch 81/500\n",
            "11/11 [==============================] - 1s 51ms/step - loss: 0.8956 - accuracy: 0.2415 - val_loss: 1.0378 - val_accuracy: 0.2064\n",
            "Epoch 82/500\n",
            "11/11 [==============================] - 1s 51ms/step - loss: 0.9195 - accuracy: 0.2412 - val_loss: 1.0380 - val_accuracy: 0.2064\n",
            "Epoch 83/500\n",
            "11/11 [==============================] - 1s 50ms/step - loss: 0.9120 - accuracy: 0.2492 - val_loss: 1.0366 - val_accuracy: 0.2052\n",
            "Epoch 84/500\n",
            "11/11 [==============================] - 1s 53ms/step - loss: 0.9206 - accuracy: 0.2444 - val_loss: 1.0349 - val_accuracy: 0.2150\n",
            "Epoch 85/500\n",
            "11/11 [==============================] - 1s 51ms/step - loss: 0.9100 - accuracy: 0.2440 - val_loss: 1.0374 - val_accuracy: 0.2064\n",
            "Epoch 86/500\n",
            "11/11 [==============================] - 1s 51ms/step - loss: 0.8719 - accuracy: 0.2535 - val_loss: 1.0338 - val_accuracy: 0.2027\n",
            "Epoch 87/500\n",
            "11/11 [==============================] - 1s 50ms/step - loss: 0.8831 - accuracy: 0.2519 - val_loss: 1.0323 - val_accuracy: 0.2113\n",
            "Epoch 88/500\n",
            "11/11 [==============================] - 1s 52ms/step - loss: 0.8627 - accuracy: 0.2578 - val_loss: 1.0377 - val_accuracy: 0.2039\n",
            "Epoch 89/500\n",
            "11/11 [==============================] - 1s 51ms/step - loss: 0.8874 - accuracy: 0.2636 - val_loss: 1.0357 - val_accuracy: 0.2113\n",
            "Epoch 90/500\n",
            "11/11 [==============================] - 1s 52ms/step - loss: 0.8699 - accuracy: 0.2531 - val_loss: 1.0321 - val_accuracy: 0.2064\n",
            "Epoch 91/500\n",
            "11/11 [==============================] - 1s 52ms/step - loss: 0.8677 - accuracy: 0.2659 - val_loss: 1.0316 - val_accuracy: 0.2150\n",
            "Epoch 92/500\n",
            "11/11 [==============================] - 1s 51ms/step - loss: 0.8818 - accuracy: 0.2622 - val_loss: 1.0313 - val_accuracy: 0.2150\n",
            "Epoch 93/500\n",
            "11/11 [==============================] - 1s 53ms/step - loss: 0.8523 - accuracy: 0.2664 - val_loss: 1.0372 - val_accuracy: 0.2138\n",
            "Epoch 94/500\n",
            "11/11 [==============================] - 1s 52ms/step - loss: 0.8638 - accuracy: 0.2638 - val_loss: 1.0265 - val_accuracy: 0.2064\n",
            "Epoch 95/500\n",
            "11/11 [==============================] - 1s 53ms/step - loss: 0.8455 - accuracy: 0.2717 - val_loss: 1.0303 - val_accuracy: 0.2113\n",
            "Epoch 96/500\n",
            "11/11 [==============================] - 1s 51ms/step - loss: 0.8804 - accuracy: 0.2699 - val_loss: 1.0310 - val_accuracy: 0.2150\n",
            "Epoch 97/500\n",
            "11/11 [==============================] - 1s 51ms/step - loss: 0.8569 - accuracy: 0.2648 - val_loss: 1.0266 - val_accuracy: 0.2088\n",
            "Epoch 98/500\n",
            "11/11 [==============================] - 1s 49ms/step - loss: 0.8527 - accuracy: 0.2764 - val_loss: 1.0315 - val_accuracy: 0.2150\n",
            "Epoch 99/500\n",
            "11/11 [==============================] - 1s 51ms/step - loss: 0.8390 - accuracy: 0.2813 - val_loss: 1.0302 - val_accuracy: 0.2101\n",
            "Epoch 100/500\n",
            "11/11 [==============================] - 1s 52ms/step - loss: 0.8594 - accuracy: 0.2681 - val_loss: 1.0291 - val_accuracy: 0.2088\n",
            "Epoch 101/500\n",
            "11/11 [==============================] - 1s 51ms/step - loss: 0.8672 - accuracy: 0.2754 - val_loss: 1.0299 - val_accuracy: 0.2150\n",
            "Epoch 102/500\n",
            "11/11 [==============================] - 1s 51ms/step - loss: 0.8499 - accuracy: 0.2837 - val_loss: 1.0347 - val_accuracy: 0.2113\n",
            "Epoch 103/500\n",
            "11/11 [==============================] - 1s 51ms/step - loss: 0.8361 - accuracy: 0.2872 - val_loss: 1.0320 - val_accuracy: 0.2113\n",
            "Epoch 104/500\n",
            "11/11 [==============================] - 1s 51ms/step - loss: 0.8606 - accuracy: 0.2787 - val_loss: 1.0269 - val_accuracy: 0.2138\n",
            "Epoch 105/500\n",
            "11/11 [==============================] - 1s 52ms/step - loss: 0.8184 - accuracy: 0.2898 - val_loss: 1.0324 - val_accuracy: 0.2076\n",
            "Epoch 106/500\n",
            "11/11 [==============================] - 1s 51ms/step - loss: 0.8437 - accuracy: 0.2835 - val_loss: 1.0313 - val_accuracy: 0.2125\n",
            "Epoch 107/500\n",
            "11/11 [==============================] - 1s 52ms/step - loss: 0.8478 - accuracy: 0.2804 - val_loss: 1.0281 - val_accuracy: 0.2125\n",
            "Epoch 108/500\n",
            "11/11 [==============================] - 1s 55ms/step - loss: 0.8451 - accuracy: 0.2807 - val_loss: 1.0323 - val_accuracy: 0.2052\n",
            "Epoch 109/500\n",
            "11/11 [==============================] - 1s 51ms/step - loss: 0.8506 - accuracy: 0.2826 - val_loss: 1.0303 - val_accuracy: 0.2187\n",
            "Epoch 110/500\n",
            "11/11 [==============================] - 1s 53ms/step - loss: 0.8574 - accuracy: 0.2926 - val_loss: 1.0313 - val_accuracy: 0.2076\n",
            "Epoch 111/500\n",
            "11/11 [==============================] - 1s 52ms/step - loss: 0.8441 - accuracy: 0.2949 - val_loss: 1.0288 - val_accuracy: 0.2101\n",
            "Epoch 112/500\n",
            "11/11 [==============================] - 1s 52ms/step - loss: 0.8098 - accuracy: 0.2930 - val_loss: 1.0311 - val_accuracy: 0.2224\n",
            "Epoch 113/500\n",
            "11/11 [==============================] - 1s 52ms/step - loss: 0.8460 - accuracy: 0.2889 - val_loss: 1.0321 - val_accuracy: 0.2162\n",
            "Epoch 114/500\n",
            "11/11 [==============================] - 1s 51ms/step - loss: 0.8174 - accuracy: 0.2901 - val_loss: 1.0368 - val_accuracy: 0.2076\n",
            "Epoch 115/500\n",
            "11/11 [==============================] - 1s 52ms/step - loss: 0.8297 - accuracy: 0.3023 - val_loss: 1.0335 - val_accuracy: 0.2199\n",
            "Epoch 116/500\n",
            "11/11 [==============================] - 1s 51ms/step - loss: 0.8327 - accuracy: 0.2958 - val_loss: 1.0346 - val_accuracy: 0.2113\n",
            "Epoch 117/500\n",
            "11/11 [==============================] - 1s 51ms/step - loss: 0.8298 - accuracy: 0.2998 - val_loss: 1.0404 - val_accuracy: 0.2088\n",
            "Epoch 118/500\n",
            "11/11 [==============================] - 1s 51ms/step - loss: 0.8318 - accuracy: 0.3031 - val_loss: 1.0307 - val_accuracy: 0.2150\n",
            "Epoch 119/500\n",
            "11/11 [==============================] - 1s 51ms/step - loss: 0.8231 - accuracy: 0.3061 - val_loss: 1.0361 - val_accuracy: 0.2150\n",
            "Epoch 120/500\n",
            "11/11 [==============================] - 1s 52ms/step - loss: 0.8063 - accuracy: 0.3127 - val_loss: 1.0458 - val_accuracy: 0.2125\n",
            "Epoch 121/500\n",
            "11/11 [==============================] - 1s 50ms/step - loss: 0.8086 - accuracy: 0.3083 - val_loss: 1.0392 - val_accuracy: 0.2211\n",
            "Epoch 122/500\n",
            "11/11 [==============================] - 1s 53ms/step - loss: 0.8414 - accuracy: 0.3090 - val_loss: 1.0323 - val_accuracy: 0.2162\n",
            "Epoch 123/500\n",
            "11/11 [==============================] - 1s 49ms/step - loss: 0.8335 - accuracy: 0.3086 - val_loss: 1.0310 - val_accuracy: 0.2174\n",
            "Epoch 124/500\n",
            "11/11 [==============================] - 1s 53ms/step - loss: 0.7935 - accuracy: 0.3168 - val_loss: 1.0485 - val_accuracy: 0.2088\n",
            "Epoch 125/500\n",
            "11/11 [==============================] - 1s 50ms/step - loss: 0.7713 - accuracy: 0.3206 - val_loss: 1.0384 - val_accuracy: 0.2125\n",
            "Epoch 126/500\n",
            "11/11 [==============================] - 1s 52ms/step - loss: 0.7879 - accuracy: 0.3179 - val_loss: 1.0308 - val_accuracy: 0.2224\n",
            "Epoch 127/500\n",
            "11/11 [==============================] - 1s 50ms/step - loss: 0.8211 - accuracy: 0.3125 - val_loss: 1.0555 - val_accuracy: 0.2125\n",
            "Epoch 128/500\n",
            "11/11 [==============================] - 1s 53ms/step - loss: 0.8214 - accuracy: 0.3195 - val_loss: 1.0389 - val_accuracy: 0.2248\n",
            "Epoch 129/500\n",
            "11/11 [==============================] - 1s 53ms/step - loss: 0.8006 - accuracy: 0.3185 - val_loss: 1.0513 - val_accuracy: 0.2088\n",
            "Epoch 130/500\n",
            "11/11 [==============================] - 1s 51ms/step - loss: 0.7785 - accuracy: 0.3259 - val_loss: 1.0436 - val_accuracy: 0.2224\n",
            "Epoch 131/500\n",
            "11/11 [==============================] - 1s 55ms/step - loss: 0.7765 - accuracy: 0.3244 - val_loss: 1.0533 - val_accuracy: 0.2174\n",
            "Epoch 132/500\n",
            "11/11 [==============================] - 1s 51ms/step - loss: 0.7882 - accuracy: 0.3294 - val_loss: 1.0586 - val_accuracy: 0.2125\n",
            "Epoch 133/500\n",
            "11/11 [==============================] - 1s 54ms/step - loss: 0.7598 - accuracy: 0.3372 - val_loss: 1.0508 - val_accuracy: 0.2187\n",
            "Epoch 134/500\n",
            "11/11 [==============================] - 1s 51ms/step - loss: 0.7874 - accuracy: 0.3331 - val_loss: 1.0602 - val_accuracy: 0.2088\n",
            "Epoch 135/500\n",
            "11/11 [==============================] - 1s 51ms/step - loss: 0.7731 - accuracy: 0.3427 - val_loss: 1.0606 - val_accuracy: 0.2224\n",
            "Epoch 136/500\n",
            "11/11 [==============================] - 1s 55ms/step - loss: 0.7949 - accuracy: 0.3253 - val_loss: 1.0700 - val_accuracy: 0.2273\n",
            "Epoch 137/500\n",
            "11/11 [==============================] - 1s 51ms/step - loss: 0.7574 - accuracy: 0.3418 - val_loss: 1.0593 - val_accuracy: 0.2211\n",
            "Epoch 138/500\n",
            "11/11 [==============================] - 1s 52ms/step - loss: 0.7560 - accuracy: 0.3457 - val_loss: 1.0698 - val_accuracy: 0.2162\n",
            "Epoch 139/500\n",
            "11/11 [==============================] - 1s 49ms/step - loss: 0.7700 - accuracy: 0.3402 - val_loss: 1.0653 - val_accuracy: 0.2174\n",
            "Epoch 140/500\n",
            "11/11 [==============================] - 1s 52ms/step - loss: 0.7876 - accuracy: 0.3435 - val_loss: 1.0737 - val_accuracy: 0.2125\n",
            "Epoch 141/500\n",
            "11/11 [==============================] - 1s 51ms/step - loss: 0.7356 - accuracy: 0.3499 - val_loss: 1.0586 - val_accuracy: 0.2260\n",
            "Epoch 142/500\n",
            "11/11 [==============================] - 1s 52ms/step - loss: 0.7509 - accuracy: 0.3525 - val_loss: 1.0668 - val_accuracy: 0.2248\n",
            "Epoch 143/500\n",
            "11/11 [==============================] - 1s 50ms/step - loss: 0.7642 - accuracy: 0.3484 - val_loss: 1.0732 - val_accuracy: 0.2199\n",
            "Epoch 144/500\n",
            "11/11 [==============================] - 1s 53ms/step - loss: 0.7393 - accuracy: 0.3603 - val_loss: 1.0683 - val_accuracy: 0.2150\n",
            "Epoch 145/500\n",
            "11/11 [==============================] - 1s 54ms/step - loss: 0.7449 - accuracy: 0.3565 - val_loss: 1.0893 - val_accuracy: 0.2150\n",
            "Epoch 146/500\n",
            "11/11 [==============================] - 1s 52ms/step - loss: 0.7403 - accuracy: 0.3597 - val_loss: 1.0745 - val_accuracy: 0.2187\n",
            "Epoch 147/500\n",
            "11/11 [==============================] - 1s 50ms/step - loss: 0.7611 - accuracy: 0.3507 - val_loss: 1.0828 - val_accuracy: 0.2101\n",
            "Epoch 148/500\n",
            "11/11 [==============================] - 1s 51ms/step - loss: 0.7589 - accuracy: 0.3598 - val_loss: 1.0870 - val_accuracy: 0.2150\n",
            "Epoch 149/500\n",
            "11/11 [==============================] - 1s 52ms/step - loss: 0.7806 - accuracy: 0.3556 - val_loss: 1.0847 - val_accuracy: 0.2138\n",
            "Epoch 150/500\n",
            "11/11 [==============================] - 1s 51ms/step - loss: 0.7531 - accuracy: 0.3513 - val_loss: 1.0783 - val_accuracy: 0.2162\n",
            "Epoch 151/500\n",
            "11/11 [==============================] - 1s 52ms/step - loss: 0.7438 - accuracy: 0.3559 - val_loss: 1.0850 - val_accuracy: 0.2162\n",
            "Epoch 152/500\n",
            "11/11 [==============================] - 1s 52ms/step - loss: 0.7576 - accuracy: 0.3536 - val_loss: 1.0797 - val_accuracy: 0.2088\n",
            "Epoch 153/500\n",
            "11/11 [==============================] - 1s 53ms/step - loss: 0.7391 - accuracy: 0.3567 - val_loss: 1.0885 - val_accuracy: 0.2236\n",
            "Epoch 154/500\n",
            "11/11 [==============================] - 1s 52ms/step - loss: 0.7381 - accuracy: 0.3634 - val_loss: 1.0783 - val_accuracy: 0.2150\n",
            "Epoch 155/500\n",
            "11/11 [==============================] - 1s 54ms/step - loss: 0.7275 - accuracy: 0.3609 - val_loss: 1.0885 - val_accuracy: 0.2187\n",
            "Epoch 156/500\n",
            "11/11 [==============================] - 1s 52ms/step - loss: 0.7090 - accuracy: 0.3712 - val_loss: 1.1007 - val_accuracy: 0.2064\n",
            "Epoch 157/500\n",
            "11/11 [==============================] - 1s 52ms/step - loss: 0.7255 - accuracy: 0.3653 - val_loss: 1.1042 - val_accuracy: 0.2064\n",
            "Epoch 158/500\n",
            "11/11 [==============================] - 1s 52ms/step - loss: 0.7734 - accuracy: 0.3636 - val_loss: 1.0873 - val_accuracy: 0.2236\n",
            "Epoch 159/500\n",
            "11/11 [==============================] - 1s 53ms/step - loss: 0.7261 - accuracy: 0.3673 - val_loss: 1.1059 - val_accuracy: 0.2260\n",
            "Epoch 160/500\n",
            "11/11 [==============================] - 1s 52ms/step - loss: 0.7450 - accuracy: 0.3678 - val_loss: 1.1096 - val_accuracy: 0.2138\n",
            "Epoch 161/500\n",
            "11/11 [==============================] - 1s 51ms/step - loss: 0.7685 - accuracy: 0.3610 - val_loss: 1.1002 - val_accuracy: 0.2125\n",
            "Epoch 162/500\n",
            "11/11 [==============================] - 1s 51ms/step - loss: 0.7435 - accuracy: 0.3681 - val_loss: 1.0990 - val_accuracy: 0.2162\n",
            "Epoch 163/500\n",
            "11/11 [==============================] - 1s 51ms/step - loss: 0.7358 - accuracy: 0.3650 - val_loss: 1.1017 - val_accuracy: 0.2211\n",
            "Epoch 164/500\n",
            "11/11 [==============================] - 1s 50ms/step - loss: 0.7257 - accuracy: 0.3717 - val_loss: 1.1171 - val_accuracy: 0.2052\n",
            "Epoch 165/500\n",
            "11/11 [==============================] - 1s 54ms/step - loss: 0.7415 - accuracy: 0.3754 - val_loss: 1.0996 - val_accuracy: 0.2162\n",
            "Epoch 166/500\n",
            "11/11 [==============================] - 1s 51ms/step - loss: 0.7180 - accuracy: 0.3772 - val_loss: 1.1094 - val_accuracy: 0.2125\n",
            "Epoch 167/500\n",
            "11/11 [==============================] - 1s 52ms/step - loss: 0.7451 - accuracy: 0.3739 - val_loss: 1.1150 - val_accuracy: 0.2101\n",
            "Epoch 168/500\n",
            "11/11 [==============================] - 1s 51ms/step - loss: 0.7285 - accuracy: 0.3810 - val_loss: 1.1104 - val_accuracy: 0.2260\n",
            "Epoch 169/500\n",
            "11/11 [==============================] - 1s 53ms/step - loss: 0.6993 - accuracy: 0.3823 - val_loss: 1.1234 - val_accuracy: 0.2187\n",
            "Epoch 170/500\n",
            "11/11 [==============================] - 1s 54ms/step - loss: 0.6797 - accuracy: 0.3952 - val_loss: 1.1179 - val_accuracy: 0.2199\n",
            "Epoch 171/500\n",
            "11/11 [==============================] - 1s 51ms/step - loss: 0.7331 - accuracy: 0.3818 - val_loss: 1.1193 - val_accuracy: 0.2138\n",
            "Epoch 172/500\n",
            "11/11 [==============================] - 1s 53ms/step - loss: 0.7006 - accuracy: 0.3885 - val_loss: 1.1346 - val_accuracy: 0.2027\n",
            "Epoch 173/500\n",
            "11/11 [==============================] - 1s 50ms/step - loss: 0.7187 - accuracy: 0.3837 - val_loss: 1.1363 - val_accuracy: 0.2039\n",
            "Epoch 174/500\n",
            "11/11 [==============================] - 1s 54ms/step - loss: 0.7021 - accuracy: 0.3910 - val_loss: 1.1306 - val_accuracy: 0.2138\n",
            "Epoch 175/500\n",
            "11/11 [==============================] - 1s 52ms/step - loss: 0.7057 - accuracy: 0.3902 - val_loss: 1.1349 - val_accuracy: 0.2088\n",
            "Epoch 176/500\n",
            "11/11 [==============================] - 1s 52ms/step - loss: 0.7111 - accuracy: 0.3875 - val_loss: 1.1352 - val_accuracy: 0.1941\n",
            "Epoch 177/500\n",
            "11/11 [==============================] - 1s 53ms/step - loss: 0.7112 - accuracy: 0.3884 - val_loss: 1.1381 - val_accuracy: 0.2088\n",
            "Epoch 178/500\n",
            "11/11 [==============================] - 1s 57ms/step - loss: 0.6759 - accuracy: 0.4026 - val_loss: 1.1494 - val_accuracy: 0.2015\n",
            "Epoch 179/500\n",
            "11/11 [==============================] - 1s 51ms/step - loss: 0.7122 - accuracy: 0.3994 - val_loss: 1.1354 - val_accuracy: 0.2101\n",
            "Epoch 180/500\n",
            "11/11 [==============================] - 1s 54ms/step - loss: 0.7097 - accuracy: 0.3869 - val_loss: 1.1558 - val_accuracy: 0.2039\n",
            "Epoch 181/500\n",
            "11/11 [==============================] - 1s 52ms/step - loss: 0.6941 - accuracy: 0.3993 - val_loss: 1.1502 - val_accuracy: 0.2052\n",
            "Epoch 182/500\n",
            "11/11 [==============================] - 1s 50ms/step - loss: 0.6786 - accuracy: 0.4072 - val_loss: 1.1561 - val_accuracy: 0.2052\n",
            "Epoch 183/500\n",
            "11/11 [==============================] - 1s 52ms/step - loss: 0.7057 - accuracy: 0.3874 - val_loss: 1.1601 - val_accuracy: 0.2113\n",
            "Epoch 184/500\n",
            "11/11 [==============================] - 1s 53ms/step - loss: 0.6737 - accuracy: 0.4089 - val_loss: 1.1625 - val_accuracy: 0.1990\n",
            "Epoch 185/500\n",
            "11/11 [==============================] - 1s 50ms/step - loss: 0.6803 - accuracy: 0.3941 - val_loss: 1.1594 - val_accuracy: 0.1990\n",
            "Epoch 186/500\n",
            "11/11 [==============================] - 1s 52ms/step - loss: 0.6993 - accuracy: 0.3985 - val_loss: 1.1769 - val_accuracy: 0.2064\n",
            "Epoch 187/500\n",
            "11/11 [==============================] - 1s 53ms/step - loss: 0.6834 - accuracy: 0.3948 - val_loss: 1.1593 - val_accuracy: 0.2064\n",
            "Epoch 188/500\n",
            "11/11 [==============================] - 1s 55ms/step - loss: 0.7267 - accuracy: 0.3960 - val_loss: 1.1557 - val_accuracy: 0.2138\n",
            "Epoch 189/500\n",
            "11/11 [==============================] - 1s 55ms/step - loss: 0.6795 - accuracy: 0.4105 - val_loss: 1.1752 - val_accuracy: 0.1990\n",
            "Epoch 190/500\n",
            "11/11 [==============================] - 1s 53ms/step - loss: 0.6755 - accuracy: 0.4176 - val_loss: 1.1717 - val_accuracy: 0.2015\n",
            "Epoch 191/500\n",
            "11/11 [==============================] - 1s 53ms/step - loss: 0.6960 - accuracy: 0.4125 - val_loss: 1.1850 - val_accuracy: 0.1990\n",
            "Epoch 192/500\n",
            "11/11 [==============================] - 1s 52ms/step - loss: 0.6663 - accuracy: 0.4156 - val_loss: 1.1857 - val_accuracy: 0.2101\n",
            "Epoch 193/500\n",
            "11/11 [==============================] - 1s 53ms/step - loss: 0.6713 - accuracy: 0.4058 - val_loss: 1.1780 - val_accuracy: 0.2039\n",
            "Epoch 194/500\n",
            "11/11 [==============================] - 1s 55ms/step - loss: 0.6628 - accuracy: 0.4163 - val_loss: 1.1858 - val_accuracy: 0.1953\n",
            "Epoch 195/500\n",
            "11/11 [==============================] - 1s 53ms/step - loss: 0.6689 - accuracy: 0.4107 - val_loss: 1.1987 - val_accuracy: 0.1916\n",
            "Epoch 196/500\n",
            "11/11 [==============================] - 1s 55ms/step - loss: 0.6833 - accuracy: 0.4108 - val_loss: 1.2007 - val_accuracy: 0.2015\n",
            "Epoch 197/500\n",
            "11/11 [==============================] - 1s 56ms/step - loss: 0.6489 - accuracy: 0.4210 - val_loss: 1.2163 - val_accuracy: 0.2015\n",
            "Epoch 198/500\n",
            "11/11 [==============================] - 1s 54ms/step - loss: 0.6912 - accuracy: 0.4104 - val_loss: 1.2007 - val_accuracy: 0.2052\n",
            "Epoch 199/500\n",
            "11/11 [==============================] - 1s 54ms/step - loss: 0.6527 - accuracy: 0.4170 - val_loss: 1.2048 - val_accuracy: 0.1978\n",
            "Epoch 200/500\n",
            "11/11 [==============================] - 1s 54ms/step - loss: 0.6498 - accuracy: 0.4184 - val_loss: 1.1921 - val_accuracy: 0.2015\n",
            "Epoch 201/500\n",
            "11/11 [==============================] - 1s 52ms/step - loss: 0.6573 - accuracy: 0.4231 - val_loss: 1.2291 - val_accuracy: 0.1978\n",
            "Epoch 202/500\n",
            "11/11 [==============================] - 1s 55ms/step - loss: 0.6718 - accuracy: 0.4253 - val_loss: 1.2178 - val_accuracy: 0.2002\n",
            "Epoch 203/500\n",
            "11/11 [==============================] - 1s 52ms/step - loss: 0.6652 - accuracy: 0.4335 - val_loss: 1.2305 - val_accuracy: 0.1941\n",
            "Epoch 204/500\n",
            "11/11 [==============================] - 1s 55ms/step - loss: 0.6855 - accuracy: 0.4206 - val_loss: 1.2342 - val_accuracy: 0.2039\n",
            "Epoch 205/500\n",
            "11/11 [==============================] - 1s 53ms/step - loss: 0.6429 - accuracy: 0.4307 - val_loss: 1.2304 - val_accuracy: 0.2015\n",
            "Epoch 206/500\n",
            "11/11 [==============================] - 1s 53ms/step - loss: 0.6450 - accuracy: 0.4308 - val_loss: 1.2207 - val_accuracy: 0.1953\n",
            "Epoch 207/500\n",
            "11/11 [==============================] - 1s 54ms/step - loss: 0.6848 - accuracy: 0.4268 - val_loss: 1.2450 - val_accuracy: 0.1904\n",
            "Epoch 208/500\n",
            "11/11 [==============================] - 1s 52ms/step - loss: 0.6430 - accuracy: 0.4273 - val_loss: 1.2347 - val_accuracy: 0.2002\n",
            "Epoch 209/500\n",
            "11/11 [==============================] - 1s 52ms/step - loss: 0.6495 - accuracy: 0.4283 - val_loss: 1.2277 - val_accuracy: 0.2039\n",
            "Epoch 210/500\n",
            "11/11 [==============================] - 1s 52ms/step - loss: 0.6488 - accuracy: 0.4230 - val_loss: 1.2376 - val_accuracy: 0.1953\n",
            "Epoch 211/500\n",
            "11/11 [==============================] - 1s 51ms/step - loss: 0.6574 - accuracy: 0.4233 - val_loss: 1.2549 - val_accuracy: 0.1990\n",
            "Epoch 212/500\n",
            "11/11 [==============================] - 1s 53ms/step - loss: 0.6447 - accuracy: 0.4408 - val_loss: 1.2394 - val_accuracy: 0.1941\n",
            "Epoch 213/500\n",
            "11/11 [==============================] - 1s 53ms/step - loss: 0.6315 - accuracy: 0.4430 - val_loss: 1.2431 - val_accuracy: 0.2015\n",
            "Epoch 214/500\n",
            "11/11 [==============================] - 1s 55ms/step - loss: 0.6413 - accuracy: 0.4453 - val_loss: 1.2508 - val_accuracy: 0.1953\n",
            "Epoch 215/500\n",
            "11/11 [==============================] - 1s 54ms/step - loss: 0.6360 - accuracy: 0.4331 - val_loss: 1.2606 - val_accuracy: 0.1978\n",
            "Epoch 216/500\n",
            "11/11 [==============================] - 1s 53ms/step - loss: 0.6550 - accuracy: 0.4321 - val_loss: 1.2496 - val_accuracy: 0.1953\n",
            "Epoch 217/500\n",
            "11/11 [==============================] - 1s 50ms/step - loss: 0.6449 - accuracy: 0.4372 - val_loss: 1.2554 - val_accuracy: 0.1990\n",
            "Epoch 218/500\n",
            "11/11 [==============================] - 1s 52ms/step - loss: 0.6375 - accuracy: 0.4399 - val_loss: 1.2589 - val_accuracy: 0.1966\n",
            "Epoch 219/500\n",
            "11/11 [==============================] - 1s 53ms/step - loss: 0.6374 - accuracy: 0.4413 - val_loss: 1.2588 - val_accuracy: 0.1966\n",
            "Epoch 220/500\n",
            "11/11 [==============================] - 1s 55ms/step - loss: 0.6402 - accuracy: 0.4380 - val_loss: 1.2557 - val_accuracy: 0.1990\n",
            "Epoch 221/500\n",
            "11/11 [==============================] - 1s 55ms/step - loss: 0.6221 - accuracy: 0.4514 - val_loss: 1.2525 - val_accuracy: 0.1941\n",
            "Epoch 222/500\n",
            "11/11 [==============================] - 1s 54ms/step - loss: 0.6094 - accuracy: 0.4527 - val_loss: 1.2664 - val_accuracy: 0.1953\n",
            "Epoch 223/500\n",
            "11/11 [==============================] - 1s 54ms/step - loss: 0.6206 - accuracy: 0.4556 - val_loss: 1.2760 - val_accuracy: 0.1929\n",
            "Epoch 224/500\n",
            "11/11 [==============================] - 1s 100ms/step - loss: 0.6233 - accuracy: 0.4476 - val_loss: 1.2793 - val_accuracy: 0.1953\n",
            "Epoch 225/500\n",
            "11/11 [==============================] - 1s 54ms/step - loss: 0.6299 - accuracy: 0.4557 - val_loss: 1.2811 - val_accuracy: 0.1892\n",
            "Epoch 226/500\n",
            "11/11 [==============================] - 1s 53ms/step - loss: 0.6160 - accuracy: 0.4557 - val_loss: 1.2828 - val_accuracy: 0.1904\n",
            "Epoch 227/500\n",
            "11/11 [==============================] - 1s 51ms/step - loss: 0.6181 - accuracy: 0.4458 - val_loss: 1.2642 - val_accuracy: 0.1880\n",
            "Epoch 228/500\n",
            "11/11 [==============================] - 1s 54ms/step - loss: 0.6196 - accuracy: 0.4464 - val_loss: 1.2766 - val_accuracy: 0.2002\n",
            "Epoch 229/500\n",
            "11/11 [==============================] - 1s 53ms/step - loss: 0.6043 - accuracy: 0.4564 - val_loss: 1.2958 - val_accuracy: 0.1916\n",
            "Epoch 230/500\n",
            "11/11 [==============================] - 1s 54ms/step - loss: 0.6113 - accuracy: 0.4554 - val_loss: 1.2678 - val_accuracy: 0.1978\n",
            "Epoch 231/500\n",
            "11/11 [==============================] - 1s 52ms/step - loss: 0.6370 - accuracy: 0.4510 - val_loss: 1.2927 - val_accuracy: 0.1880\n",
            "Epoch 232/500\n",
            "11/11 [==============================] - 1s 54ms/step - loss: 0.6199 - accuracy: 0.4623 - val_loss: 1.2824 - val_accuracy: 0.1904\n",
            "Epoch 233/500\n",
            "11/11 [==============================] - 1s 51ms/step - loss: 0.6179 - accuracy: 0.4622 - val_loss: 1.3021 - val_accuracy: 0.1941\n",
            "Epoch 234/500\n",
            "11/11 [==============================] - 1s 55ms/step - loss: 0.6210 - accuracy: 0.4585 - val_loss: 1.2914 - val_accuracy: 0.2002\n",
            "Epoch 235/500\n",
            "11/11 [==============================] - 1s 53ms/step - loss: 0.6022 - accuracy: 0.4611 - val_loss: 1.2969 - val_accuracy: 0.1966\n",
            "Epoch 236/500\n",
            "11/11 [==============================] - 1s 52ms/step - loss: 0.5950 - accuracy: 0.4627 - val_loss: 1.3161 - val_accuracy: 0.1892\n",
            "Epoch 237/500\n",
            "11/11 [==============================] - 1s 52ms/step - loss: 0.6133 - accuracy: 0.4671 - val_loss: 1.2913 - val_accuracy: 0.1904\n",
            "Epoch 238/500\n",
            "11/11 [==============================] - 1s 54ms/step - loss: 0.6062 - accuracy: 0.4563 - val_loss: 1.2989 - val_accuracy: 0.1892\n",
            "Epoch 239/500\n",
            "11/11 [==============================] - 1s 54ms/step - loss: 0.6203 - accuracy: 0.4591 - val_loss: 1.2874 - val_accuracy: 0.2015\n",
            "Epoch 240/500\n",
            "11/11 [==============================] - 1s 53ms/step - loss: 0.5902 - accuracy: 0.4700 - val_loss: 1.3036 - val_accuracy: 0.1904\n",
            "Epoch 241/500\n",
            "11/11 [==============================] - 1s 54ms/step - loss: 0.6042 - accuracy: 0.4792 - val_loss: 1.3142 - val_accuracy: 0.1916\n",
            "Epoch 242/500\n",
            "11/11 [==============================] - 1s 52ms/step - loss: 0.6041 - accuracy: 0.4696 - val_loss: 1.3063 - val_accuracy: 0.1892\n",
            "Epoch 243/500\n",
            "11/11 [==============================] - 1s 52ms/step - loss: 0.6296 - accuracy: 0.4606 - val_loss: 1.3107 - val_accuracy: 0.1867\n",
            "Epoch 244/500\n",
            "11/11 [==============================] - 1s 52ms/step - loss: 0.6076 - accuracy: 0.4636 - val_loss: 1.3209 - val_accuracy: 0.1892\n",
            "Epoch 245/500\n",
            "11/11 [==============================] - 1s 51ms/step - loss: 0.5978 - accuracy: 0.4671 - val_loss: 1.3182 - val_accuracy: 0.1916\n",
            "Epoch 246/500\n",
            "11/11 [==============================] - 1s 51ms/step - loss: 0.5933 - accuracy: 0.4740 - val_loss: 1.3174 - val_accuracy: 0.1867\n",
            "Epoch 247/500\n",
            "11/11 [==============================] - 1s 51ms/step - loss: 0.6057 - accuracy: 0.4746 - val_loss: 1.3232 - val_accuracy: 0.1916\n",
            "Epoch 248/500\n",
            "11/11 [==============================] - 1s 53ms/step - loss: 0.6029 - accuracy: 0.4732 - val_loss: 1.3197 - val_accuracy: 0.1855\n",
            "Epoch 249/500\n",
            "11/11 [==============================] - 1s 52ms/step - loss: 0.5977 - accuracy: 0.4808 - val_loss: 1.3309 - val_accuracy: 0.1880\n",
            "Epoch 250/500\n",
            "11/11 [==============================] - 1s 53ms/step - loss: 0.5906 - accuracy: 0.4722 - val_loss: 1.3187 - val_accuracy: 0.1830\n",
            "Epoch 251/500\n",
            "11/11 [==============================] - 1s 51ms/step - loss: 0.6159 - accuracy: 0.4713 - val_loss: 1.3398 - val_accuracy: 0.1892\n",
            "Epoch 252/500\n",
            "11/11 [==============================] - 1s 53ms/step - loss: 0.6094 - accuracy: 0.4770 - val_loss: 1.3427 - val_accuracy: 0.1867\n",
            "Epoch 253/500\n",
            "11/11 [==============================] - 1s 54ms/step - loss: 0.5861 - accuracy: 0.4903 - val_loss: 1.3512 - val_accuracy: 0.1880\n",
            "Epoch 254/500\n",
            "11/11 [==============================] - 1s 51ms/step - loss: 0.5928 - accuracy: 0.4854 - val_loss: 1.3414 - val_accuracy: 0.1769\n",
            "Epoch 255/500\n",
            "11/11 [==============================] - 1s 52ms/step - loss: 0.5931 - accuracy: 0.4843 - val_loss: 1.3515 - val_accuracy: 0.1855\n",
            "Epoch 256/500\n",
            "11/11 [==============================] - 1s 54ms/step - loss: 0.5864 - accuracy: 0.4884 - val_loss: 1.3419 - val_accuracy: 0.1892\n",
            "Epoch 257/500\n",
            "11/11 [==============================] - 1s 52ms/step - loss: 0.5975 - accuracy: 0.4777 - val_loss: 1.3435 - val_accuracy: 0.1855\n",
            "Epoch 258/500\n",
            "11/11 [==============================] - 1s 52ms/step - loss: 0.5810 - accuracy: 0.4858 - val_loss: 1.3697 - val_accuracy: 0.1929\n",
            "Epoch 259/500\n",
            "11/11 [==============================] - 1s 53ms/step - loss: 0.5936 - accuracy: 0.4826 - val_loss: 1.3687 - val_accuracy: 0.1806\n",
            "Epoch 260/500\n",
            "11/11 [==============================] - 1s 54ms/step - loss: 0.5769 - accuracy: 0.4980 - val_loss: 1.3715 - val_accuracy: 0.1830\n",
            "Epoch 261/500\n",
            "11/11 [==============================] - 1s 50ms/step - loss: 0.5690 - accuracy: 0.4983 - val_loss: 1.3697 - val_accuracy: 0.1904\n",
            "Epoch 262/500\n",
            "11/11 [==============================] - 1s 56ms/step - loss: 0.5835 - accuracy: 0.4961 - val_loss: 1.3691 - val_accuracy: 0.1855\n",
            "Epoch 263/500\n",
            "11/11 [==============================] - 1s 55ms/step - loss: 0.5606 - accuracy: 0.4976 - val_loss: 1.3860 - val_accuracy: 0.1843\n",
            "Epoch 264/500\n",
            "11/11 [==============================] - 1s 55ms/step - loss: 0.5825 - accuracy: 0.4885 - val_loss: 1.3712 - val_accuracy: 0.1929\n",
            "Epoch 265/500\n",
            "11/11 [==============================] - 1s 53ms/step - loss: 0.5667 - accuracy: 0.4956 - val_loss: 1.3715 - val_accuracy: 0.1794\n",
            "Epoch 266/500\n",
            "11/11 [==============================] - 1s 53ms/step - loss: 0.5823 - accuracy: 0.4921 - val_loss: 1.3923 - val_accuracy: 0.1855\n",
            "Epoch 267/500\n",
            "11/11 [==============================] - 1s 54ms/step - loss: 0.5514 - accuracy: 0.5077 - val_loss: 1.3866 - val_accuracy: 0.1830\n",
            "Epoch 268/500\n",
            "11/11 [==============================] - 1s 52ms/step - loss: 0.5783 - accuracy: 0.4966 - val_loss: 1.3937 - val_accuracy: 0.1929\n",
            "Epoch 269/500\n",
            "11/11 [==============================] - 1s 53ms/step - loss: 0.5728 - accuracy: 0.4975 - val_loss: 1.3706 - val_accuracy: 0.1867\n",
            "Epoch 270/500\n",
            "11/11 [==============================] - 1s 52ms/step - loss: 0.5616 - accuracy: 0.5058 - val_loss: 1.3898 - val_accuracy: 0.1892\n",
            "Epoch 271/500\n",
            "11/11 [==============================] - 1s 54ms/step - loss: 0.5993 - accuracy: 0.4953 - val_loss: 1.3894 - val_accuracy: 0.1855\n",
            "Epoch 272/500\n",
            "11/11 [==============================] - 1s 54ms/step - loss: 0.5848 - accuracy: 0.4968 - val_loss: 1.3901 - val_accuracy: 0.1867\n",
            "Epoch 273/500\n",
            "11/11 [==============================] - 1s 54ms/step - loss: 0.5575 - accuracy: 0.5051 - val_loss: 1.4079 - val_accuracy: 0.1867\n",
            "Epoch 274/500\n",
            "11/11 [==============================] - 1s 55ms/step - loss: 0.5619 - accuracy: 0.5019 - val_loss: 1.4052 - val_accuracy: 0.1867\n",
            "Epoch 275/500\n",
            "11/11 [==============================] - 1s 53ms/step - loss: 0.5717 - accuracy: 0.4999 - val_loss: 1.3940 - val_accuracy: 0.1855\n",
            "Epoch 276/500\n",
            "11/11 [==============================] - 1s 55ms/step - loss: 0.5443 - accuracy: 0.5016 - val_loss: 1.4078 - val_accuracy: 0.1757\n",
            "Epoch 277/500\n",
            "11/11 [==============================] - 1s 51ms/step - loss: 0.5373 - accuracy: 0.5167 - val_loss: 1.3958 - val_accuracy: 0.1843\n",
            "Epoch 278/500\n",
            "11/11 [==============================] - 1s 55ms/step - loss: 0.5342 - accuracy: 0.5100 - val_loss: 1.3868 - val_accuracy: 0.1769\n",
            "Epoch 279/500\n",
            "11/11 [==============================] - 1s 54ms/step - loss: 0.5661 - accuracy: 0.5060 - val_loss: 1.4151 - val_accuracy: 0.1830\n",
            "Epoch 280/500\n",
            "11/11 [==============================] - 1s 54ms/step - loss: 0.5646 - accuracy: 0.5093 - val_loss: 1.4085 - val_accuracy: 0.1794\n",
            "Epoch 281/500\n",
            "11/11 [==============================] - 1s 53ms/step - loss: 0.5644 - accuracy: 0.5089 - val_loss: 1.4262 - val_accuracy: 0.1781\n",
            "Epoch 282/500\n",
            "11/11 [==============================] - 1s 55ms/step - loss: 0.5818 - accuracy: 0.5058 - val_loss: 1.4122 - val_accuracy: 0.1830\n",
            "Epoch 283/500\n",
            "11/11 [==============================] - 1s 57ms/step - loss: 0.5264 - accuracy: 0.5228 - val_loss: 1.4287 - val_accuracy: 0.1806\n",
            "Epoch 284/500\n",
            "11/11 [==============================] - 1s 53ms/step - loss: 0.5533 - accuracy: 0.5159 - val_loss: 1.4263 - val_accuracy: 0.1830\n",
            "Epoch 285/500\n",
            "11/11 [==============================] - 1s 52ms/step - loss: 0.5361 - accuracy: 0.5244 - val_loss: 1.4327 - val_accuracy: 0.1806\n",
            "Epoch 286/500\n",
            "11/11 [==============================] - 1s 54ms/step - loss: 0.5323 - accuracy: 0.5303 - val_loss: 1.4452 - val_accuracy: 0.1757\n",
            "Epoch 287/500\n",
            "11/11 [==============================] - 1s 54ms/step - loss: 0.5354 - accuracy: 0.5215 - val_loss: 1.4414 - val_accuracy: 0.1732\n",
            "Epoch 288/500\n",
            "11/11 [==============================] - 1s 55ms/step - loss: 0.5320 - accuracy: 0.5235 - val_loss: 1.4493 - val_accuracy: 0.1720\n",
            "Epoch 289/500\n",
            "11/11 [==============================] - 1s 52ms/step - loss: 0.5493 - accuracy: 0.5262 - val_loss: 1.4428 - val_accuracy: 0.1769\n",
            "Epoch 290/500\n",
            "11/11 [==============================] - 1s 54ms/step - loss: 0.5448 - accuracy: 0.5237 - val_loss: 1.4321 - val_accuracy: 0.1843\n",
            "Epoch 291/500\n",
            "11/11 [==============================] - 1s 55ms/step - loss: 0.5406 - accuracy: 0.5274 - val_loss: 1.4370 - val_accuracy: 0.1769\n",
            "Epoch 292/500\n",
            "11/11 [==============================] - 1s 53ms/step - loss: 0.5660 - accuracy: 0.5080 - val_loss: 1.4431 - val_accuracy: 0.1720\n",
            "Epoch 293/500\n",
            "11/11 [==============================] - 1s 52ms/step - loss: 0.5636 - accuracy: 0.5079 - val_loss: 1.4215 - val_accuracy: 0.1683\n",
            "Epoch 294/500\n",
            "11/11 [==============================] - 1s 54ms/step - loss: 0.5339 - accuracy: 0.5211 - val_loss: 1.4394 - val_accuracy: 0.1634\n",
            "Epoch 295/500\n",
            "11/11 [==============================] - 1s 51ms/step - loss: 0.5261 - accuracy: 0.5291 - val_loss: 1.4427 - val_accuracy: 0.1695\n",
            "Epoch 296/500\n",
            "11/11 [==============================] - 1s 54ms/step - loss: 0.5006 - accuracy: 0.5444 - val_loss: 1.4458 - val_accuracy: 0.1720\n",
            "Epoch 297/500\n",
            "11/11 [==============================] - 1s 53ms/step - loss: 0.5255 - accuracy: 0.5371 - val_loss: 1.4399 - val_accuracy: 0.1732\n",
            "Epoch 298/500\n",
            "11/11 [==============================] - 1s 54ms/step - loss: 0.5282 - accuracy: 0.5395 - val_loss: 1.4625 - val_accuracy: 0.1744\n",
            "Epoch 299/500\n",
            "11/11 [==============================] - 1s 55ms/step - loss: 0.5326 - accuracy: 0.5351 - val_loss: 1.4519 - val_accuracy: 0.1708\n",
            "Epoch 300/500\n",
            "11/11 [==============================] - 1s 54ms/step - loss: 0.5396 - accuracy: 0.5301 - val_loss: 1.4446 - val_accuracy: 0.1757\n",
            "Epoch 301/500\n",
            "11/11 [==============================] - 1s 52ms/step - loss: 0.5387 - accuracy: 0.5290 - val_loss: 1.4570 - val_accuracy: 0.1609\n",
            "Epoch 302/500\n",
            "11/11 [==============================] - 1s 54ms/step - loss: 0.5395 - accuracy: 0.5272 - val_loss: 1.4622 - val_accuracy: 0.1658\n",
            "Epoch 303/500\n",
            "11/11 [==============================] - 1s 51ms/step - loss: 0.5345 - accuracy: 0.5378 - val_loss: 1.4672 - val_accuracy: 0.1695\n",
            "Epoch 304/500\n",
            "11/11 [==============================] - 1s 55ms/step - loss: 0.5129 - accuracy: 0.5496 - val_loss: 1.4707 - val_accuracy: 0.1708\n",
            "Epoch 305/500\n",
            "11/11 [==============================] - 1s 55ms/step - loss: 0.5473 - accuracy: 0.5418 - val_loss: 1.4760 - val_accuracy: 0.1658\n",
            "Epoch 306/500\n",
            "11/11 [==============================] - 1s 54ms/step - loss: 0.5368 - accuracy: 0.5375 - val_loss: 1.4737 - val_accuracy: 0.1671\n",
            "Epoch 307/500\n",
            "11/11 [==============================] - 1s 54ms/step - loss: 0.5184 - accuracy: 0.5354 - val_loss: 1.4876 - val_accuracy: 0.1732\n",
            "Epoch 308/500\n",
            "11/11 [==============================] - 1s 54ms/step - loss: 0.5253 - accuracy: 0.5483 - val_loss: 1.4833 - val_accuracy: 0.1744\n",
            "Epoch 309/500\n",
            "11/11 [==============================] - 1s 54ms/step - loss: 0.5232 - accuracy: 0.5532 - val_loss: 1.5007 - val_accuracy: 0.1720\n",
            "Epoch 310/500\n",
            "11/11 [==============================] - 1s 56ms/step - loss: 0.4804 - accuracy: 0.5636 - val_loss: 1.4887 - val_accuracy: 0.1708\n",
            "Epoch 311/500\n",
            "11/11 [==============================] - 1s 54ms/step - loss: 0.5085 - accuracy: 0.5482 - val_loss: 1.5190 - val_accuracy: 0.1732\n",
            "Epoch 312/500\n",
            "11/11 [==============================] - 1s 53ms/step - loss: 0.4991 - accuracy: 0.5481 - val_loss: 1.4824 - val_accuracy: 0.1708\n",
            "Epoch 313/500\n",
            "11/11 [==============================] - 1s 54ms/step - loss: 0.5218 - accuracy: 0.5495 - val_loss: 1.5150 - val_accuracy: 0.1671\n",
            "Epoch 314/500\n",
            "11/11 [==============================] - 1s 55ms/step - loss: 0.5110 - accuracy: 0.5547 - val_loss: 1.5019 - val_accuracy: 0.1683\n",
            "Epoch 315/500\n",
            "11/11 [==============================] - 1s 55ms/step - loss: 0.5287 - accuracy: 0.5518 - val_loss: 1.5104 - val_accuracy: 0.1720\n",
            "Epoch 316/500\n",
            "11/11 [==============================] - 1s 52ms/step - loss: 0.5131 - accuracy: 0.5533 - val_loss: 1.5154 - val_accuracy: 0.1732\n",
            "Epoch 317/500\n",
            "11/11 [==============================] - 1s 56ms/step - loss: 0.4926 - accuracy: 0.5647 - val_loss: 1.5047 - val_accuracy: 0.1683\n",
            "Epoch 318/500\n",
            "11/11 [==============================] - 1s 56ms/step - loss: 0.4850 - accuracy: 0.5663 - val_loss: 1.5056 - val_accuracy: 0.1720\n",
            "Epoch 319/500\n",
            "11/11 [==============================] - 1s 56ms/step - loss: 0.5184 - accuracy: 0.5528 - val_loss: 1.5180 - val_accuracy: 0.1708\n",
            "Epoch 320/500\n",
            "11/11 [==============================] - 1s 54ms/step - loss: 0.5096 - accuracy: 0.5617 - val_loss: 1.5146 - val_accuracy: 0.1708\n",
            "Epoch 321/500\n",
            "11/11 [==============================] - 1s 54ms/step - loss: 0.5127 - accuracy: 0.5564 - val_loss: 1.5327 - val_accuracy: 0.1695\n",
            "Epoch 322/500\n",
            "11/11 [==============================] - 1s 56ms/step - loss: 0.5080 - accuracy: 0.5535 - val_loss: 1.5265 - val_accuracy: 0.1732\n",
            "Epoch 323/500\n",
            "11/11 [==============================] - 1s 54ms/step - loss: 0.5011 - accuracy: 0.5670 - val_loss: 1.5085 - val_accuracy: 0.1708\n",
            "Epoch 324/500\n",
            "11/11 [==============================] - 1s 53ms/step - loss: 0.5238 - accuracy: 0.5614 - val_loss: 1.5325 - val_accuracy: 0.1695\n",
            "Epoch 325/500\n",
            "11/11 [==============================] - 1s 54ms/step - loss: 0.5014 - accuracy: 0.5662 - val_loss: 1.5411 - val_accuracy: 0.1683\n",
            "Epoch 326/500\n",
            "11/11 [==============================] - 1s 53ms/step - loss: 0.4767 - accuracy: 0.5754 - val_loss: 1.5438 - val_accuracy: 0.1683\n",
            "Epoch 327/500\n",
            "11/11 [==============================] - 1s 56ms/step - loss: 0.4996 - accuracy: 0.5552 - val_loss: 1.5311 - val_accuracy: 0.1769\n",
            "Epoch 328/500\n",
            "11/11 [==============================] - 1s 53ms/step - loss: 0.4864 - accuracy: 0.5745 - val_loss: 1.5614 - val_accuracy: 0.1597\n",
            "Epoch 329/500\n",
            "11/11 [==============================] - 1s 55ms/step - loss: 0.4717 - accuracy: 0.5833 - val_loss: 1.5509 - val_accuracy: 0.1732\n",
            "Epoch 330/500\n",
            "11/11 [==============================] - 1s 54ms/step - loss: 0.4882 - accuracy: 0.5801 - val_loss: 1.5384 - val_accuracy: 0.1658\n",
            "Epoch 331/500\n",
            "11/11 [==============================] - 1s 51ms/step - loss: 0.4830 - accuracy: 0.5782 - val_loss: 1.5404 - val_accuracy: 0.1708\n",
            "Epoch 332/500\n",
            "11/11 [==============================] - 1s 54ms/step - loss: 0.4904 - accuracy: 0.5792 - val_loss: 1.5588 - val_accuracy: 0.1708\n",
            "Epoch 333/500\n",
            "11/11 [==============================] - 1s 54ms/step - loss: 0.4956 - accuracy: 0.5733 - val_loss: 1.5802 - val_accuracy: 0.1634\n",
            "Epoch 334/500\n",
            "11/11 [==============================] - 1s 56ms/step - loss: 0.4996 - accuracy: 0.5666 - val_loss: 1.5447 - val_accuracy: 0.1646\n",
            "Epoch 335/500\n",
            "11/11 [==============================] - 1s 54ms/step - loss: 0.4874 - accuracy: 0.5704 - val_loss: 1.5364 - val_accuracy: 0.1695\n",
            "Epoch 336/500\n",
            "11/11 [==============================] - 1s 54ms/step - loss: 0.4880 - accuracy: 0.5662 - val_loss: 1.5469 - val_accuracy: 0.1744\n",
            "Epoch 337/500\n",
            "11/11 [==============================] - 1s 55ms/step - loss: 0.4751 - accuracy: 0.5854 - val_loss: 1.5488 - val_accuracy: 0.1658\n",
            "Epoch 338/500\n",
            "11/11 [==============================] - 1s 52ms/step - loss: 0.4846 - accuracy: 0.5720 - val_loss: 1.5488 - val_accuracy: 0.1720\n",
            "Epoch 339/500\n",
            "11/11 [==============================] - 1s 56ms/step - loss: 0.4841 - accuracy: 0.5787 - val_loss: 1.5706 - val_accuracy: 0.1732\n",
            "Epoch 340/500\n",
            "11/11 [==============================] - 1s 53ms/step - loss: 0.4732 - accuracy: 0.5806 - val_loss: 1.5468 - val_accuracy: 0.1634\n",
            "Epoch 341/500\n",
            "11/11 [==============================] - 1s 53ms/step - loss: 0.4752 - accuracy: 0.5958 - val_loss: 1.5774 - val_accuracy: 0.1757\n",
            "Epoch 342/500\n",
            "11/11 [==============================] - 1s 51ms/step - loss: 0.4822 - accuracy: 0.5896 - val_loss: 1.5813 - val_accuracy: 0.1548\n",
            "Epoch 343/500\n",
            "11/11 [==============================] - 1s 55ms/step - loss: 0.4629 - accuracy: 0.5964 - val_loss: 1.5828 - val_accuracy: 0.1732\n",
            "Epoch 344/500\n",
            "11/11 [==============================] - 1s 53ms/step - loss: 0.4667 - accuracy: 0.5864 - val_loss: 1.5731 - val_accuracy: 0.1646\n",
            "Epoch 345/500\n",
            "11/11 [==============================] - 1s 53ms/step - loss: 0.4780 - accuracy: 0.5978 - val_loss: 1.6038 - val_accuracy: 0.1695\n",
            "Epoch 346/500\n",
            "11/11 [==============================] - 1s 56ms/step - loss: 0.4603 - accuracy: 0.5997 - val_loss: 1.5903 - val_accuracy: 0.1658\n",
            "Epoch 347/500\n",
            "11/11 [==============================] - 1s 55ms/step - loss: 0.4662 - accuracy: 0.5904 - val_loss: 1.6002 - val_accuracy: 0.1720\n",
            "Epoch 348/500\n",
            "11/11 [==============================] - 1s 53ms/step - loss: 0.4538 - accuracy: 0.6007 - val_loss: 1.5963 - val_accuracy: 0.1658\n",
            "Epoch 349/500\n",
            "11/11 [==============================] - 1s 54ms/step - loss: 0.4719 - accuracy: 0.5958 - val_loss: 1.6177 - val_accuracy: 0.1658\n",
            "Epoch 350/500\n",
            "11/11 [==============================] - 1s 54ms/step - loss: 0.4870 - accuracy: 0.5914 - val_loss: 1.5986 - val_accuracy: 0.1646\n",
            "Epoch 351/500\n",
            "11/11 [==============================] - 1s 53ms/step - loss: 0.4632 - accuracy: 0.5922 - val_loss: 1.6116 - val_accuracy: 0.1646\n",
            "Epoch 352/500\n",
            "11/11 [==============================] - 1s 56ms/step - loss: 0.4627 - accuracy: 0.5938 - val_loss: 1.6096 - val_accuracy: 0.1744\n",
            "Epoch 353/500\n",
            "11/11 [==============================] - 1s 54ms/step - loss: 0.4522 - accuracy: 0.5916 - val_loss: 1.6084 - val_accuracy: 0.1597\n",
            "Epoch 354/500\n",
            "11/11 [==============================] - 1s 54ms/step - loss: 0.4644 - accuracy: 0.5975 - val_loss: 1.6175 - val_accuracy: 0.1720\n",
            "Epoch 355/500\n",
            "11/11 [==============================] - 1s 55ms/step - loss: 0.4544 - accuracy: 0.5991 - val_loss: 1.6037 - val_accuracy: 0.1695\n",
            "Epoch 356/500\n",
            "11/11 [==============================] - 1s 55ms/step - loss: 0.4907 - accuracy: 0.5901 - val_loss: 1.6123 - val_accuracy: 0.1695\n",
            "Epoch 357/500\n",
            "11/11 [==============================] - 1s 58ms/step - loss: 0.4576 - accuracy: 0.5882 - val_loss: 1.6272 - val_accuracy: 0.1646\n",
            "Epoch 358/500\n",
            "11/11 [==============================] - 1s 54ms/step - loss: 0.4648 - accuracy: 0.6007 - val_loss: 1.6174 - val_accuracy: 0.1683\n",
            "Epoch 359/500\n",
            "11/11 [==============================] - 1s 53ms/step - loss: 0.4582 - accuracy: 0.5992 - val_loss: 1.6109 - val_accuracy: 0.1634\n",
            "Epoch 360/500\n",
            "11/11 [==============================] - 1s 55ms/step - loss: 0.4527 - accuracy: 0.6022 - val_loss: 1.6360 - val_accuracy: 0.1671\n",
            "Epoch 361/500\n",
            "11/11 [==============================] - 1s 56ms/step - loss: 0.4656 - accuracy: 0.6075 - val_loss: 1.6261 - val_accuracy: 0.1695\n",
            "Epoch 362/500\n",
            "11/11 [==============================] - 1s 54ms/step - loss: 0.4585 - accuracy: 0.6004 - val_loss: 1.6546 - val_accuracy: 0.1658\n",
            "Epoch 363/500\n",
            "11/11 [==============================] - 1s 58ms/step - loss: 0.4385 - accuracy: 0.6187 - val_loss: 1.6387 - val_accuracy: 0.1646\n",
            "Epoch 364/500\n",
            "11/11 [==============================] - 1s 53ms/step - loss: 0.4359 - accuracy: 0.6144 - val_loss: 1.6399 - val_accuracy: 0.1695\n",
            "Epoch 365/500\n",
            "11/11 [==============================] - 1s 57ms/step - loss: 0.4377 - accuracy: 0.6128 - val_loss: 1.6511 - val_accuracy: 0.1671\n",
            "Epoch 366/500\n",
            "11/11 [==============================] - 1s 56ms/step - loss: 0.4498 - accuracy: 0.6165 - val_loss: 1.6499 - val_accuracy: 0.1720\n",
            "Epoch 367/500\n",
            "11/11 [==============================] - 1s 54ms/step - loss: 0.4382 - accuracy: 0.6124 - val_loss: 1.6604 - val_accuracy: 0.1634\n",
            "Epoch 368/500\n",
            "11/11 [==============================] - 1s 57ms/step - loss: 0.4434 - accuracy: 0.6103 - val_loss: 1.6651 - val_accuracy: 0.1683\n",
            "Epoch 369/500\n",
            "11/11 [==============================] - 1s 55ms/step - loss: 0.4337 - accuracy: 0.6134 - val_loss: 1.6406 - val_accuracy: 0.1658\n",
            "Epoch 370/500\n",
            "11/11 [==============================] - 1s 53ms/step - loss: 0.4632 - accuracy: 0.6060 - val_loss: 1.6541 - val_accuracy: 0.1646\n",
            "Epoch 371/500\n",
            "11/11 [==============================] - 1s 55ms/step - loss: 0.4674 - accuracy: 0.5944 - val_loss: 1.6504 - val_accuracy: 0.1732\n",
            "Epoch 372/500\n",
            "11/11 [==============================] - 1s 53ms/step - loss: 0.4421 - accuracy: 0.6067 - val_loss: 1.6365 - val_accuracy: 0.1744\n",
            "Epoch 373/500\n",
            "11/11 [==============================] - 1s 54ms/step - loss: 0.4798 - accuracy: 0.5913 - val_loss: 1.6273 - val_accuracy: 0.1757\n",
            "Epoch 374/500\n",
            "11/11 [==============================] - 1s 53ms/step - loss: 0.4602 - accuracy: 0.5951 - val_loss: 1.6331 - val_accuracy: 0.1794\n",
            "Epoch 375/500\n",
            "11/11 [==============================] - 1s 55ms/step - loss: 0.4659 - accuracy: 0.5972 - val_loss: 1.6325 - val_accuracy: 0.1658\n",
            "Epoch 376/500\n",
            "11/11 [==============================] - 1s 53ms/step - loss: 0.4647 - accuracy: 0.6086 - val_loss: 1.6400 - val_accuracy: 0.1744\n",
            "Epoch 377/500\n",
            "11/11 [==============================] - 1s 54ms/step - loss: 0.4277 - accuracy: 0.6204 - val_loss: 1.6401 - val_accuracy: 0.1769\n",
            "Epoch 378/500\n",
            "11/11 [==============================] - 1s 55ms/step - loss: 0.4510 - accuracy: 0.6065 - val_loss: 1.6439 - val_accuracy: 0.1634\n",
            "Epoch 379/500\n",
            "11/11 [==============================] - 1s 52ms/step - loss: 0.4559 - accuracy: 0.6217 - val_loss: 1.6582 - val_accuracy: 0.1757\n",
            "Epoch 380/500\n",
            "11/11 [==============================] - 1s 52ms/step - loss: 0.4313 - accuracy: 0.6258 - val_loss: 1.6588 - val_accuracy: 0.1658\n",
            "Epoch 381/500\n",
            "11/11 [==============================] - 1s 54ms/step - loss: 0.4316 - accuracy: 0.6225 - val_loss: 1.6544 - val_accuracy: 0.1744\n",
            "Epoch 382/500\n",
            "11/11 [==============================] - 1s 54ms/step - loss: 0.4150 - accuracy: 0.6378 - val_loss: 1.6691 - val_accuracy: 0.1744\n",
            "Epoch 383/500\n",
            "11/11 [==============================] - 1s 55ms/step - loss: 0.4360 - accuracy: 0.6294 - val_loss: 1.6697 - val_accuracy: 0.1732\n",
            "Epoch 384/500\n",
            "11/11 [==============================] - 1s 54ms/step - loss: 0.4146 - accuracy: 0.6384 - val_loss: 1.6834 - val_accuracy: 0.1732\n",
            "Epoch 385/500\n",
            "11/11 [==============================] - 1s 57ms/step - loss: 0.4012 - accuracy: 0.6474 - val_loss: 1.6848 - val_accuracy: 0.1744\n",
            "Epoch 386/500\n",
            "11/11 [==============================] - 1s 55ms/step - loss: 0.4319 - accuracy: 0.6386 - val_loss: 1.6722 - val_accuracy: 0.1757\n",
            "Epoch 387/500\n",
            "11/11 [==============================] - 1s 54ms/step - loss: 0.4299 - accuracy: 0.6318 - val_loss: 1.6953 - val_accuracy: 0.1658\n",
            "Epoch 388/500\n",
            "11/11 [==============================] - 1s 54ms/step - loss: 0.4212 - accuracy: 0.6462 - val_loss: 1.7219 - val_accuracy: 0.1769\n",
            "Epoch 389/500\n",
            "11/11 [==============================] - 1s 56ms/step - loss: 0.4333 - accuracy: 0.6360 - val_loss: 1.6861 - val_accuracy: 0.1683\n",
            "Epoch 390/500\n",
            "11/11 [==============================] - 1s 54ms/step - loss: 0.4185 - accuracy: 0.6412 - val_loss: 1.7127 - val_accuracy: 0.1695\n",
            "Epoch 391/500\n",
            "11/11 [==============================] - 1s 56ms/step - loss: 0.4198 - accuracy: 0.6344 - val_loss: 1.6927 - val_accuracy: 0.1794\n",
            "Epoch 392/500\n",
            "11/11 [==============================] - 1s 55ms/step - loss: 0.4549 - accuracy: 0.6290 - val_loss: 1.7294 - val_accuracy: 0.1708\n",
            "Epoch 393/500\n",
            "11/11 [==============================] - 1s 53ms/step - loss: 0.4300 - accuracy: 0.6360 - val_loss: 1.7231 - val_accuracy: 0.1708\n",
            "Epoch 394/500\n",
            "11/11 [==============================] - 1s 55ms/step - loss: 0.4058 - accuracy: 0.6487 - val_loss: 1.7233 - val_accuracy: 0.1671\n",
            "Epoch 395/500\n",
            "11/11 [==============================] - 1s 55ms/step - loss: 0.4178 - accuracy: 0.6421 - val_loss: 1.7129 - val_accuracy: 0.1720\n",
            "Epoch 396/500\n",
            "11/11 [==============================] - 1s 56ms/step - loss: 0.3901 - accuracy: 0.6567 - val_loss: 1.7225 - val_accuracy: 0.1671\n",
            "Epoch 397/500\n",
            "11/11 [==============================] - 1s 53ms/step - loss: 0.4258 - accuracy: 0.6431 - val_loss: 1.7175 - val_accuracy: 0.1695\n",
            "Epoch 398/500\n",
            "11/11 [==============================] - 1s 55ms/step - loss: 0.4206 - accuracy: 0.6409 - val_loss: 1.7247 - val_accuracy: 0.1671\n",
            "Epoch 399/500\n",
            "11/11 [==============================] - 1s 54ms/step - loss: 0.4288 - accuracy: 0.6314 - val_loss: 1.7146 - val_accuracy: 0.1769\n",
            "Epoch 400/500\n",
            "11/11 [==============================] - 1s 58ms/step - loss: 0.4302 - accuracy: 0.6292 - val_loss: 1.7223 - val_accuracy: 0.1757\n",
            "Epoch 401/500\n",
            "11/11 [==============================] - 1s 56ms/step - loss: 0.4143 - accuracy: 0.6560 - val_loss: 1.7277 - val_accuracy: 0.1769\n",
            "Epoch 402/500\n",
            "11/11 [==============================] - 1s 56ms/step - loss: 0.3931 - accuracy: 0.6493 - val_loss: 1.7380 - val_accuracy: 0.1695\n",
            "Epoch 403/500\n",
            "11/11 [==============================] - 1s 59ms/step - loss: 0.4169 - accuracy: 0.6424 - val_loss: 1.7337 - val_accuracy: 0.1757\n",
            "Epoch 404/500\n",
            "11/11 [==============================] - 1s 55ms/step - loss: 0.4136 - accuracy: 0.6485 - val_loss: 1.7335 - val_accuracy: 0.1708\n",
            "Epoch 405/500\n",
            "11/11 [==============================] - 1s 57ms/step - loss: 0.4306 - accuracy: 0.6391 - val_loss: 1.7404 - val_accuracy: 0.1757\n",
            "Epoch 406/500\n",
            "11/11 [==============================] - 1s 53ms/step - loss: 0.4226 - accuracy: 0.6486 - val_loss: 1.7267 - val_accuracy: 0.1695\n",
            "Epoch 407/500\n",
            "11/11 [==============================] - 1s 57ms/step - loss: 0.4240 - accuracy: 0.6440 - val_loss: 1.7274 - val_accuracy: 0.1806\n",
            "Epoch 408/500\n",
            "11/11 [==============================] - 1s 55ms/step - loss: 0.4150 - accuracy: 0.6415 - val_loss: 1.7396 - val_accuracy: 0.1720\n",
            "Epoch 409/500\n",
            "11/11 [==============================] - 1s 55ms/step - loss: 0.4039 - accuracy: 0.6489 - val_loss: 1.7443 - val_accuracy: 0.1658\n",
            "Epoch 410/500\n",
            "11/11 [==============================] - 1s 102ms/step - loss: 0.4210 - accuracy: 0.6400 - val_loss: 1.7798 - val_accuracy: 0.1744\n",
            "Epoch 411/500\n",
            "11/11 [==============================] - 1s 53ms/step - loss: 0.4298 - accuracy: 0.6220 - val_loss: 1.7170 - val_accuracy: 0.1683\n",
            "Epoch 412/500\n",
            "11/11 [==============================] - 1s 56ms/step - loss: 0.4002 - accuracy: 0.6466 - val_loss: 1.7456 - val_accuracy: 0.1671\n",
            "Epoch 413/500\n",
            "11/11 [==============================] - 1s 55ms/step - loss: 0.4035 - accuracy: 0.6488 - val_loss: 1.7486 - val_accuracy: 0.1794\n",
            "Epoch 414/500\n",
            "11/11 [==============================] - 1s 57ms/step - loss: 0.4226 - accuracy: 0.6466 - val_loss: 1.7494 - val_accuracy: 0.1695\n",
            "Epoch 415/500\n",
            "11/11 [==============================] - 1s 54ms/step - loss: 0.4264 - accuracy: 0.6341 - val_loss: 1.7608 - val_accuracy: 0.1646\n",
            "Epoch 416/500\n",
            "11/11 [==============================] - 1s 54ms/step - loss: 0.4023 - accuracy: 0.6530 - val_loss: 1.7695 - val_accuracy: 0.1695\n",
            "Epoch 417/500\n",
            "11/11 [==============================] - 1s 52ms/step - loss: 0.3986 - accuracy: 0.6471 - val_loss: 1.7596 - val_accuracy: 0.1658\n",
            "Epoch 418/500\n",
            "11/11 [==============================] - 1s 55ms/step - loss: 0.4194 - accuracy: 0.6548 - val_loss: 1.7626 - val_accuracy: 0.1720\n",
            "Epoch 419/500\n",
            "11/11 [==============================] - 1s 56ms/step - loss: 0.3915 - accuracy: 0.6645 - val_loss: 1.7528 - val_accuracy: 0.1646\n",
            "Epoch 420/500\n",
            "11/11 [==============================] - 1s 55ms/step - loss: 0.3853 - accuracy: 0.6704 - val_loss: 1.7706 - val_accuracy: 0.1794\n",
            "Epoch 421/500\n",
            "11/11 [==============================] - 1s 57ms/step - loss: 0.3971 - accuracy: 0.6592 - val_loss: 1.7723 - val_accuracy: 0.1708\n",
            "Epoch 422/500\n",
            "11/11 [==============================] - 1s 52ms/step - loss: 0.4001 - accuracy: 0.6732 - val_loss: 1.7807 - val_accuracy: 0.1744\n",
            "Epoch 423/500\n",
            "11/11 [==============================] - 1s 56ms/step - loss: 0.3924 - accuracy: 0.6660 - val_loss: 1.7840 - val_accuracy: 0.1781\n",
            "Epoch 424/500\n",
            "11/11 [==============================] - 1s 55ms/step - loss: 0.3768 - accuracy: 0.6689 - val_loss: 1.7838 - val_accuracy: 0.1769\n",
            "Epoch 425/500\n",
            "11/11 [==============================] - 1s 54ms/step - loss: 0.3737 - accuracy: 0.6877 - val_loss: 1.7900 - val_accuracy: 0.1720\n",
            "Epoch 426/500\n",
            "11/11 [==============================] - 1s 56ms/step - loss: 0.3813 - accuracy: 0.6751 - val_loss: 1.8034 - val_accuracy: 0.1708\n",
            "Epoch 427/500\n",
            "11/11 [==============================] - 1s 51ms/step - loss: 0.3664 - accuracy: 0.6902 - val_loss: 1.8057 - val_accuracy: 0.1646\n",
            "Epoch 428/500\n",
            "11/11 [==============================] - 1s 55ms/step - loss: 0.3824 - accuracy: 0.6851 - val_loss: 1.8150 - val_accuracy: 0.1806\n",
            "Epoch 429/500\n",
            "11/11 [==============================] - 1s 57ms/step - loss: 0.3741 - accuracy: 0.6833 - val_loss: 1.8066 - val_accuracy: 0.1732\n",
            "Epoch 430/500\n",
            "11/11 [==============================] - 1s 59ms/step - loss: 0.3772 - accuracy: 0.6903 - val_loss: 1.7959 - val_accuracy: 0.1658\n",
            "Epoch 431/500\n",
            "11/11 [==============================] - 1s 57ms/step - loss: 0.3738 - accuracy: 0.6868 - val_loss: 1.8190 - val_accuracy: 0.1646\n",
            "Epoch 432/500\n",
            "11/11 [==============================] - 1s 53ms/step - loss: 0.3744 - accuracy: 0.6763 - val_loss: 1.8177 - val_accuracy: 0.1769\n",
            "Epoch 433/500\n",
            "11/11 [==============================] - 1s 54ms/step - loss: 0.3852 - accuracy: 0.6743 - val_loss: 1.8376 - val_accuracy: 0.1683\n",
            "Epoch 434/500\n",
            "11/11 [==============================] - 1s 57ms/step - loss: 0.3965 - accuracy: 0.6666 - val_loss: 1.8187 - val_accuracy: 0.1609\n",
            "Epoch 435/500\n",
            "11/11 [==============================] - 1s 56ms/step - loss: 0.3657 - accuracy: 0.6768 - val_loss: 1.8279 - val_accuracy: 0.1671\n",
            "Epoch 436/500\n",
            "11/11 [==============================] - 1s 55ms/step - loss: 0.3628 - accuracy: 0.6882 - val_loss: 1.8336 - val_accuracy: 0.1634\n",
            "Epoch 437/500\n",
            "11/11 [==============================] - 1s 59ms/step - loss: 0.3659 - accuracy: 0.6843 - val_loss: 1.8199 - val_accuracy: 0.1744\n",
            "Epoch 438/500\n",
            "11/11 [==============================] - 1s 59ms/step - loss: 0.3569 - accuracy: 0.6969 - val_loss: 1.8446 - val_accuracy: 0.1708\n",
            "Epoch 439/500\n",
            "11/11 [==============================] - 1s 56ms/step - loss: 0.3634 - accuracy: 0.6866 - val_loss: 1.8297 - val_accuracy: 0.1658\n",
            "Epoch 440/500\n",
            "11/11 [==============================] - 1s 58ms/step - loss: 0.3682 - accuracy: 0.6885 - val_loss: 1.8238 - val_accuracy: 0.1622\n",
            "Epoch 441/500\n",
            "11/11 [==============================] - 1s 57ms/step - loss: 0.3852 - accuracy: 0.6773 - val_loss: 1.8543 - val_accuracy: 0.1683\n",
            "Epoch 442/500\n",
            "11/11 [==============================] - 1s 55ms/step - loss: 0.3742 - accuracy: 0.6818 - val_loss: 1.8406 - val_accuracy: 0.1622\n",
            "Epoch 443/500\n",
            "11/11 [==============================] - 1s 56ms/step - loss: 0.3740 - accuracy: 0.6855 - val_loss: 1.8490 - val_accuracy: 0.1658\n",
            "Epoch 444/500\n",
            "11/11 [==============================] - 1s 57ms/step - loss: 0.3910 - accuracy: 0.6776 - val_loss: 1.8319 - val_accuracy: 0.1683\n",
            "Epoch 445/500\n",
            "11/11 [==============================] - 1s 57ms/step - loss: 0.3828 - accuracy: 0.6790 - val_loss: 1.8298 - val_accuracy: 0.1806\n",
            "Epoch 446/500\n",
            "11/11 [==============================] - 1s 56ms/step - loss: 0.3867 - accuracy: 0.6776 - val_loss: 1.8350 - val_accuracy: 0.1671\n",
            "Epoch 447/500\n",
            "11/11 [==============================] - 1s 54ms/step - loss: 0.3666 - accuracy: 0.6839 - val_loss: 1.8435 - val_accuracy: 0.1744\n",
            "Epoch 448/500\n",
            "11/11 [==============================] - 1s 55ms/step - loss: 0.3725 - accuracy: 0.6886 - val_loss: 1.8270 - val_accuracy: 0.1683\n",
            "Epoch 449/500\n",
            "11/11 [==============================] - 1s 55ms/step - loss: 0.3706 - accuracy: 0.6839 - val_loss: 1.8433 - val_accuracy: 0.1695\n",
            "Epoch 450/500\n",
            "11/11 [==============================] - 1s 51ms/step - loss: 0.3790 - accuracy: 0.6763 - val_loss: 1.8328 - val_accuracy: 0.1695\n",
            "Epoch 451/500\n",
            "11/11 [==============================] - 1s 54ms/step - loss: 0.3678 - accuracy: 0.6895 - val_loss: 1.8628 - val_accuracy: 0.1671\n",
            "Epoch 452/500\n",
            "11/11 [==============================] - 1s 54ms/step - loss: 0.3760 - accuracy: 0.6887 - val_loss: 1.8386 - val_accuracy: 0.1683\n",
            "Epoch 453/500\n",
            "11/11 [==============================] - 1s 53ms/step - loss: 0.3499 - accuracy: 0.7022 - val_loss: 1.8586 - val_accuracy: 0.1708\n",
            "Epoch 454/500\n",
            "11/11 [==============================] - 1s 57ms/step - loss: 0.3725 - accuracy: 0.6888 - val_loss: 1.8489 - val_accuracy: 0.1695\n",
            "Epoch 455/500\n",
            "11/11 [==============================] - 1s 53ms/step - loss: 0.3661 - accuracy: 0.6956 - val_loss: 1.8724 - val_accuracy: 0.1658\n",
            "Epoch 456/500\n",
            "11/11 [==============================] - 1s 58ms/step - loss: 0.3572 - accuracy: 0.7058 - val_loss: 1.8582 - val_accuracy: 0.1744\n",
            "Epoch 457/500\n",
            "11/11 [==============================] - 1s 55ms/step - loss: 0.3560 - accuracy: 0.7018 - val_loss: 1.8640 - val_accuracy: 0.1695\n",
            "Epoch 458/500\n",
            "11/11 [==============================] - 1s 55ms/step - loss: 0.3499 - accuracy: 0.7057 - val_loss: 1.8755 - val_accuracy: 0.1671\n",
            "Epoch 459/500\n",
            "11/11 [==============================] - 1s 56ms/step - loss: 0.3415 - accuracy: 0.7157 - val_loss: 1.8737 - val_accuracy: 0.1720\n",
            "Epoch 460/500\n",
            "11/11 [==============================] - 1s 58ms/step - loss: 0.3713 - accuracy: 0.7000 - val_loss: 1.8947 - val_accuracy: 0.1708\n",
            "Epoch 461/500\n",
            "11/11 [==============================] - 1s 58ms/step - loss: 0.3579 - accuracy: 0.7012 - val_loss: 1.8854 - val_accuracy: 0.1708\n",
            "Epoch 462/500\n",
            "11/11 [==============================] - 1s 52ms/step - loss: 0.3595 - accuracy: 0.7060 - val_loss: 1.8786 - val_accuracy: 0.1732\n",
            "Epoch 463/500\n",
            "11/11 [==============================] - 1s 54ms/step - loss: 0.3552 - accuracy: 0.6954 - val_loss: 1.8757 - val_accuracy: 0.1658\n",
            "Epoch 464/500\n",
            "11/11 [==============================] - 1s 55ms/step - loss: 0.3774 - accuracy: 0.6886 - val_loss: 1.8770 - val_accuracy: 0.1671\n",
            "Epoch 465/500\n",
            "11/11 [==============================] - 1s 57ms/step - loss: 0.3641 - accuracy: 0.6928 - val_loss: 1.8976 - val_accuracy: 0.1609\n",
            "Epoch 466/500\n",
            "11/11 [==============================] - 1s 56ms/step - loss: 0.3603 - accuracy: 0.7043 - val_loss: 1.8915 - val_accuracy: 0.1634\n",
            "Epoch 467/500\n",
            "11/11 [==============================] - 1s 57ms/step - loss: 0.3787 - accuracy: 0.6898 - val_loss: 1.9192 - val_accuracy: 0.1781\n",
            "Epoch 468/500\n",
            "11/11 [==============================] - 1s 56ms/step - loss: 0.3415 - accuracy: 0.6997 - val_loss: 1.8685 - val_accuracy: 0.1658\n",
            "Epoch 469/500\n",
            "11/11 [==============================] - 1s 58ms/step - loss: 0.3415 - accuracy: 0.7114 - val_loss: 1.9065 - val_accuracy: 0.1658\n",
            "Epoch 470/500\n",
            "11/11 [==============================] - 1s 58ms/step - loss: 0.3454 - accuracy: 0.7038 - val_loss: 1.8735 - val_accuracy: 0.1744\n",
            "Epoch 471/500\n",
            "11/11 [==============================] - 1s 57ms/step - loss: 0.3482 - accuracy: 0.7005 - val_loss: 1.9146 - val_accuracy: 0.1671\n",
            "Epoch 472/500\n",
            "11/11 [==============================] - 1s 58ms/step - loss: 0.3671 - accuracy: 0.7038 - val_loss: 1.9226 - val_accuracy: 0.1708\n",
            "Epoch 473/500\n",
            "11/11 [==============================] - 1s 57ms/step - loss: 0.3458 - accuracy: 0.7039 - val_loss: 1.8950 - val_accuracy: 0.1671\n",
            "Epoch 474/500\n",
            "11/11 [==============================] - 1s 56ms/step - loss: 0.3442 - accuracy: 0.7031 - val_loss: 1.9229 - val_accuracy: 0.1646\n",
            "Epoch 475/500\n",
            "11/11 [==============================] - 1s 55ms/step - loss: 0.3483 - accuracy: 0.7100 - val_loss: 1.8898 - val_accuracy: 0.1781\n",
            "Epoch 476/500\n",
            "11/11 [==============================] - 1s 55ms/step - loss: 0.3382 - accuracy: 0.7006 - val_loss: 1.9022 - val_accuracy: 0.1708\n",
            "Epoch 477/500\n",
            "11/11 [==============================] - 1s 57ms/step - loss: 0.3717 - accuracy: 0.6918 - val_loss: 1.9130 - val_accuracy: 0.1757\n",
            "Epoch 478/500\n",
            "11/11 [==============================] - 1s 55ms/step - loss: 0.3429 - accuracy: 0.7110 - val_loss: 1.8969 - val_accuracy: 0.1720\n",
            "Epoch 479/500\n",
            "11/11 [==============================] - 1s 58ms/step - loss: 0.3361 - accuracy: 0.7155 - val_loss: 1.9160 - val_accuracy: 0.1695\n",
            "Epoch 480/500\n",
            "11/11 [==============================] - 1s 56ms/step - loss: 0.3453 - accuracy: 0.7065 - val_loss: 1.9288 - val_accuracy: 0.1658\n",
            "Epoch 481/500\n",
            "11/11 [==============================] - 1s 55ms/step - loss: 0.3541 - accuracy: 0.7140 - val_loss: 1.9099 - val_accuracy: 0.1695\n",
            "Epoch 482/500\n",
            "11/11 [==============================] - 1s 55ms/step - loss: 0.3337 - accuracy: 0.7202 - val_loss: 1.9427 - val_accuracy: 0.1671\n",
            "Epoch 483/500\n",
            "11/11 [==============================] - 1s 55ms/step - loss: 0.3291 - accuracy: 0.7297 - val_loss: 1.9049 - val_accuracy: 0.1683\n",
            "Epoch 484/500\n",
            "11/11 [==============================] - 1s 54ms/step - loss: 0.3407 - accuracy: 0.7198 - val_loss: 1.9397 - val_accuracy: 0.1695\n",
            "Epoch 485/500\n",
            "11/11 [==============================] - 1s 55ms/step - loss: 0.3489 - accuracy: 0.7209 - val_loss: 1.9370 - val_accuracy: 0.1695\n",
            "Epoch 486/500\n",
            "11/11 [==============================] - 1s 55ms/step - loss: 0.3373 - accuracy: 0.7185 - val_loss: 1.9316 - val_accuracy: 0.1683\n",
            "Epoch 487/500\n",
            "11/11 [==============================] - 1s 60ms/step - loss: 0.3340 - accuracy: 0.7198 - val_loss: 1.9439 - val_accuracy: 0.1769\n",
            "Epoch 488/500\n",
            "11/11 [==============================] - 1s 55ms/step - loss: 0.3418 - accuracy: 0.7231 - val_loss: 1.9299 - val_accuracy: 0.1683\n",
            "Epoch 489/500\n",
            "11/11 [==============================] - 1s 58ms/step - loss: 0.3391 - accuracy: 0.7236 - val_loss: 1.9563 - val_accuracy: 0.1671\n",
            "Epoch 490/500\n",
            "11/11 [==============================] - 1s 56ms/step - loss: 0.3280 - accuracy: 0.7241 - val_loss: 1.9463 - val_accuracy: 0.1708\n",
            "Epoch 491/500\n",
            "11/11 [==============================] - 1s 54ms/step - loss: 0.3270 - accuracy: 0.7222 - val_loss: 1.9633 - val_accuracy: 0.1695\n",
            "Epoch 492/500\n",
            "11/11 [==============================] - 1s 56ms/step - loss: 0.3359 - accuracy: 0.7235 - val_loss: 1.9485 - val_accuracy: 0.1744\n",
            "Epoch 493/500\n",
            "11/11 [==============================] - 1s 55ms/step - loss: 0.3418 - accuracy: 0.7215 - val_loss: 1.9290 - val_accuracy: 0.1720\n",
            "Epoch 494/500\n",
            "11/11 [==============================] - 1s 56ms/step - loss: 0.3359 - accuracy: 0.7180 - val_loss: 1.9531 - val_accuracy: 0.1658\n",
            "Epoch 495/500\n",
            "11/11 [==============================] - 1s 58ms/step - loss: 0.3367 - accuracy: 0.7191 - val_loss: 1.9965 - val_accuracy: 0.1695\n",
            "Epoch 496/500\n",
            "11/11 [==============================] - 1s 57ms/step - loss: 0.3272 - accuracy: 0.7265 - val_loss: 1.9494 - val_accuracy: 0.1695\n",
            "Epoch 497/500\n",
            "11/11 [==============================] - 1s 55ms/step - loss: 0.3319 - accuracy: 0.7281 - val_loss: 1.9697 - val_accuracy: 0.1658\n",
            "Epoch 498/500\n",
            "11/11 [==============================] - 1s 55ms/step - loss: 0.3315 - accuracy: 0.7264 - val_loss: 1.9628 - val_accuracy: 0.1695\n",
            "Epoch 499/500\n",
            "11/11 [==============================] - 1s 56ms/step - loss: 0.3204 - accuracy: 0.7295 - val_loss: 1.9778 - val_accuracy: 0.1634\n",
            "Epoch 500/500\n",
            "11/11 [==============================] - 1s 56ms/step - loss: 0.3368 - accuracy: 0.7222 - val_loss: 1.9710 - val_accuracy: 0.1720\n"
          ],
          "name": "stdout"
        },
        {
          "output_type": "stream",
          "text": [
            "WARNING:absl:Found untraced functions such as lstm_cell_layer_call_fn, lstm_cell_layer_call_and_return_conditional_losses, lstm_cell_3_layer_call_fn, lstm_cell_3_layer_call_and_return_conditional_losses, lstm_cell_1_layer_call_fn while saving (showing 5 of 30). These functions will not be directly callable after loading.\n",
            "WARNING:absl:Found untraced functions such as lstm_cell_layer_call_fn, lstm_cell_layer_call_and_return_conditional_losses, lstm_cell_3_layer_call_fn, lstm_cell_3_layer_call_and_return_conditional_losses, lstm_cell_1_layer_call_fn while saving (showing 5 of 30). These functions will not be directly callable after loading.\n"
          ],
          "name": "stderr"
        },
        {
          "output_type": "stream",
          "text": [
            "INFO:tensorflow:Assets written to: s2s_stacked_embed/assets\n"
          ],
          "name": "stdout"
        },
        {
          "output_type": "stream",
          "text": [
            "INFO:tensorflow:Assets written to: s2s_stacked_embed/assets\n"
          ],
          "name": "stderr"
        }
      ]
    },
    {
      "cell_type": "code",
      "metadata": {
        "colab": {
          "base_uri": "https://localhost:8080/",
          "height": 566
        },
        "id": "tGU4pY52qkky",
        "outputId": "4472cc5c-0c9d-4aaa-c40f-ca1752b3e9b9"
      },
      "source": [
        "plot_history(history)"
      ],
      "execution_count": null,
      "outputs": [
        {
          "output_type": "stream",
          "text": [
            "Max Train Accuracy 0.7306046485900879\n",
            "Max Validation Accuracy 0.22727273404598236\n",
            "\n"
          ],
          "name": "stdout"
        },
        {
          "output_type": "display_data",
          "data": {
            "image/png": "[encoded data removed]",
            "text/plain": [
              "<Figure size 432x288 with 1 Axes>"
            ]
          },
          "metadata": {
            "tags": [],
            "needs_background": "light"
          }
        },
        {
          "output_type": "display_data",
          "data": {
            "image/png": "[encoded data removed]",
            "text/plain": [
              "<Figure size 432x288 with 1 Axes>"
            ]
          },
          "metadata": {
            "tags": [],
            "needs_background": "light"
          }
        }
      ]
    }
  ]
}