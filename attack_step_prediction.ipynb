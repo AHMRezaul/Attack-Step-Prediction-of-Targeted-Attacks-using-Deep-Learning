{
  "nbformat": 4,
  "nbformat_minor": 0,
  "metadata": {
    "colab": {
      "name": "attack step prediction.ipynb",
      "provenance": [],
      "collapsed_sections": []
    },
    "kernelspec": {
      "name": "python3",
      "display_name": "Python 3"
    },
    "accelerator": "GPU"
  },
  "cells": [
    {
      "cell_type": "code",
      "metadata": {
        "colab": {
          "base_uri": "https://localhost:8080/"
        },
        "id": "SeUG6kvO9WEa",
        "outputId": "8c62a099-0a9b-406d-a789-7bdbb8a64783"
      },
      "source": [
        "!python --version"
      ],
      "execution_count": null,
      "outputs": [
        {
          "output_type": "stream",
          "text": [
            "Python 3.6.9\n"
          ],
          "name": "stdout"
        }
      ]
    },
    {
      "cell_type": "code",
      "metadata": {
        "colab": {
          "base_uri": "https://localhost:8080/"
        },
        "id": "7qqwqotc90vT",
        "outputId": "ccb93e7d-c3f2-43ce-da08-a0c23ec70168"
      },
      "source": [
        "# mount drive\n",
        "from google.colab import drive\n",
        "drive.mount('/content/drive', force_remount=True)"
      ],
      "execution_count": null,
      "outputs": [
        {
          "output_type": "stream",
          "text": [
            "Mounted at /content/drive\n"
          ],
          "name": "stdout"
        }
      ]
    },
    {
      "cell_type": "code",
      "metadata": {
        "colab": {
          "base_uri": "https://localhost:8080/"
        },
        "id": "fxP2F6rI9_S1",
        "outputId": "b879a4e5-eb2a-4a1f-c3fc-d9cc8be5d914"
      },
      "source": [
        "%cd /content/drive/MyDrive/Thesis/Attack\\ Step\\ Prediction/Implementation\n",
        "!ls"
      ],
      "execution_count": null,
      "outputs": [
        {
          "output_type": "stream",
          "text": [
            "/content/drive/MyDrive/Thesis/Attack Step Prediction/Implementation\n",
            "APTGen_json\t __pycache__\ttest_data_sequence.txt\n",
            "aptgen_utils.py  sequences.csv\tunique_steps.txt\n"
          ],
          "name": "stdout"
        }
      ]
    },
    {
      "cell_type": "code",
      "metadata": {
        "id": "Sa2ns6Sm-LcZ"
      },
      "source": [
        "import tensorflow as tf\n",
        "import numpy as np\n",
        "import random\n",
        "import csv\n",
        "\n",
        "import aptgen_utils"
      ],
      "execution_count": null,
      "outputs": []
    },
    {
      "cell_type": "code",
      "metadata": {
        "colab": {
          "base_uri": "https://localhost:8080/"
        },
        "id": "iL1G8hEAHwge",
        "outputId": "462eabcc-414c-47b3-b191-faa2cc87e455"
      },
      "source": [
        "# to reflect the changes, the module needs to be reloaded\n",
        "import importlib\n",
        "importlib.reload(aptgen_utils)"
      ],
      "execution_count": null,
      "outputs": [
        {
          "output_type": "execute_result",
          "data": {
            "text/plain": [
              "<module 'aptgen_utils' from '/content/drive/My Drive/Thesis/Attack Step Prediction/Implementation/aptgen_utils.py'>"
            ]
          },
          "metadata": {
            "tags": []
          },
          "execution_count": 6
        }
      ]
    },
    {
      "cell_type": "code",
      "metadata": {
        "colab": {
          "base_uri": "https://localhost:8080/"
        },
        "id": "UAFeBGrr850P",
        "outputId": "fde96519-0f22-490c-82b4-f50e517b8564"
      },
      "source": [
        "dir(aptgen_utils)"
      ],
      "execution_count": null,
      "outputs": [
        {
          "output_type": "execute_result",
          "data": {
            "text/plain": [
              "['__builtins__',\n",
              " '__cached__',\n",
              " '__doc__',\n",
              " '__file__',\n",
              " '__loader__',\n",
              " '__name__',\n",
              " '__package__',\n",
              " '__spec__',\n",
              " 'csv',\n",
              " 'get_conversion_dicts',\n",
              " 'get_data_text',\n",
              " 'get_train_test_data',\n",
              " 'sequence_to_indices']"
            ]
          },
          "metadata": {
            "tags": []
          },
          "execution_count": 7
        }
      ]
    },
    {
      "cell_type": "markdown",
      "metadata": {
        "id": "uT7GVKXiA2Ef"
      },
      "source": [
        "<font size=5>***Indexing starts from 1***</font>"
      ]
    },
    {
      "cell_type": "code",
      "metadata": {
        "colab": {
          "base_uri": "https://localhost:8080/"
        },
        "id": "eHwmaVrs-Ubh",
        "outputId": "3166a348-756c-4bdd-e077-ded07e9b5778"
      },
      "source": [
        "step_to_index, index_to_step = aptgen_utils.get_conversion_dicts()\n",
        "# indexing starts from 1\n",
        "step_to_index['discovery TA0007 Account_Discovery T1087']"
      ],
      "execution_count": null,
      "outputs": [
        {
          "output_type": "execute_result",
          "data": {
            "text/plain": [
              "16"
            ]
          },
          "metadata": {
            "tags": []
          },
          "execution_count": 8
        }
      ]
    },
    {
      "cell_type": "markdown",
      "metadata": {
        "id": "tS3gOyz7Bstj"
      },
      "source": [
        "# Experiment 1:\n",
        "We'll take *80 samples from each 100* attack sequence as training data and rest of the samples will go as test data. As each 100 sequence belong to a particular incident, we are doing a 80-20 split from each incident. Our goal here is to see how combined information from all incidents together help in prediction.\n",
        "\n",
        "Training data: `80 * 8` = `640` samples\n",
        "\n",
        "Testing data: `20 * 8` = `160` samples"
      ]
    },
    {
      "cell_type": "code",
      "metadata": {
        "colab": {
          "base_uri": "https://localhost:8080/"
        },
        "id": "aPNWdWHl7yzO",
        "outputId": "ede3c2a1-b559-4afe-f8d4-9a8c12ddf481"
      },
      "source": [
        "# get attack sequences as list of lists\n",
        "data_text = aptgen_utils.get_data_text()\n",
        "print(data_text[0])\n",
        "len(data_text)"
      ],
      "execution_count": null,
      "outputs": [
        {
          "output_type": "stream",
          "text": [
            "['collection TA0009 Email_Collection T1114', 'credential_access TA0006 Credential_Dumping T1003', 'discovery TA0007 System_Information_Discovery T1082', 'collection TA0009 Email_Collection T1114', 'defense_evasion TA0005 File_Deletion T1107', 'persistence TA0003 Scheduled_Task T1053', 'discovery TA0007 System_Information_Discovery T1082', 'collection TA0009 Email_Collection T1114']\n"
          ],
          "name": "stdout"
        },
        {
          "output_type": "execute_result",
          "data": {
            "text/plain": [
              "800"
            ]
          },
          "metadata": {
            "tags": []
          },
          "execution_count": 9
        }
      ]
    },
    {
      "cell_type": "code",
      "metadata": {
        "colab": {
          "base_uri": "https://localhost:8080/"
        },
        "id": "TEtHb5yC-lZq",
        "outputId": "43f2afa8-8208-4d8c-8c65-e40c3593524b"
      },
      "source": [
        "# convert the sequences to a list of indices\n",
        "data_indices = aptgen_utils.sequence_to_indices(data_text, step_to_index)\n",
        "print(data_indices[0])\n",
        "len(data_indices)"
      ],
      "execution_count": null,
      "outputs": [
        {
          "output_type": "stream",
          "text": [
            "[2, 5, 24, 2, 12, 47, 24, 2]\n"
          ],
          "name": "stdout"
        },
        {
          "output_type": "execute_result",
          "data": {
            "text/plain": [
              "800"
            ]
          },
          "metadata": {
            "tags": []
          },
          "execution_count": 10
        }
      ]
    },
    {
      "cell_type": "markdown",
      "metadata": {
        "id": "aJfGcHQQFEw-"
      },
      "source": [
        "Now our goal is to divide the data into train and test sets in way that maintains the distribution of different steps. That means, both train and test data should have samples representing each steps. \n",
        "\n",
        "For example, there are 50 unique steps in the whole dataset. So, labels in the both train and test set should have those 50 steps and also they should be distributed according to 80-20 split. If step_2 occurs 100 times in the labels of an incident then 80 samples from them will go to training set and rest 20 will go to test set."
      ]
    },
    {
      "cell_type": "markdown",
      "metadata": {
        "id": "Es1allerIE2c"
      },
      "source": [
        "Now, we'll check the frequency count of the last steps in the sequences belonging to each incident."
      ]
    },
    {
      "cell_type": "code",
      "metadata": {
        "id": "4Rjwm0cITS-T"
      },
      "source": [
        "last_steps = []\n",
        "for sequence in data_indices:\n",
        "    last_steps.append(sequence[-1])"
      ],
      "execution_count": null,
      "outputs": []
    },
    {
      "cell_type": "code",
      "metadata": {
        "colab": {
          "base_uri": "https://localhost:8080/"
        },
        "id": "ZOlWMsBaT4Cq",
        "outputId": "20e82c4d-0d04-409e-8c50-41874633ce80"
      },
      "source": [
        "from collections import Counter\n",
        "print(\"Number of unique target labels:\", len(Counter(last_steps).keys()))\n",
        "counter = Counter(last_steps)\n",
        "print(counter)"
      ],
      "execution_count": null,
      "outputs": [
        {
          "output_type": "stream",
          "text": [
            "Number of unique target labels: 36\n",
            "Counter({32: 272, 12: 142, 36: 127, 14: 47, 11: 46, 37: 26, 35: 24, 30: 13, 34: 12, 5: 12, 33: 12, 22: 8, 1: 8, 2: 7, 3: 6, 17: 5, 24: 3, 13: 3, 4: 3, 23: 2, 31: 2, 45: 2, 6: 2, 47: 2, 9: 2, 26: 2, 20: 1, 7: 1, 25: 1, 27: 1, 46: 1, 21: 1, 29: 1, 19: 1, 41: 1, 16: 1})\n"
          ],
          "name": "stdout"
        }
      ]
    },
    {
      "cell_type": "code",
      "metadata": {
        "colab": {
          "base_uri": "https://localhost:8080/",
          "height": 447
        },
        "id": "1hylcZ9mbF01",
        "outputId": "0d7d5c5c-5643-48c3-e744-716c2e255a2d"
      },
      "source": [
        "import matplotlib.pyplot as plt\n",
        "plt.figure(figsize=(15, 6))\n",
        "x = [key for key in counter.keys()]\n",
        "y = [val for val in counter.values()]\n",
        "\n",
        "plt.xticks(x)\n",
        "plt.stem(x, y)"
      ],
      "execution_count": null,
      "outputs": [
        {
          "output_type": "stream",
          "text": [
            "/usr/local/lib/python3.6/dist-packages/ipykernel_launcher.py:7: UserWarning: In Matplotlib 3.3 individual lines on a stem plot will be added as a LineCollection instead of individual lines. This significantly improves the performance of a stem plot. To remove this warning and switch to the new behaviour, set the \"use_line_collection\" keyword argument to True.\n",
            "  import sys\n"
          ],
          "name": "stderr"
        },
        {
          "output_type": "execute_result",
          "data": {
            "text/plain": [
              "<StemContainer object of 3 artists>"
            ]
          },
          "metadata": {
            "tags": []
          },
          "execution_count": 13
        },
        {
          "output_type": "display_data",
          "data": {
            "image/png": "[encoded data removed]",
            "text/plain": [
              "<Figure size 1080x432 with 1 Axes>"
            ]
          },
          "metadata": {
            "tags": [],
            "needs_background": "light"
          }
        }
      ]
    },
    {
      "cell_type": "code",
      "metadata": {
        "colab": {
          "base_uri": "https://localhost:8080/"
        },
        "id": "LhuNVfbxjQPG",
        "outputId": "33fbc02a-c285-4ec7-d870-6f8a88286c37"
      },
      "source": [
        "unit_steps = [20, 7, 25, 27, 46, 21, 29, 19, 41, 16]\n",
        "for step in unit_steps:\n",
        "    print(index_to_step[step])"
      ],
      "execution_count": null,
      "outputs": [
        {
          "output_type": "stream",
          "text": [
            "discovery TA0007 Permission_Groups_Discovery T1069\n",
            "credential_access TA0006 Credentials_in_Registry T1214\n",
            "discovery TA0007 System_Network_Configuration_Discovery T1016\n",
            "discovery TA0007 System_Owner/User_Discovery T1033\n",
            "persistence TA0003 Registry_Run_Keys_/_Startup_Folder T1060\n",
            "discovery TA0007 Query_Registry T1012\n",
            "discovery TA0007 System_Time_Discovery T1124\n",
            "discovery TA0007 Password_Policy_Discovery T1201\n",
            "persistence TA0003 Hooking T1179\n",
            "discovery TA0007 Account_Discovery T1087\n"
          ],
          "name": "stdout"
        }
      ]
    },
    {
      "cell_type": "code",
      "metadata": {
        "colab": {
          "base_uri": "https://localhost:8080/"
        },
        "id": "G7W7kzMon-pt",
        "outputId": "4ee9a33e-4cc1-4cc5-cf9d-0fdc50ec354a"
      },
      "source": [
        "index_of_samples_by_labels = {}\n",
        "for idx, sequence in enumerate(data_indices):\n",
        "    if sequence[-1] in index_of_samples_by_labels:\n",
        "        index_of_samples_by_labels[sequence[-1]].append(idx)\n",
        "    else:\n",
        "        index_of_samples_by_labels[sequence[-1]] = [idx]\n",
        "\n",
        "print(\"samples with target label 2 (before shuffling):\", index_of_samples_by_labels[2])\n",
        "\n",
        "# As there are 10 labels which only have 1 sample, we'll remove them from our data.\n",
        "sample_indices_to_remove = []\n",
        "for idx, step in enumerate(last_steps):\n",
        "    if step in unit_steps:\n",
        "        sample_indices_to_remove.append(idx)\n",
        "print(\"sample indices corresponding to unit target labels\", sample_indices_to_remove)\n",
        "\n",
        "\n",
        "# remove keys that only have one samples\n",
        "for key in unit_steps:\n",
        "    index_of_samples_by_labels.pop(key, None)\n",
        "print(\"After removing target labels with only one samples,\", index_of_samples_by_labels.keys())\n",
        "\n",
        "# we'll shuffle the sample indices inside the dict\n",
        "for key in index_of_samples_by_labels.keys():\n",
        "    rand = random.Random(69)\n",
        "    rand.shuffle(index_of_samples_by_labels[key])\n",
        "print(\"samples with target label 2 (after shuffling):\", index_of_samples_by_labels[2])"
      ],
      "execution_count": null,
      "outputs": [
        {
          "output_type": "stream",
          "text": [
            "samples with target label 2 (before shuffling): [0, 1, 6, 300, 302, 312, 313]\n",
            "sample indices corresponding to unit target labels [3, 10, 18, 105, 208, 318, 319, 643, 644, 701]\n",
            "After removing target labels with only one samples, dict_keys([2, 12, 22, 1, 24, 17, 36, 34, 32, 23, 31, 11, 45, 5, 13, 3, 4, 6, 35, 14, 33, 37, 30, 47, 9, 26])\n",
            "samples with target label 2 (after shuffling): [6, 300, 302, 1, 313, 0, 312]\n"
          ],
          "name": "stdout"
        }
      ]
    },
    {
      "cell_type": "code",
      "metadata": {
        "colab": {
          "base_uri": "https://localhost:8080/"
        },
        "id": "4mDoKQHAsLdB",
        "outputId": "272de717-8371-4553-b136-c279bb83af08"
      },
      "source": [
        "print(\"Number of target labels:\", len(index_of_samples_by_labels.keys()))"
      ],
      "execution_count": null,
      "outputs": [
        {
          "output_type": "stream",
          "text": [
            "Number of target labels: 26\n"
          ],
          "name": "stdout"
        }
      ]
    },
    {
      "cell_type": "markdown",
      "metadata": {
        "id": "GvRMyWZ5sZ-b"
      },
      "source": [
        "Now we'll distribute the train and test data indices according to the label frequency. As an example, of the labels having 2 samples, one will go to train set and antother to test set."
      ]
    },
    {
      "cell_type": "code",
      "metadata": {
        "id": "OVmE-RD2s4q4"
      },
      "source": [
        "#{32: 272, 12: 142, 36: 127, 14: 47, 11: 46, 37: 26, 35: 24, 30: 13, 34: 12, 5: 12, 33: 12, 22: 8, 1: 8, 2: 7, 3: 6, 17: 5, 24: 3, 13: 3, 4: 3, 23: 2, 31: 2, 45: 2, 6: 2, 47: 2, 9: 2, 26: 2}\n",
        "# the keys are the target labels \n",
        "# the values are the number of samples that will go to train set wchich have the key as the target label \n",
        "train_distribution = {23: 1, 31: 1, 45: 1, 6: 1, 47: 1, 9: 1, 26: 1, 24: 2, 13: 2, 4: 2, 17: 3, 3: 4, 2: 5, 1: 6, 22: 6, 33: 9, 5: 9, 34: 9, 30: 10, 35: 19, 37: 20, 11: 37, 14: 38, 36: 110, 12: 117, 32: 225}\n",
        "\n",
        "train_indices = []\n",
        "test_indices = []\n",
        "for key in train_distribution.keys():\n",
        "    sample_count = train_distribution[key]\n",
        "    train_indices.extend(index_of_samples_by_labels[key][:sample_count])\n",
        "    test_indices.extend(index_of_samples_by_labels[key][sample_count:])"
      ],
      "execution_count": null,
      "outputs": []
    },
    {
      "cell_type": "code",
      "metadata": {
        "colab": {
          "base_uri": "https://localhost:8080/"
        },
        "id": "r5hKgcZadC5k",
        "outputId": "c6f58c6b-502e-4d7e-ce3c-3f2a727448ca"
      },
      "source": [
        "print(\"Number of train samples:\", len(train_indices))\n",
        "print(\"Number of test samples:\", len(test_indices))"
      ],
      "execution_count": null,
      "outputs": [
        {
          "output_type": "stream",
          "text": [
            "Number of train samples: 640\n",
            "Number of test samples: 150\n"
          ],
          "name": "stdout"
        }
      ]
    },
    {
      "cell_type": "code",
      "metadata": {
        "colab": {
          "base_uri": "https://localhost:8080/"
        },
        "id": "fRfA14Ocgytr",
        "outputId": "ff6faae0-3a5d-47b7-e46b-584d186b56bc"
      },
      "source": [
        "for i in range(8):\n",
        "    curr_range = i * 100\n",
        "    num_of_indices = len([x for x in train_indices if x >= curr_range and x < curr_range + 100])\n",
        "    print(f\"Train samples from incident {i+1}:\", num_of_indices)"
      ],
      "execution_count": null,
      "outputs": [
        {
          "output_type": "stream",
          "text": [
            "Train samples from incident 1: 76\n",
            "Train samples from incident 2: 82\n",
            "Train samples from incident 3: 81\n",
            "Train samples from incident 4: 77\n",
            "Train samples from incident 5: 86\n",
            "Train samples from incident 6: 81\n",
            "Train samples from incident 7: 76\n",
            "Train samples from incident 8: 81\n"
          ],
          "name": "stdout"
        }
      ]
    },
    {
      "cell_type": "code",
      "metadata": {
        "colab": {
          "base_uri": "https://localhost:8080/"
        },
        "id": "Jq5cHDQDOlfe",
        "outputId": "e7b3c1a4-f736-47b6-d3fc-b7e28c3f13da"
      },
      "source": [
        "for i in range(8):\n",
        "    curr_range = i * 100\n",
        "    num_of_indices = len([x for x in test_indices if x >= curr_range and x < curr_range + 100])\n",
        "    print(f\"Test samples from incident {i+1}:\", num_of_indices)"
      ],
      "execution_count": null,
      "outputs": [
        {
          "output_type": "stream",
          "text": [
            "Test samples from incident 1: 21\n",
            "Test samples from incident 2: 17\n",
            "Test samples from incident 3: 18\n",
            "Test samples from incident 4: 21\n",
            "Test samples from incident 5: 14\n",
            "Test samples from incident 6: 19\n",
            "Test samples from incident 7: 22\n",
            "Test samples from incident 8: 18\n"
          ],
          "name": "stdout"
        }
      ]
    },
    {
      "cell_type": "code",
      "metadata": {
        "id": "xoFhflF0nsne"
      },
      "source": [
        "train_data_sequence, test_data_sequence = aptgen_utils.get_train_test_data(train_indices, test_indices)"
      ],
      "execution_count": null,
      "outputs": []
    },
    {
      "cell_type": "code",
      "metadata": {
        "colab": {
          "base_uri": "https://localhost:8080/"
        },
        "id": "UGFCPW6a46Bm",
        "outputId": "a93f8ddd-5a0f-45b7-f319-a30bb5a940e3"
      },
      "source": [
        "len(train_data_sequence)"
      ],
      "execution_count": null,
      "outputs": [
        {
          "output_type": "execute_result",
          "data": {
            "text/plain": [
              "640"
            ]
          },
          "metadata": {
            "tags": []
          },
          "execution_count": 22
        }
      ]
    },
    {
      "cell_type": "code",
      "metadata": {
        "id": "CZUNQzstE08-"
      },
      "source": [
        "# with open(\"test_data_sequence.txt\", \"w\") as f:\n",
        "#     for sequence in test_data_sequence:\n",
        "#         for step in sequence:\n",
        "#             f.write(step)\n",
        "#             f.write(\",\")\n",
        "#         f.write(\"\\n\")"
      ],
      "execution_count": null,
      "outputs": []
    },
    {
      "cell_type": "markdown",
      "metadata": {
        "id": "3r6TEqyJ54ho"
      },
      "source": [
        "<font size=4>In this experiment, we'll consider the **last step** in each attack sequence as the <font color=\"green\">*step to be predicted*</font>. Thus, from each attack sequence, we'll take the last step in the sequence as `Y` and the former steps as `X`.</font>\n",
        "\n",
        "<font size=4> Now, we'll convert steps in each attack sequence to indices. As our samples (attack sequences) are <font size=5>*variable in length*</font>, we'll zero pad them with the length of the longest sample. So, all the samples will have `max_len-1 = 35-1 = 34` steps because we'll be taking out the last step as the `label`.</font>"
      ]
    },
    {
      "cell_type": "code",
      "metadata": {
        "id": "mr_2M9VnW4RS"
      },
      "source": [
        "def sequence_to_indices(data_sequence):\n",
        "    max_sequence_len = 35\n",
        "    data_index = np.zeros((len(data_sequence), max_sequence_len-1))\n",
        "\n",
        "    for i in range(len(data_sequence)):\n",
        "        steps = data_sequence[i]\n",
        "        for j in range(len(steps) - 1): # loop will stop just before the last step\n",
        "            step = steps[j]\n",
        "            data_index[i, j] = step_to_index[step]\n",
        "\n",
        "    return data_index"
      ],
      "execution_count": null,
      "outputs": []
    },
    {
      "cell_type": "code",
      "metadata": {
        "id": "G8nIV_rC5Ijk"
      },
      "source": [
        "# convert steps to corresponding indices which will later be used for one_hot encoding\n",
        "train_data_index = sequence_to_indices(train_data_sequence)\n",
        "test_data_index = sequence_to_indices(test_data_sequence)"
      ],
      "execution_count": null,
      "outputs": []
    },
    {
      "cell_type": "code",
      "metadata": {
        "colab": {
          "base_uri": "https://localhost:8080/"
        },
        "id": "eJyU0RyGjSW_",
        "outputId": "1bcf9777-3bad-4616-dbdd-16d4f48abbbf"
      },
      "source": [
        "len(train_data_index[69])"
      ],
      "execution_count": null,
      "outputs": [
        {
          "output_type": "execute_result",
          "data": {
            "text/plain": [
              "34"
            ]
          },
          "metadata": {
            "tags": []
          },
          "execution_count": 26
        }
      ]
    },
    {
      "cell_type": "code",
      "metadata": {
        "colab": {
          "base_uri": "https://localhost:8080/"
        },
        "id": "MEUwlC9F9RiG",
        "outputId": "abcce01b-5242-4a4d-9d80-c654ae85652c"
      },
      "source": [
        "len(test_data_index[69])"
      ],
      "execution_count": null,
      "outputs": [
        {
          "output_type": "execute_result",
          "data": {
            "text/plain": [
              "34"
            ]
          },
          "metadata": {
            "tags": []
          },
          "execution_count": 27
        }
      ]
    },
    {
      "cell_type": "code",
      "metadata": {
        "id": "uZe3032mO82p"
      },
      "source": [
        "# get X_train, X_test from train and test data index\n",
        "X_train, X_test = train_data_index, test_data_index"
      ],
      "execution_count": null,
      "outputs": []
    },
    {
      "cell_type": "markdown",
      "metadata": {
        "id": "jeu8cV_gROXe"
      },
      "source": [
        "We'll take out the last step before padding as the step to be predicted or the label."
      ]
    },
    {
      "cell_type": "code",
      "metadata": {
        "id": "x1E38HzbWeUj"
      },
      "source": [
        "# get Y labels from data_sequence\n",
        "Y_train = []\n",
        "Y_test = []\n",
        "for i in range(len(train_data_sequence)):\n",
        "    last_step_index = step_to_index[train_data_sequence[i][-1]]\n",
        "    Y_train.append(last_step_index)\n",
        "\n",
        "for i in range(len(test_data_sequence)):\n",
        "    last_step_index = step_to_index[test_data_sequence[i][-1]]\n",
        "    Y_test.append(last_step_index)\n",
        "\n",
        "Y_train = np.asarray(Y_train, dtype=np.float32)\n",
        "Y_test = np.asarray(Y_test, dtype=np.float32)"
      ],
      "execution_count": null,
      "outputs": []
    },
    {
      "cell_type": "code",
      "metadata": {
        "colab": {
          "base_uri": "https://localhost:8080/"
        },
        "id": "VkrZRu7x_YCO",
        "outputId": "9c85b01e-cb41-4e52-d74d-859cb7257204"
      },
      "source": [
        "print(\"Sample X_train: (X_train[0])=\", X_train[0])\n",
        "print(\"Sample Y_train: (Y_train[0])=\", Y_train[0])\n",
        "print(\"Sample X_test: (X_test[0])=\", X_test[0])\n",
        "print(\"Sample Y_test: (Y_test[0])=\", Y_test[0])\n",
        "print()\n",
        "print(\"X_train shape:\", X_train.shape)\n",
        "print(\"Y_train shape:\", Y_train.shape)\n",
        "print(\"X_test shape:\", X_test.shape)\n",
        "print(\"Y_test shape:\", Y_test.shape)"
      ],
      "execution_count": null,
      "outputs": [
        {
          "output_type": "stream",
          "text": [
            "Sample X_train: (X_train[0])= [ 1. 47.  5. 32. 18. 12.  2.  0.  0.  0.  0.  0.  0.  0.  0.  0.  0.  0.\n",
            "  0.  0.  0.  0.  0.  0.  0.  0.  0.  0.  0.  0.  0.  0.  0.  0.]\n",
            "Sample Y_train: (Y_train[0])= 2.0\n",
            "Sample X_test: (X_test[0])= [ 2.  5. 24.  2. 12. 47. 24.  0.  0.  0.  0.  0.  0.  0.  0.  0.  0.  0.\n",
            "  0.  0.  0.  0.  0.  0.  0.  0.  0.  0.  0.  0.  0.  0.  0.  0.]\n",
            "Sample Y_test: (Y_test[0])= 2.0\n",
            "\n",
            "X_train shape: (640, 34)\n",
            "Y_train shape: (640,)\n",
            "X_test shape: (150, 34)\n",
            "Y_test shape: (150,)\n"
          ],
          "name": "stdout"
        }
      ]
    },
    {
      "cell_type": "code",
      "metadata": {
        "colab": {
          "base_uri": "https://localhost:8080/"
        },
        "id": "qxBjqsVI5D7r",
        "outputId": "fd86851a-2f87-4a9b-953d-47a41184f97a"
      },
      "source": [
        "print(\"Number of unique steps in X_train:\", len(np.unique(X_train)))\n",
        "print(\"Number of unique steps in Y_train:\", len(np.unique(Y_train)))\n",
        "print(\"Number of unique steps in X_test:\", len(np.unique(X_test)))\n",
        "print(\"Number of unique steps in Y_test:\", len(np.unique(Y_test)))"
      ],
      "execution_count": null,
      "outputs": [
        {
          "output_type": "stream",
          "text": [
            "Number of unique steps in X_train: 51\n",
            "Number of unique steps in Y_train: 26\n",
            "Number of unique steps in X_test: 51\n",
            "Number of unique steps in Y_test: 26\n"
          ],
          "name": "stdout"
        }
      ]
    },
    {
      "cell_type": "code",
      "metadata": {
        "colab": {
          "base_uri": "https://localhost:8080/"
        },
        "id": "N_DBYpt01abF",
        "outputId": "fa3724ae-acaf-4da8-a71d-99dd55e59945"
      },
      "source": [
        "np.unique(X_train, return_counts=True)"
      ],
      "execution_count": null,
      "outputs": [
        {
          "output_type": "execute_result",
          "data": {
            "text/plain": [
              "(array([ 0.,  1.,  2.,  3.,  4.,  5.,  6.,  7.,  8.,  9., 10., 11., 12.,\n",
              "        13., 14., 15., 16., 17., 18., 19., 20., 21., 22., 23., 24., 25.,\n",
              "        26., 27., 28., 29., 30., 31., 32., 33., 34., 35., 36., 37., 38.,\n",
              "        39., 40., 41., 42., 43., 44., 45., 46., 47., 48., 49., 50.]),\n",
              " array([13654,   687,   268,   342,    52,   838,   198,   151,    28,\n",
              "          218,    77,   482,   532,    79,   193,    54,   127,   653,\n",
              "           85,    47,    35,   103,   598,    59,    93,   128,    40,\n",
              "           25,    93,   198,    39,    38,   276,    45,    52,   114,\n",
              "          283,    22,    24,    35,    42,    25,    40,    52,    28,\n",
              "          187,    41,   152,    29,    45,    54]))"
            ]
          },
          "metadata": {
            "tags": []
          },
          "execution_count": 32
        }
      ]
    },
    {
      "cell_type": "markdown",
      "metadata": {
        "id": "BQ_O8s_2j5U7"
      },
      "source": [
        "<font size=4>Now, we'll convert X_train, X_test, Y_train and Y_test to 2D one_hot vectors.</font>"
      ]
    },
    {
      "cell_type": "code",
      "metadata": {
        "colab": {
          "base_uri": "https://localhost:8080/"
        },
        "id": "63WLq5usQf9b",
        "outputId": "ba889adc-b81d-4be2-8258-1dcefb86eeef"
      },
      "source": [
        "unique_steps = 50\n",
        "unique_target_labels = 26\n",
        "X_train_oh = tf.one_hot(X_train, unique_steps + 1).numpy() # +1 for 0s (were added for padding)\n",
        "Y_train_oh = tf.one_hot(Y_train, unique_target_labels).numpy() # number of labels = number of unique steps (no 0s like train data)\n",
        "X_test_oh = tf.one_hot(X_test, unique_steps + 1).numpy()\n",
        "Y_test_oh = tf.one_hot(Y_test, unique_target_labels).numpy()\n",
        "print(\"X_train_oh shape:\", X_train_oh.shape)\n",
        "print(\"Y_train_oh shape:\", Y_train_oh.shape)\n",
        "print(\"X_test_oh shape:\", X_test_oh.shape)\n",
        "print(\"Y_test_oh shape:\", Y_test_oh.shape)"
      ],
      "execution_count": null,
      "outputs": [
        {
          "output_type": "stream",
          "text": [
            "X_train_oh shape: (640, 34, 51)\n",
            "Y_train_oh shape: (640, 26)\n",
            "X_test_oh shape: (150, 34, 51)\n",
            "Y_test_oh shape: (150, 26)\n"
          ],
          "name": "stdout"
        }
      ]
    },
    {
      "cell_type": "markdown",
      "metadata": {
        "id": "mBaJLZkhaC6M"
      },
      "source": [
        "Zero out the first column of all onehot sequence. These rows correspond to the padded zero value. This is done to let the LSTM layers ignore these sequences while doing computation."
      ]
    },
    {
      "cell_type": "code",
      "metadata": {
        "id": "Pc5le0SHUmeM",
        "colab": {
          "base_uri": "https://localhost:8080/"
        },
        "outputId": "6f49f806-3c3f-4707-8716-ba4c8c6b7101"
      },
      "source": [
        "X_train_oh[:, :, 0] = 0\n",
        "X_test_oh[:, :, 0] = 0\n",
        "Y_train_oh[:, 0] = 0  \n",
        "Y_test_oh[:, 0] = 0\n",
        "\n",
        "with np.printoptions(threshold=2000):\n",
        "     print(X_train_oh[0, :, :])"
      ],
      "execution_count": null,
      "outputs": [
        {
          "output_type": "stream",
          "text": [
            "[[0. 1. 0. 0. 0. 0. 0. 0. 0. 0. 0. 0. 0. 0. 0. 0. 0. 0. 0. 0. 0. 0. 0. 0.\n",
            "  0. 0. 0. 0. 0. 0. 0. 0. 0. 0. 0. 0. 0. 0. 0. 0. 0. 0. 0. 0. 0. 0. 0. 0.\n",
            "  0. 0. 0.]\n",
            " [0. 0. 0. 0. 0. 0. 0. 0. 0. 0. 0. 0. 0. 0. 0. 0. 0. 0. 0. 0. 0. 0. 0. 0.\n",
            "  0. 0. 0. 0. 0. 0. 0. 0. 0. 0. 0. 0. 0. 0. 0. 0. 0. 0. 0. 0. 0. 0. 0. 1.\n",
            "  0. 0. 0.]\n",
            " [0. 0. 0. 0. 0. 1. 0. 0. 0. 0. 0. 0. 0. 0. 0. 0. 0. 0. 0. 0. 0. 0. 0. 0.\n",
            "  0. 0. 0. 0. 0. 0. 0. 0. 0. 0. 0. 0. 0. 0. 0. 0. 0. 0. 0. 0. 0. 0. 0. 0.\n",
            "  0. 0. 0.]\n",
            " [0. 0. 0. 0. 0. 0. 0. 0. 0. 0. 0. 0. 0. 0. 0. 0. 0. 0. 0. 0. 0. 0. 0. 0.\n",
            "  0. 0. 0. 0. 0. 0. 0. 0. 1. 0. 0. 0. 0. 0. 0. 0. 0. 0. 0. 0. 0. 0. 0. 0.\n",
            "  0. 0. 0.]\n",
            " [0. 0. 0. 0. 0. 0. 0. 0. 0. 0. 0. 0. 0. 0. 0. 0. 0. 0. 1. 0. 0. 0. 0. 0.\n",
            "  0. 0. 0. 0. 0. 0. 0. 0. 0. 0. 0. 0. 0. 0. 0. 0. 0. 0. 0. 0. 0. 0. 0. 0.\n",
            "  0. 0. 0.]\n",
            " [0. 0. 0. 0. 0. 0. 0. 0. 0. 0. 0. 0. 1. 0. 0. 0. 0. 0. 0. 0. 0. 0. 0. 0.\n",
            "  0. 0. 0. 0. 0. 0. 0. 0. 0. 0. 0. 0. 0. 0. 0. 0. 0. 0. 0. 0. 0. 0. 0. 0.\n",
            "  0. 0. 0.]\n",
            " [0. 0. 1. 0. 0. 0. 0. 0. 0. 0. 0. 0. 0. 0. 0. 0. 0. 0. 0. 0. 0. 0. 0. 0.\n",
            "  0. 0. 0. 0. 0. 0. 0. 0. 0. 0. 0. 0. 0. 0. 0. 0. 0. 0. 0. 0. 0. 0. 0. 0.\n",
            "  0. 0. 0.]\n",
            " [0. 0. 0. 0. 0. 0. 0. 0. 0. 0. 0. 0. 0. 0. 0. 0. 0. 0. 0. 0. 0. 0. 0. 0.\n",
            "  0. 0. 0. 0. 0. 0. 0. 0. 0. 0. 0. 0. 0. 0. 0. 0. 0. 0. 0. 0. 0. 0. 0. 0.\n",
            "  0. 0. 0.]\n",
            " [0. 0. 0. 0. 0. 0. 0. 0. 0. 0. 0. 0. 0. 0. 0. 0. 0. 0. 0. 0. 0. 0. 0. 0.\n",
            "  0. 0. 0. 0. 0. 0. 0. 0. 0. 0. 0. 0. 0. 0. 0. 0. 0. 0. 0. 0. 0. 0. 0. 0.\n",
            "  0. 0. 0.]\n",
            " [0. 0. 0. 0. 0. 0. 0. 0. 0. 0. 0. 0. 0. 0. 0. 0. 0. 0. 0. 0. 0. 0. 0. 0.\n",
            "  0. 0. 0. 0. 0. 0. 0. 0. 0. 0. 0. 0. 0. 0. 0. 0. 0. 0. 0. 0. 0. 0. 0. 0.\n",
            "  0. 0. 0.]\n",
            " [0. 0. 0. 0. 0. 0. 0. 0. 0. 0. 0. 0. 0. 0. 0. 0. 0. 0. 0. 0. 0. 0. 0. 0.\n",
            "  0. 0. 0. 0. 0. 0. 0. 0. 0. 0. 0. 0. 0. 0. 0. 0. 0. 0. 0. 0. 0. 0. 0. 0.\n",
            "  0. 0. 0.]\n",
            " [0. 0. 0. 0. 0. 0. 0. 0. 0. 0. 0. 0. 0. 0. 0. 0. 0. 0. 0. 0. 0. 0. 0. 0.\n",
            "  0. 0. 0. 0. 0. 0. 0. 0. 0. 0. 0. 0. 0. 0. 0. 0. 0. 0. 0. 0. 0. 0. 0. 0.\n",
            "  0. 0. 0.]\n",
            " [0. 0. 0. 0. 0. 0. 0. 0. 0. 0. 0. 0. 0. 0. 0. 0. 0. 0. 0. 0. 0. 0. 0. 0.\n",
            "  0. 0. 0. 0. 0. 0. 0. 0. 0. 0. 0. 0. 0. 0. 0. 0. 0. 0. 0. 0. 0. 0. 0. 0.\n",
            "  0. 0. 0.]\n",
            " [0. 0. 0. 0. 0. 0. 0. 0. 0. 0. 0. 0. 0. 0. 0. 0. 0. 0. 0. 0. 0. 0. 0. 0.\n",
            "  0. 0. 0. 0. 0. 0. 0. 0. 0. 0. 0. 0. 0. 0. 0. 0. 0. 0. 0. 0. 0. 0. 0. 0.\n",
            "  0. 0. 0.]\n",
            " [0. 0. 0. 0. 0. 0. 0. 0. 0. 0. 0. 0. 0. 0. 0. 0. 0. 0. 0. 0. 0. 0. 0. 0.\n",
            "  0. 0. 0. 0. 0. 0. 0. 0. 0. 0. 0. 0. 0. 0. 0. 0. 0. 0. 0. 0. 0. 0. 0. 0.\n",
            "  0. 0. 0.]\n",
            " [0. 0. 0. 0. 0. 0. 0. 0. 0. 0. 0. 0. 0. 0. 0. 0. 0. 0. 0. 0. 0. 0. 0. 0.\n",
            "  0. 0. 0. 0. 0. 0. 0. 0. 0. 0. 0. 0. 0. 0. 0. 0. 0. 0. 0. 0. 0. 0. 0. 0.\n",
            "  0. 0. 0.]\n",
            " [0. 0. 0. 0. 0. 0. 0. 0. 0. 0. 0. 0. 0. 0. 0. 0. 0. 0. 0. 0. 0. 0. 0. 0.\n",
            "  0. 0. 0. 0. 0. 0. 0. 0. 0. 0. 0. 0. 0. 0. 0. 0. 0. 0. 0. 0. 0. 0. 0. 0.\n",
            "  0. 0. 0.]\n",
            " [0. 0. 0. 0. 0. 0. 0. 0. 0. 0. 0. 0. 0. 0. 0. 0. 0. 0. 0. 0. 0. 0. 0. 0.\n",
            "  0. 0. 0. 0. 0. 0. 0. 0. 0. 0. 0. 0. 0. 0. 0. 0. 0. 0. 0. 0. 0. 0. 0. 0.\n",
            "  0. 0. 0.]\n",
            " [0. 0. 0. 0. 0. 0. 0. 0. 0. 0. 0. 0. 0. 0. 0. 0. 0. 0. 0. 0. 0. 0. 0. 0.\n",
            "  0. 0. 0. 0. 0. 0. 0. 0. 0. 0. 0. 0. 0. 0. 0. 0. 0. 0. 0. 0. 0. 0. 0. 0.\n",
            "  0. 0. 0.]\n",
            " [0. 0. 0. 0. 0. 0. 0. 0. 0. 0. 0. 0. 0. 0. 0. 0. 0. 0. 0. 0. 0. 0. 0. 0.\n",
            "  0. 0. 0. 0. 0. 0. 0. 0. 0. 0. 0. 0. 0. 0. 0. 0. 0. 0. 0. 0. 0. 0. 0. 0.\n",
            "  0. 0. 0.]\n",
            " [0. 0. 0. 0. 0. 0. 0. 0. 0. 0. 0. 0. 0. 0. 0. 0. 0. 0. 0. 0. 0. 0. 0. 0.\n",
            "  0. 0. 0. 0. 0. 0. 0. 0. 0. 0. 0. 0. 0. 0. 0. 0. 0. 0. 0. 0. 0. 0. 0. 0.\n",
            "  0. 0. 0.]\n",
            " [0. 0. 0. 0. 0. 0. 0. 0. 0. 0. 0. 0. 0. 0. 0. 0. 0. 0. 0. 0. 0. 0. 0. 0.\n",
            "  0. 0. 0. 0. 0. 0. 0. 0. 0. 0. 0. 0. 0. 0. 0. 0. 0. 0. 0. 0. 0. 0. 0. 0.\n",
            "  0. 0. 0.]\n",
            " [0. 0. 0. 0. 0. 0. 0. 0. 0. 0. 0. 0. 0. 0. 0. 0. 0. 0. 0. 0. 0. 0. 0. 0.\n",
            "  0. 0. 0. 0. 0. 0. 0. 0. 0. 0. 0. 0. 0. 0. 0. 0. 0. 0. 0. 0. 0. 0. 0. 0.\n",
            "  0. 0. 0.]\n",
            " [0. 0. 0. 0. 0. 0. 0. 0. 0. 0. 0. 0. 0. 0. 0. 0. 0. 0. 0. 0. 0. 0. 0. 0.\n",
            "  0. 0. 0. 0. 0. 0. 0. 0. 0. 0. 0. 0. 0. 0. 0. 0. 0. 0. 0. 0. 0. 0. 0. 0.\n",
            "  0. 0. 0.]\n",
            " [0. 0. 0. 0. 0. 0. 0. 0. 0. 0. 0. 0. 0. 0. 0. 0. 0. 0. 0. 0. 0. 0. 0. 0.\n",
            "  0. 0. 0. 0. 0. 0. 0. 0. 0. 0. 0. 0. 0. 0. 0. 0. 0. 0. 0. 0. 0. 0. 0. 0.\n",
            "  0. 0. 0.]\n",
            " [0. 0. 0. 0. 0. 0. 0. 0. 0. 0. 0. 0. 0. 0. 0. 0. 0. 0. 0. 0. 0. 0. 0. 0.\n",
            "  0. 0. 0. 0. 0. 0. 0. 0. 0. 0. 0. 0. 0. 0. 0. 0. 0. 0. 0. 0. 0. 0. 0. 0.\n",
            "  0. 0. 0.]\n",
            " [0. 0. 0. 0. 0. 0. 0. 0. 0. 0. 0. 0. 0. 0. 0. 0. 0. 0. 0. 0. 0. 0. 0. 0.\n",
            "  0. 0. 0. 0. 0. 0. 0. 0. 0. 0. 0. 0. 0. 0. 0. 0. 0. 0. 0. 0. 0. 0. 0. 0.\n",
            "  0. 0. 0.]\n",
            " [0. 0. 0. 0. 0. 0. 0. 0. 0. 0. 0. 0. 0. 0. 0. 0. 0. 0. 0. 0. 0. 0. 0. 0.\n",
            "  0. 0. 0. 0. 0. 0. 0. 0. 0. 0. 0. 0. 0. 0. 0. 0. 0. 0. 0. 0. 0. 0. 0. 0.\n",
            "  0. 0. 0.]\n",
            " [0. 0. 0. 0. 0. 0. 0. 0. 0. 0. 0. 0. 0. 0. 0. 0. 0. 0. 0. 0. 0. 0. 0. 0.\n",
            "  0. 0. 0. 0. 0. 0. 0. 0. 0. 0. 0. 0. 0. 0. 0. 0. 0. 0. 0. 0. 0. 0. 0. 0.\n",
            "  0. 0. 0.]\n",
            " [0. 0. 0. 0. 0. 0. 0. 0. 0. 0. 0. 0. 0. 0. 0. 0. 0. 0. 0. 0. 0. 0. 0. 0.\n",
            "  0. 0. 0. 0. 0. 0. 0. 0. 0. 0. 0. 0. 0. 0. 0. 0. 0. 0. 0. 0. 0. 0. 0. 0.\n",
            "  0. 0. 0.]\n",
            " [0. 0. 0. 0. 0. 0. 0. 0. 0. 0. 0. 0. 0. 0. 0. 0. 0. 0. 0. 0. 0. 0. 0. 0.\n",
            "  0. 0. 0. 0. 0. 0. 0. 0. 0. 0. 0. 0. 0. 0. 0. 0. 0. 0. 0. 0. 0. 0. 0. 0.\n",
            "  0. 0. 0.]\n",
            " [0. 0. 0. 0. 0. 0. 0. 0. 0. 0. 0. 0. 0. 0. 0. 0. 0. 0. 0. 0. 0. 0. 0. 0.\n",
            "  0. 0. 0. 0. 0. 0. 0. 0. 0. 0. 0. 0. 0. 0. 0. 0. 0. 0. 0. 0. 0. 0. 0. 0.\n",
            "  0. 0. 0.]\n",
            " [0. 0. 0. 0. 0. 0. 0. 0. 0. 0. 0. 0. 0. 0. 0. 0. 0. 0. 0. 0. 0. 0. 0. 0.\n",
            "  0. 0. 0. 0. 0. 0. 0. 0. 0. 0. 0. 0. 0. 0. 0. 0. 0. 0. 0. 0. 0. 0. 0. 0.\n",
            "  0. 0. 0.]\n",
            " [0. 0. 0. 0. 0. 0. 0. 0. 0. 0. 0. 0. 0. 0. 0. 0. 0. 0. 0. 0. 0. 0. 0. 0.\n",
            "  0. 0. 0. 0. 0. 0. 0. 0. 0. 0. 0. 0. 0. 0. 0. 0. 0. 0. 0. 0. 0. 0. 0. 0.\n",
            "  0. 0. 0.]]\n"
          ],
          "name": "stdout"
        }
      ]
    },
    {
      "cell_type": "markdown",
      "metadata": {
        "id": "diWYAiYSLX97"
      },
      "source": [
        "The masking layer produces a <font size=5>boolean tensor</font> from the input tensor that denotes which inputs are to be considered and which are to be ignored. This tensor is automatically propagated to the next layers."
      ]
    },
    {
      "cell_type": "code",
      "metadata": {
        "colab": {
          "base_uri": "https://localhost:8080/"
        },
        "id": "7mqYv9AL1eyH",
        "outputId": "3a412e56-6ed8-4c11-febb-8b84e9e1f47e"
      },
      "source": [
        "from tensorflow.keras import Model, layers\n",
        "padded_inputs = X_train_oh[0, :, :]\n",
        "masked_output = layers.Masking(mask_value=0.0)(padded_inputs)\n",
        "\n",
        "print(masked_output._keras_mask)"
      ],
      "execution_count": null,
      "outputs": [
        {
          "output_type": "stream",
          "text": [
            "tf.Tensor(\n",
            "[ True  True  True  True  True  True  True False False False False False\n",
            " False False False False False False False False False False False False\n",
            " False False False False False False False False False False], shape=(34,), dtype=bool)\n"
          ],
          "name": "stdout"
        }
      ]
    },
    {
      "cell_type": "code",
      "metadata": {
        "id": "YL6_sJSELQcv"
      },
      "source": [
        "timesteps = 34 # number of steps in each sample\n",
        "vocab_size = 51 # number of unique steps(including 0)"
      ],
      "execution_count": null,
      "outputs": []
    },
    {
      "cell_type": "markdown",
      "metadata": {
        "id": "HoXl9jh8MIuM"
      },
      "source": [
        "Now, we'll make the model."
      ]
    },
    {
      "cell_type": "code",
      "metadata": {
        "colab": {
          "base_uri": "https://localhost:8080/"
        },
        "id": "miU3SzAXVfJk",
        "outputId": "1efb14eb-597e-44c8-b259-0adfb71f6e3c"
      },
      "source": [
        "# using embedding layer\n",
        "from tensorflow.keras.regularizers import l2\n",
        "import tensorflow.keras.backend as K \n",
        "\n",
        "K.clear_session()\n",
        "inputs = layers.Input(shape=(timesteps, vocab_size))\n",
        "# X = layers.Embedding(input_dim=vocab_size, output_dim=16, mask_zero=True)(inputs) # vocab_size is including 0\n",
        "X = layers.Masking(mask_value=0.0)(inputs)\n",
        "X = layers.Dense(units=512)(X)\n",
        "#X = layers.Dropout(0.2)(masked_inputs)\n",
        "X, h_state, c_state = layers.LSTM(units=2048, return_sequences=True, return_state=True)(X)\n",
        "X, h_state, c_state = layers.LSTM(units=2048, return_sequences=True, return_state=True)(X, initial_state=[h_state, c_state])\n",
        "X = layers.LSTM(units=2048, return_sequences=True)(X, initial_state=[h_state, c_state])\n",
        "X = layers.Flatten()(X)\n",
        "#X = layers.LSTM(units=64)(X)\n",
        "X = layers.Dense(units=1024, activation='relu')(X)\n",
        "X = layers.Dense(units=1024, activation='relu')(X)\n",
        "X = layers.Dense(units=512, activation='relu')(X)\n",
        "X = layers.Dense(units=512, activation='relu')(X)\n",
        "X = layers.Dense(units=256, activation='relu')(X)\n",
        "X = layers.Dense(units=256, activation='relu')(X)\n",
        "# X = layers.Dropout(0.2)(X)\n",
        "# Propagate X through a Dense layer with 26 units\n",
        "outputs = layers.Dense(units=26, activation='softmax')(X)\n",
        "# outputs = layers.Activation(\"softmax\")(X)\n",
        "model_emb = Model(inputs=inputs, outputs=outputs, name=\"Experiment_2\")\n",
        "\n",
        "model_emb.summary()"
      ],
      "execution_count": null,
      "outputs": [
        {
          "output_type": "stream",
          "text": [
            "Model: \"Experiment_2\"\n",
            "__________________________________________________________________________________________________\n",
            "Layer (type)                    Output Shape         Param #     Connected to                     \n",
            "==================================================================================================\n",
            "input_1 (InputLayer)            [(None, 34, 51)]     0                                            \n",
            "__________________________________________________________________________________________________\n",
            "masking (Masking)               (None, 34, 51)       0           input_1[0][0]                    \n",
            "__________________________________________________________________________________________________\n",
            "dense (Dense)                   (None, 34, 512)      26624       masking[0][0]                    \n",
            "__________________________________________________________________________________________________\n",
            "lstm (LSTM)                     [(None, 34, 2048), ( 20979712    dense[0][0]                      \n",
            "__________________________________________________________________________________________________\n",
            "lstm_1 (LSTM)                   [(None, 34, 2048), ( 33562624    lstm[0][0]                       \n",
            "                                                                 lstm[0][1]                       \n",
            "                                                                 lstm[0][2]                       \n",
            "__________________________________________________________________________________________________\n",
            "lstm_2 (LSTM)                   (None, 34, 2048)     33562624    lstm_1[0][0]                     \n",
            "                                                                 lstm_1[0][1]                     \n",
            "                                                                 lstm_1[0][2]                     \n",
            "__________________________________________________________________________________________________\n",
            "flatten (Flatten)               (None, 69632)        0           lstm_2[0][0]                     \n",
            "__________________________________________________________________________________________________\n",
            "dense_1 (Dense)                 (None, 1024)         71304192    flatten[0][0]                    \n",
            "__________________________________________________________________________________________________\n",
            "dense_2 (Dense)                 (None, 1024)         1049600     dense_1[0][0]                    \n",
            "__________________________________________________________________________________________________\n",
            "dense_3 (Dense)                 (None, 512)          524800      dense_2[0][0]                    \n",
            "__________________________________________________________________________________________________\n",
            "dense_4 (Dense)                 (None, 512)          262656      dense_3[0][0]                    \n",
            "__________________________________________________________________________________________________\n",
            "dense_5 (Dense)                 (None, 256)          131328      dense_4[0][0]                    \n",
            "__________________________________________________________________________________________________\n",
            "dense_6 (Dense)                 (None, 256)          65792       dense_5[0][0]                    \n",
            "__________________________________________________________________________________________________\n",
            "dense_7 (Dense)                 (None, 26)           6682        dense_6[0][0]                    \n",
            "==================================================================================================\n",
            "Total params: 161,476,634\n",
            "Trainable params: 161,476,634\n",
            "Non-trainable params: 0\n",
            "__________________________________________________________________________________________________\n"
          ],
          "name": "stdout"
        }
      ]
    },
    {
      "cell_type": "code",
      "metadata": {
        "id": "VJZmSY2Sp4MF"
      },
      "source": [
        "from tensorflow.keras.optimizers import Adam\n",
        "adam = Adam(lr=1e-6)\n",
        "model_emb.compile(loss='categorical_crossentropy', optimizer=adam, metrics=['accuracy'])"
      ],
      "execution_count": null,
      "outputs": []
    },
    {
      "cell_type": "code",
      "metadata": {
        "colab": {
          "base_uri": "https://localhost:8080/"
        },
        "id": "wG5sLCoqqDiX",
        "outputId": "1d63d1c7-8858-468b-ab15-59508f68d373"
      },
      "source": [
        "history = model_emb.fit(X_train_oh, Y_train_oh, epochs=200, batch_size=16, validation_data=(X_test_oh, Y_test_oh), shuffle=True)"
      ],
      "execution_count": null,
      "outputs": [
        {
          "output_type": "stream",
          "text": [
            "Epoch 1/200\n",
            "40/40 [==============================] - 17s 212ms/step - loss: 1.1647 - accuracy: 0.0542 - val_loss: 1.3463 - val_accuracy: 0.1867\n",
            "Epoch 2/200\n",
            "40/40 [==============================] - 4s 105ms/step - loss: 1.1395 - accuracy: 0.1938 - val_loss: 1.3458 - val_accuracy: 0.1667\n",
            "Epoch 3/200\n",
            "40/40 [==============================] - 4s 107ms/step - loss: 1.2603 - accuracy: 0.2008 - val_loss: 1.3447 - val_accuracy: 0.1667\n",
            "Epoch 4/200\n",
            "40/40 [==============================] - 4s 106ms/step - loss: 1.1931 - accuracy: 0.1818 - val_loss: 1.3422 - val_accuracy: 0.1667\n",
            "Epoch 5/200\n",
            "40/40 [==============================] - 4s 106ms/step - loss: 1.2049 - accuracy: 0.1812 - val_loss: 1.3349 - val_accuracy: 0.1667\n",
            "Epoch 6/200\n",
            "40/40 [==============================] - 4s 108ms/step - loss: 1.0521 - accuracy: 0.1589 - val_loss: 1.3098 - val_accuracy: 0.1667\n",
            "Epoch 7/200\n",
            "40/40 [==============================] - 4s 106ms/step - loss: 1.1742 - accuracy: 0.1853 - val_loss: 1.2081 - val_accuracy: 0.1667\n",
            "Epoch 8/200\n",
            "40/40 [==============================] - 4s 107ms/step - loss: 0.9405 - accuracy: 0.1740 - val_loss: 0.9935 - val_accuracy: 0.1667\n",
            "Epoch 9/200\n",
            "40/40 [==============================] - 4s 106ms/step - loss: 0.7497 - accuracy: 0.1850 - val_loss: 0.9692 - val_accuracy: 0.1667\n",
            "Epoch 10/200\n",
            "40/40 [==============================] - 4s 107ms/step - loss: 0.7244 - accuracy: 0.1914 - val_loss: 0.9438 - val_accuracy: 0.1667\n",
            "Epoch 11/200\n",
            "40/40 [==============================] - 4s 106ms/step - loss: 0.7265 - accuracy: 0.1838 - val_loss: 0.9273 - val_accuracy: 0.1667\n",
            "Epoch 12/200\n",
            "40/40 [==============================] - 4s 107ms/step - loss: 0.7762 - accuracy: 0.1568 - val_loss: 0.9090 - val_accuracy: 0.1667\n",
            "Epoch 13/200\n",
            "40/40 [==============================] - 4s 107ms/step - loss: 0.7295 - accuracy: 0.2010 - val_loss: 0.9111 - val_accuracy: 0.1667\n",
            "Epoch 14/200\n",
            "40/40 [==============================] - 4s 107ms/step - loss: 0.7782 - accuracy: 0.1928 - val_loss: 0.8957 - val_accuracy: 0.1667\n",
            "Epoch 15/200\n",
            "40/40 [==============================] - 4s 106ms/step - loss: 0.7338 - accuracy: 0.1887 - val_loss: 0.8829 - val_accuracy: 0.1667\n",
            "Epoch 16/200\n",
            "40/40 [==============================] - 4s 107ms/step - loss: 0.7381 - accuracy: 0.1909 - val_loss: 0.8754 - val_accuracy: 0.1667\n",
            "Epoch 17/200\n",
            "40/40 [==============================] - 4s 107ms/step - loss: 0.7198 - accuracy: 0.2030 - val_loss: 0.8606 - val_accuracy: 0.1667\n",
            "Epoch 18/200\n",
            "40/40 [==============================] - 4s 107ms/step - loss: 0.6497 - accuracy: 0.1973 - val_loss: 0.8549 - val_accuracy: 0.1667\n",
            "Epoch 19/200\n",
            "40/40 [==============================] - 4s 105ms/step - loss: 0.6181 - accuracy: 0.1552 - val_loss: 0.8298 - val_accuracy: 0.1667\n",
            "Epoch 20/200\n",
            "40/40 [==============================] - 4s 106ms/step - loss: 0.5910 - accuracy: 0.1787 - val_loss: 0.8683 - val_accuracy: 0.1733\n",
            "Epoch 21/200\n",
            "40/40 [==============================] - 4s 106ms/step - loss: 0.6297 - accuracy: 0.1931 - val_loss: 0.9027 - val_accuracy: 0.1733\n",
            "Epoch 22/200\n",
            "40/40 [==============================] - 4s 108ms/step - loss: 0.7699 - accuracy: 0.1932 - val_loss: 1.0043 - val_accuracy: 0.1600\n",
            "Epoch 23/200\n",
            "40/40 [==============================] - 4s 106ms/step - loss: 0.7092 - accuracy: 0.1667 - val_loss: 0.9903 - val_accuracy: 0.1667\n",
            "Epoch 24/200\n",
            "40/40 [==============================] - 4s 107ms/step - loss: 0.8409 - accuracy: 0.2003 - val_loss: 1.0686 - val_accuracy: 0.1667\n",
            "Epoch 25/200\n",
            "40/40 [==============================] - 4s 106ms/step - loss: 0.7231 - accuracy: 0.2083 - val_loss: 1.1417 - val_accuracy: 0.1933\n",
            "Epoch 26/200\n",
            "40/40 [==============================] - 4s 106ms/step - loss: 0.7608 - accuracy: 0.1873 - val_loss: 1.1878 - val_accuracy: 0.1933\n",
            "Epoch 27/200\n",
            "40/40 [==============================] - 4s 107ms/step - loss: 0.8507 - accuracy: 0.1952 - val_loss: 1.2710 - val_accuracy: 0.1933\n",
            "Epoch 28/200\n",
            "40/40 [==============================] - 4s 107ms/step - loss: 1.0128 - accuracy: 0.2228 - val_loss: 1.3294 - val_accuracy: 0.1933\n",
            "Epoch 29/200\n",
            "40/40 [==============================] - 4s 107ms/step - loss: 0.9269 - accuracy: 0.2037 - val_loss: 1.4060 - val_accuracy: 0.2000\n",
            "Epoch 30/200\n",
            "40/40 [==============================] - 4s 107ms/step - loss: 0.8495 - accuracy: 0.1975 - val_loss: 1.5029 - val_accuracy: 0.1933\n",
            "Epoch 31/200\n",
            "40/40 [==============================] - 4s 106ms/step - loss: 1.0217 - accuracy: 0.2189 - val_loss: 1.6315 - val_accuracy: 0.2000\n",
            "Epoch 32/200\n",
            "40/40 [==============================] - 4s 106ms/step - loss: 0.9167 - accuracy: 0.1961 - val_loss: 1.6690 - val_accuracy: 0.2000\n",
            "Epoch 33/200\n",
            "40/40 [==============================] - 4s 106ms/step - loss: 1.0122 - accuracy: 0.2023 - val_loss: 1.8051 - val_accuracy: 0.2000\n",
            "Epoch 34/200\n",
            "40/40 [==============================] - 4s 106ms/step - loss: 0.8309 - accuracy: 0.1945 - val_loss: 1.8965 - val_accuracy: 0.2067\n",
            "Epoch 35/200\n",
            "40/40 [==============================] - 4s 107ms/step - loss: 1.1802 - accuracy: 0.2001 - val_loss: 2.0039 - val_accuracy: 0.1933\n",
            "Epoch 36/200\n",
            "40/40 [==============================] - 4s 106ms/step - loss: 1.3221 - accuracy: 0.1958 - val_loss: 2.2064 - val_accuracy: 0.2000\n",
            "Epoch 37/200\n",
            "40/40 [==============================] - 4s 107ms/step - loss: 1.0128 - accuracy: 0.2399 - val_loss: 2.3443 - val_accuracy: 0.1867\n",
            "Epoch 38/200\n",
            "40/40 [==============================] - 4s 106ms/step - loss: 0.9502 - accuracy: 0.2121 - val_loss: 2.3911 - val_accuracy: 0.2000\n",
            "Epoch 39/200\n",
            "40/40 [==============================] - 4s 106ms/step - loss: 1.2414 - accuracy: 0.1927 - val_loss: 2.5453 - val_accuracy: 0.2133\n",
            "Epoch 40/200\n",
            "40/40 [==============================] - 4s 107ms/step - loss: 1.2976 - accuracy: 0.1940 - val_loss: 2.6985 - val_accuracy: 0.1933\n",
            "Epoch 41/200\n",
            "40/40 [==============================] - 4s 107ms/step - loss: 1.2988 - accuracy: 0.1993 - val_loss: 2.8552 - val_accuracy: 0.1733\n",
            "Epoch 42/200\n",
            "40/40 [==============================] - 4s 106ms/step - loss: 1.6133 - accuracy: 0.1947 - val_loss: 2.9354 - val_accuracy: 0.1867\n",
            "Epoch 43/200\n",
            "40/40 [==============================] - 4s 107ms/step - loss: 0.8142 - accuracy: 0.1873 - val_loss: 3.0884 - val_accuracy: 0.1867\n",
            "Epoch 44/200\n",
            "40/40 [==============================] - 4s 107ms/step - loss: 1.6590 - accuracy: 0.1851 - val_loss: 3.1889 - val_accuracy: 0.2000\n",
            "Epoch 45/200\n",
            "40/40 [==============================] - 4s 107ms/step - loss: 2.0383 - accuracy: 0.1745 - val_loss: 3.3431 - val_accuracy: 0.1933\n",
            "Epoch 46/200\n",
            "40/40 [==============================] - 4s 107ms/step - loss: 2.3417 - accuracy: 0.1871 - val_loss: 3.5373 - val_accuracy: 0.2000\n",
            "Epoch 47/200\n",
            "40/40 [==============================] - 4s 107ms/step - loss: 2.0904 - accuracy: 0.1903 - val_loss: 3.6425 - val_accuracy: 0.1933\n",
            "Epoch 48/200\n",
            "40/40 [==============================] - 4s 107ms/step - loss: 2.0759 - accuracy: 0.1744 - val_loss: 3.8465 - val_accuracy: 0.1933\n",
            "Epoch 49/200\n",
            "40/40 [==============================] - 4s 108ms/step - loss: 1.5647 - accuracy: 0.1580 - val_loss: 3.9824 - val_accuracy: 0.1667\n",
            "Epoch 50/200\n",
            "40/40 [==============================] - 4s 107ms/step - loss: 2.3008 - accuracy: 0.2193 - val_loss: 4.2315 - val_accuracy: 0.1733\n",
            "Epoch 51/200\n",
            "40/40 [==============================] - 4s 106ms/step - loss: 1.7092 - accuracy: 0.1956 - val_loss: 4.3661 - val_accuracy: 0.1667\n",
            "Epoch 52/200\n",
            "40/40 [==============================] - 4s 108ms/step - loss: 2.6256 - accuracy: 0.1987 - val_loss: 4.5120 - val_accuracy: 0.1933\n",
            "Epoch 53/200\n",
            "40/40 [==============================] - 4s 107ms/step - loss: 1.8736 - accuracy: 0.1866 - val_loss: 4.7343 - val_accuracy: 0.1867\n",
            "Epoch 54/200\n",
            "40/40 [==============================] - 4s 107ms/step - loss: 1.9429 - accuracy: 0.2059 - val_loss: 4.8753 - val_accuracy: 0.1933\n",
            "Epoch 55/200\n",
            "40/40 [==============================] - 4s 107ms/step - loss: 2.4575 - accuracy: 0.1914 - val_loss: 5.0674 - val_accuracy: 0.1667\n",
            "Epoch 56/200\n",
            "40/40 [==============================] - 4s 107ms/step - loss: 2.7539 - accuracy: 0.1930 - val_loss: 5.3639 - val_accuracy: 0.1600\n",
            "Epoch 57/200\n",
            "40/40 [==============================] - 4s 107ms/step - loss: 3.0416 - accuracy: 0.2021 - val_loss: 5.4377 - val_accuracy: 0.1733\n",
            "Epoch 58/200\n",
            "40/40 [==============================] - 4s 107ms/step - loss: 3.3886 - accuracy: 0.2044 - val_loss: 5.6681 - val_accuracy: 0.1867\n",
            "Epoch 59/200\n",
            "40/40 [==============================] - 4s 107ms/step - loss: 2.4608 - accuracy: 0.1942 - val_loss: 5.8082 - val_accuracy: 0.1933\n",
            "Epoch 60/200\n",
            "40/40 [==============================] - 4s 106ms/step - loss: 1.6213 - accuracy: 0.1717 - val_loss: 5.9629 - val_accuracy: 0.1867\n",
            "Epoch 61/200\n",
            "40/40 [==============================] - 4s 107ms/step - loss: 2.2552 - accuracy: 0.2059 - val_loss: 6.2315 - val_accuracy: 0.1733\n",
            "Epoch 62/200\n",
            "40/40 [==============================] - 4s 108ms/step - loss: 3.7009 - accuracy: 0.1754 - val_loss: 6.3573 - val_accuracy: 0.1933\n",
            "Epoch 63/200\n",
            "40/40 [==============================] - 4s 106ms/step - loss: 5.3165 - accuracy: 0.2041 - val_loss: 6.5265 - val_accuracy: 0.1933\n",
            "Epoch 64/200\n",
            "40/40 [==============================] - 4s 106ms/step - loss: 2.5159 - accuracy: 0.2091 - val_loss: 6.7776 - val_accuracy: 0.1667\n",
            "Epoch 65/200\n",
            "40/40 [==============================] - 4s 106ms/step - loss: 2.6823 - accuracy: 0.2131 - val_loss: 7.0179 - val_accuracy: 0.1867\n",
            "Epoch 66/200\n",
            "40/40 [==============================] - 4s 107ms/step - loss: 2.4347 - accuracy: 0.1879 - val_loss: 7.3438 - val_accuracy: 0.1867\n",
            "Epoch 67/200\n",
            "40/40 [==============================] - 4s 108ms/step - loss: 2.3774 - accuracy: 0.1961 - val_loss: 7.3384 - val_accuracy: 0.2067\n",
            "Epoch 68/200\n",
            "40/40 [==============================] - 4s 107ms/step - loss: 3.2846 - accuracy: 0.2034 - val_loss: 7.5183 - val_accuracy: 0.2000\n",
            "Epoch 69/200\n",
            "40/40 [==============================] - 4s 107ms/step - loss: 3.0086 - accuracy: 0.1598 - val_loss: 7.6217 - val_accuracy: 0.2000\n",
            "Epoch 70/200\n",
            "40/40 [==============================] - 4s 108ms/step - loss: 2.3888 - accuracy: 0.1861 - val_loss: 7.8069 - val_accuracy: 0.1800\n",
            "Epoch 71/200\n",
            "40/40 [==============================] - 4s 107ms/step - loss: 4.7381 - accuracy: 0.1682 - val_loss: 8.0805 - val_accuracy: 0.2000\n",
            "Epoch 72/200\n",
            "40/40 [==============================] - 4s 107ms/step - loss: 2.4867 - accuracy: 0.1925 - val_loss: 8.1808 - val_accuracy: 0.1800\n",
            "Epoch 73/200\n",
            "40/40 [==============================] - 4s 107ms/step - loss: 3.9951 - accuracy: 0.1926 - val_loss: 8.3728 - val_accuracy: 0.1733\n",
            "Epoch 74/200\n",
            "40/40 [==============================] - 4s 106ms/step - loss: 3.8701 - accuracy: 0.1731 - val_loss: 8.4827 - val_accuracy: 0.1933\n",
            "Epoch 75/200\n",
            "40/40 [==============================] - 4s 107ms/step - loss: 6.0194 - accuracy: 0.2006 - val_loss: 8.7409 - val_accuracy: 0.1467\n",
            "Epoch 76/200\n",
            "40/40 [==============================] - 4s 106ms/step - loss: 5.0653 - accuracy: 0.1828 - val_loss: 8.6574 - val_accuracy: 0.1600\n",
            "Epoch 77/200\n",
            "40/40 [==============================] - 4s 107ms/step - loss: 4.1378 - accuracy: 0.1869 - val_loss: 8.9298 - val_accuracy: 0.1667\n",
            "Epoch 78/200\n",
            "40/40 [==============================] - 4s 107ms/step - loss: 3.0885 - accuracy: 0.1739 - val_loss: 8.8851 - val_accuracy: 0.2000\n",
            "Epoch 79/200\n",
            "40/40 [==============================] - 4s 107ms/step - loss: 4.7639 - accuracy: 0.1793 - val_loss: 9.0695 - val_accuracy: 0.1667\n",
            "Epoch 80/200\n",
            "40/40 [==============================] - 4s 107ms/step - loss: 5.2054 - accuracy: 0.1857 - val_loss: 9.0443 - val_accuracy: 0.2000\n",
            "Epoch 81/200\n",
            "40/40 [==============================] - 4s 105ms/step - loss: 4.1668 - accuracy: 0.1754 - val_loss: 9.2218 - val_accuracy: 0.1667\n",
            "Epoch 82/200\n",
            "40/40 [==============================] - 5s 114ms/step - loss: 4.0861 - accuracy: 0.1644 - val_loss: 9.4498 - val_accuracy: 0.1733\n",
            "Epoch 83/200\n",
            "40/40 [==============================] - 4s 107ms/step - loss: 2.5036 - accuracy: 0.1642 - val_loss: 9.4177 - val_accuracy: 0.1667\n",
            "Epoch 84/200\n",
            "40/40 [==============================] - 4s 108ms/step - loss: 5.3772 - accuracy: 0.1504 - val_loss: 9.4159 - val_accuracy: 0.1067\n",
            "Epoch 85/200\n",
            "40/40 [==============================] - 4s 107ms/step - loss: 2.8573 - accuracy: 0.1612 - val_loss: 9.3290 - val_accuracy: 0.1533\n",
            "Epoch 86/200\n",
            "40/40 [==============================] - 4s 108ms/step - loss: 6.4602 - accuracy: 0.1788 - val_loss: 9.2650 - val_accuracy: 0.1933\n",
            "Epoch 87/200\n",
            "40/40 [==============================] - 4s 108ms/step - loss: 5.4462 - accuracy: 0.1703 - val_loss: 9.2767 - val_accuracy: 0.1600\n",
            "Epoch 88/200\n",
            "40/40 [==============================] - 4s 107ms/step - loss: 1.9072 - accuracy: 0.1688 - val_loss: 9.5934 - val_accuracy: 0.0600\n",
            "Epoch 89/200\n",
            "40/40 [==============================] - 4s 107ms/step - loss: 3.1613 - accuracy: 0.1509 - val_loss: 9.2442 - val_accuracy: 0.1333\n",
            "Epoch 90/200\n",
            "40/40 [==============================] - 4s 107ms/step - loss: 3.1436 - accuracy: 0.1706 - val_loss: 9.0043 - val_accuracy: 0.1600\n",
            "Epoch 91/200\n",
            "40/40 [==============================] - 4s 107ms/step - loss: 2.4937 - accuracy: 0.1738 - val_loss: 8.9625 - val_accuracy: 0.1867\n",
            "Epoch 92/200\n",
            "40/40 [==============================] - 4s 107ms/step - loss: 2.5294 - accuracy: 0.1695 - val_loss: 8.8551 - val_accuracy: 0.1000\n",
            "Epoch 93/200\n",
            "40/40 [==============================] - 4s 107ms/step - loss: 8.0664 - accuracy: 0.1590 - val_loss: 8.5143 - val_accuracy: 0.1667\n",
            "Epoch 94/200\n",
            "40/40 [==============================] - 4s 108ms/step - loss: 5.3094 - accuracy: 0.1209 - val_loss: 8.2824 - val_accuracy: 0.1667\n",
            "Epoch 95/200\n",
            "40/40 [==============================] - 4s 108ms/step - loss: 1.1846 - accuracy: 0.1634 - val_loss: 8.1443 - val_accuracy: 0.1600\n",
            "Epoch 96/200\n",
            "40/40 [==============================] - 4s 109ms/step - loss: 2.3866 - accuracy: 0.1872 - val_loss: 7.6513 - val_accuracy: 0.2000\n",
            "Epoch 97/200\n",
            "40/40 [==============================] - 4s 108ms/step - loss: 2.6841 - accuracy: 0.1727 - val_loss: 7.4755 - val_accuracy: 0.1600\n",
            "Epoch 98/200\n",
            "40/40 [==============================] - 4s 107ms/step - loss: 4.2642 - accuracy: 0.1820 - val_loss: 7.0977 - val_accuracy: 0.1667\n",
            "Epoch 99/200\n",
            "40/40 [==============================] - 4s 107ms/step - loss: 2.3273 - accuracy: 0.1577 - val_loss: 7.0667 - val_accuracy: 0.2000\n",
            "Epoch 100/200\n",
            "29/40 [====================>.........] - ETA: 1s - loss: 2.5414 - accuracy: 0.1540"
          ],
          "name": "stdout"
        }
      ]
    },
    {
      "cell_type": "code",
      "metadata": {
        "colab": {
          "base_uri": "https://localhost:8080/"
        },
        "id": "RuZcOutTgPc1",
        "outputId": "ccd0e101-e1a1-43d0-b17f-6fc020998300"
      },
      "source": [
        "history.history.keys()"
      ],
      "execution_count": null,
      "outputs": [
        {
          "output_type": "execute_result",
          "data": {
            "text/plain": [
              "dict_keys(['loss', 'accuracy', 'val_loss', 'val_accuracy'])"
            ]
          },
          "metadata": {
            "tags": []
          },
          "execution_count": 44
        }
      ]
    },
    {
      "cell_type": "code",
      "metadata": {
        "id": "w2neTFHdE0nH",
        "colab": {
          "base_uri": "https://localhost:8080/",
          "height": 265
        },
        "outputId": "c708ff53-7a5b-4703-a146-5fb92ff77108"
      },
      "source": [
        "# code for plotting metrics\n",
        "from matplotlib import pyplot\n",
        "\n",
        "# history = model.fit(X, X, epochs=500, batch_size=len(X), verbose=2)\n",
        "# plot metrics\n",
        "pyplot.plot(history.history['loss'])\n",
        "pyplot.plot(history.history['val_loss'])\n",
        "pyplot.show()"
      ],
      "execution_count": null,
      "outputs": [
        {
          "output_type": "display_data",
          "data": {
            "image/png": "[encoded data removed]",
            "text/plain": [
              "<Figure size 432x288 with 1 Axes>"
            ]
          },
          "metadata": {
            "tags": [],
            "needs_background": "light"
          }
        }
      ]
    },
    {
      "cell_type": "code",
      "metadata": {
        "colab": {
          "base_uri": "https://localhost:8080/",
          "height": 265
        },
        "id": "cUEAGaexf0_o",
        "outputId": "b7a88cb9-c1d4-423e-8b99-08283892e558"
      },
      "source": [
        "pyplot.plot(history.history['accuracy'])\n",
        "pyplot.plot(history.history['val_accuracy'])\n",
        "pyplot.show()"
      ],
      "execution_count": null,
      "outputs": [
        {
          "output_type": "display_data",
          "data": {
            "image/png": "[encoded data removed]",
            "text/plain": [
              "<Figure size 432x288 with 1 Axes>"
            ]
          },
          "metadata": {
            "tags": [],
            "needs_background": "light"
          }
        }
      ]
    }
  ]
}